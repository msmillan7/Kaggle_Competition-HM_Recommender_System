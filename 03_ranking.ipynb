{
 "cells": [
  {
   "cell_type": "markdown",
   "id": "767dad92-7bd3-42b5-81a7-82798c2e0cb9",
   "metadata": {},
   "source": [
    "# Candidate Generation and LGBM"
   ]
  },
  {
   "cell_type": "markdown",
   "id": "ad4fe49e-6119-4768-bb56-68a3fdf07a61",
   "metadata": {},
   "source": [
    "## 1. Setup and imports"
   ]
  },
  {
   "cell_type": "markdown",
   "id": "95187996-7f03-488f-91eb-5e29b6376a1e",
   "metadata": {},
   "source": [
    "* pip install pyarrow (for loading parquets)\n",
    "* pip install lightgbm (May require installation of other packages: https://github.com/microsoft/LightGBM/tree/master/python-package)"
   ]
  },
  {
   "cell_type": "code",
   "execution_count": 1,
   "id": "270755bc-df6a-4db8-a053-666ab41e1a8a",
   "metadata": {},
   "outputs": [],
   "source": [
    "import pandas as pd\n",
    "import matplotlib as plt\n",
    "import numpy as np\n",
    "\n",
    "from average_precision import apk, mapk"
   ]
  },
  {
   "cell_type": "code",
   "execution_count": 2,
   "id": "ae277dbd-c0b8-492f-a171-9b52bffd5ab3",
   "metadata": {},
   "outputs": [],
   "source": [
    "# Helper functions for improving memory\n",
    "# https://www.kaggle.com/c/h-and-m-personalized-fashion-recommendations/discussion/308635\n",
    "def hex_id_to_int(str):\n",
    "    return int(str[-16:], 16)\n",
    "\n",
    "def customer_hex_id_to_int(series):\n",
    "    return series.str[-16:].apply(hex_id_to_int)"
   ]
  },
  {
   "cell_type": "markdown",
   "id": "bf35a627-98b2-4579-a0d9-28bda6a98508",
   "metadata": {},
   "source": [
    "All categorical columns in transactions, customers, and articles have been converted into a numerical code within the saved parquet. All NaN values were replaced with -1. LGBM models perform best when the categorical columns are encoded as integers. "
   ]
  },
  {
   "cell_type": "markdown",
   "id": "7a80e23d-1da4-4dc5-bd0a-ca1286e9ed14",
   "metadata": {},
   "source": [
    "## 2. Load data"
   ]
  },
  {
   "cell_type": "code",
   "execution_count": 3,
   "id": "0dbc132c-c973-4c92-b8a0-51fe301ddab8",
   "metadata": {},
   "outputs": [],
   "source": [
    "transactions = pd.read_parquet('data/transactions_train_sample_gt15transactions.parquet')\n",
    "customers = pd.read_parquet('data/customers_sample_gt15transactions.parquet')\n",
    "articles = pd.read_parquet('data/articles_sample_gt15transactions.parquet')"
   ]
  },
  {
   "cell_type": "markdown",
   "id": "ca861858-1c2d-4d8a-a510-d29a0b67b2bc",
   "metadata": {},
   "source": [
    "### Transactions data"
   ]
  },
  {
   "cell_type": "code",
   "execution_count": 4,
   "id": "785a3a59-fe94-43a4-889d-5de81fdfcb90",
   "metadata": {},
   "outputs": [
    {
     "data": {
      "text/html": [
       "<div>\n",
       "<style scoped>\n",
       "    .dataframe tbody tr th:only-of-type {\n",
       "        vertical-align: middle;\n",
       "    }\n",
       "\n",
       "    .dataframe tbody tr th {\n",
       "        vertical-align: top;\n",
       "    }\n",
       "\n",
       "    .dataframe thead th {\n",
       "        text-align: right;\n",
       "    }\n",
       "</style>\n",
       "<table border=\"1\" class=\"dataframe\">\n",
       "  <thead>\n",
       "    <tr style=\"text-align: right;\">\n",
       "      <th></th>\n",
       "      <th>t_dat</th>\n",
       "      <th>customer_id</th>\n",
       "      <th>article_id</th>\n",
       "      <th>price</th>\n",
       "      <th>sales_channel_id</th>\n",
       "      <th>week</th>\n",
       "    </tr>\n",
       "  </thead>\n",
       "  <tbody>\n",
       "    <tr>\n",
       "      <th>0</th>\n",
       "      <td>2018-09-20</td>\n",
       "      <td>1728846800780188</td>\n",
       "      <td>519773001</td>\n",
       "      <td>0.028458</td>\n",
       "      <td>2</td>\n",
       "      <td>0</td>\n",
       "    </tr>\n",
       "    <tr>\n",
       "      <th>1</th>\n",
       "      <td>2018-09-20</td>\n",
       "      <td>1728846800780188</td>\n",
       "      <td>578472001</td>\n",
       "      <td>0.032525</td>\n",
       "      <td>2</td>\n",
       "      <td>0</td>\n",
       "    </tr>\n",
       "    <tr>\n",
       "      <th>2</th>\n",
       "      <td>2018-09-20</td>\n",
       "      <td>2076973761519164</td>\n",
       "      <td>661795002</td>\n",
       "      <td>0.167797</td>\n",
       "      <td>2</td>\n",
       "      <td>0</td>\n",
       "    </tr>\n",
       "    <tr>\n",
       "      <th>3</th>\n",
       "      <td>2018-09-20</td>\n",
       "      <td>2076973761519164</td>\n",
       "      <td>684080003</td>\n",
       "      <td>0.101678</td>\n",
       "      <td>2</td>\n",
       "      <td>0</td>\n",
       "    </tr>\n",
       "    <tr>\n",
       "      <th>4</th>\n",
       "      <td>2018-09-20</td>\n",
       "      <td>2918879973994241</td>\n",
       "      <td>662980001</td>\n",
       "      <td>0.033881</td>\n",
       "      <td>1</td>\n",
       "      <td>0</td>\n",
       "    </tr>\n",
       "  </tbody>\n",
       "</table>\n",
       "</div>"
      ],
      "text/plain": [
       "       t_dat       customer_id  article_id     price  sales_channel_id  week\n",
       "0 2018-09-20  1728846800780188   519773001  0.028458                 2     0\n",
       "1 2018-09-20  1728846800780188   578472001  0.032525                 2     0\n",
       "2 2018-09-20  2076973761519164   661795002  0.167797                 2     0\n",
       "3 2018-09-20  2076973761519164   684080003  0.101678                 2     0\n",
       "4 2018-09-20  2918879973994241   662980001  0.033881                 1     0"
      ]
     },
     "execution_count": 4,
     "metadata": {},
     "output_type": "execute_result"
    }
   ],
   "source": [
    "transactions.head()"
   ]
  },
  {
   "cell_type": "code",
   "execution_count": 5,
   "id": "c4712868-9069-42d2-bc71-e80299ac2128",
   "metadata": {},
   "outputs": [
    {
     "name": "stdout",
     "output_type": "stream",
     "text": [
      "<class 'pandas.core.frame.DataFrame'>\n",
      "RangeIndex: 27113639 entries, 0 to 27113638\n",
      "Data columns (total 6 columns):\n",
      " #   Column            Dtype         \n",
      "---  ------            -----         \n",
      " 0   t_dat             datetime64[ns]\n",
      " 1   customer_id       uint64        \n",
      " 2   article_id        int32         \n",
      " 3   price             float32       \n",
      " 4   sales_channel_id  int8          \n",
      " 5   week              int8          \n",
      "dtypes: datetime64[ns](1), float32(1), int32(1), int8(2), uint64(1)\n",
      "memory usage: 672.3 MB\n"
     ]
    }
   ],
   "source": [
    "transactions.info()"
   ]
  },
  {
   "cell_type": "markdown",
   "id": "7e82388a-1fc3-46e5-a55f-ceda2aec8427",
   "metadata": {},
   "source": [
    "Number of transactions made per week"
   ]
  },
  {
   "cell_type": "code",
   "execution_count": 6,
   "id": "cd3834dc-8e82-4243-91d5-bec9bb0af495",
   "metadata": {},
   "outputs": [
    {
     "data": {
      "text/plain": [
       "<AxesSubplot:title={'center':'Number of Transactions per Week'}>"
      ]
     },
     "execution_count": 6,
     "metadata": {},
     "output_type": "execute_result"
    },
    {
     "data": {
      "image/png": "[encoded data removed]",
      "text/plain": [
       "<Figure size 1440x720 with 1 Axes>"
      ]
     },
     "metadata": {
      "needs_background": "light"
     },
     "output_type": "display_data"
    }
   ],
   "source": [
    "transactions['week']\\\n",
    "    .value_counts()\\\n",
    "    .sort_index()\\\n",
    "    .plot(figsize = (20, 10), kind='bar', title = 'Number of Transactions per Week')"
   ]
  },
  {
   "cell_type": "markdown",
   "id": "118d99cd-3533-4810-aea5-5e46e6111bb9",
   "metadata": {},
   "source": [
    "### Customers data"
   ]
  },
  {
   "cell_type": "code",
   "execution_count": 7,
   "id": "e9438885-2335-4835-a934-30e7be1fad54",
   "metadata": {},
   "outputs": [
    {
     "data": {
      "text/html": [
       "<div>\n",
       "<style scoped>\n",
       "    .dataframe tbody tr th:only-of-type {\n",
       "        vertical-align: middle;\n",
       "    }\n",
       "\n",
       "    .dataframe tbody tr th {\n",
       "        vertical-align: top;\n",
       "    }\n",
       "\n",
       "    .dataframe thead th {\n",
       "        text-align: right;\n",
       "    }\n",
       "</style>\n",
       "<table border=\"1\" class=\"dataframe\">\n",
       "  <thead>\n",
       "    <tr style=\"text-align: right;\">\n",
       "      <th></th>\n",
       "      <th>customer_id</th>\n",
       "      <th>FN</th>\n",
       "      <th>Active</th>\n",
       "      <th>club_member_status</th>\n",
       "      <th>fashion_news_frequency</th>\n",
       "      <th>age</th>\n",
       "      <th>postal_code</th>\n",
       "    </tr>\n",
       "  </thead>\n",
       "  <tbody>\n",
       "    <tr>\n",
       "      <th>0</th>\n",
       "      <td>6883939031699146327</td>\n",
       "      <td>-1</td>\n",
       "      <td>-1</td>\n",
       "      <td>0</td>\n",
       "      <td>0</td>\n",
       "      <td>49</td>\n",
       "      <td>6305</td>\n",
       "    </tr>\n",
       "    <tr>\n",
       "      <th>1</th>\n",
       "      <td>11246327431398957306</td>\n",
       "      <td>-1</td>\n",
       "      <td>-1</td>\n",
       "      <td>0</td>\n",
       "      <td>0</td>\n",
       "      <td>25</td>\n",
       "      <td>33726</td>\n",
       "    </tr>\n",
       "    <tr>\n",
       "      <th>2</th>\n",
       "      <td>18439897732908966680</td>\n",
       "      <td>-1</td>\n",
       "      <td>-1</td>\n",
       "      <td>0</td>\n",
       "      <td>0</td>\n",
       "      <td>24</td>\n",
       "      <td>3247</td>\n",
       "    </tr>\n",
       "    <tr>\n",
       "      <th>3</th>\n",
       "      <td>10112112306570742978</td>\n",
       "      <td>1</td>\n",
       "      <td>1</td>\n",
       "      <td>0</td>\n",
       "      <td>1</td>\n",
       "      <td>32</td>\n",
       "      <td>80340</td>\n",
       "    </tr>\n",
       "    <tr>\n",
       "      <th>4</th>\n",
       "      <td>14916087826260610165</td>\n",
       "      <td>1</td>\n",
       "      <td>1</td>\n",
       "      <td>0</td>\n",
       "      <td>1</td>\n",
       "      <td>56</td>\n",
       "      <td>284766</td>\n",
       "    </tr>\n",
       "  </tbody>\n",
       "</table>\n",
       "</div>"
      ],
      "text/plain": [
       "            customer_id  FN  Active  club_member_status  \\\n",
       "0   6883939031699146327  -1      -1                   0   \n",
       "1  11246327431398957306  -1      -1                   0   \n",
       "2  18439897732908966680  -1      -1                   0   \n",
       "3  10112112306570742978   1       1                   0   \n",
       "4  14916087826260610165   1       1                   0   \n",
       "\n",
       "   fashion_news_frequency  age  postal_code  \n",
       "0                       0   49         6305  \n",
       "1                       0   25        33726  \n",
       "2                       0   24         3247  \n",
       "3                       1   32        80340  \n",
       "4                       1   56       284766  "
      ]
     },
     "execution_count": 7,
     "metadata": {},
     "output_type": "execute_result"
    }
   ],
   "source": [
    "customers.head()"
   ]
  },
  {
   "cell_type": "code",
   "execution_count": 8,
   "id": "b97a8445-cf23-4aa3-ac06-c7da89aa63c8",
   "metadata": {},
   "outputs": [
    {
     "name": "stdout",
     "output_type": "stream",
     "text": [
      "<class 'pandas.core.frame.DataFrame'>\n",
      "RangeIndex: 513076 entries, 0 to 513075\n",
      "Data columns (total 7 columns):\n",
      " #   Column                  Non-Null Count   Dtype \n",
      "---  ------                  --------------   ----- \n",
      " 0   customer_id             513076 non-null  uint64\n",
      " 1   FN                      513076 non-null  int8  \n",
      " 2   Active                  513076 non-null  int8  \n",
      " 3   club_member_status      513076 non-null  int8  \n",
      " 4   fashion_news_frequency  513076 non-null  int8  \n",
      " 5   age                     513076 non-null  int8  \n",
      " 6   postal_code             513076 non-null  int32 \n",
      "dtypes: int32(1), int8(5), uint64(1)\n",
      "memory usage: 8.3 MB\n"
     ]
    }
   ],
   "source": [
    "customers.info()"
   ]
  },
  {
   "cell_type": "markdown",
   "id": "c4b9dee1-70f7-402b-aeac-2100fa13a25a",
   "metadata": {},
   "source": [
    "### Articles data"
   ]
  },
  {
   "cell_type": "code",
   "execution_count": 9,
   "id": "34f28378-fda6-4754-bb4b-913a02b82bcb",
   "metadata": {},
   "outputs": [
    {
     "data": {
      "text/html": [
       "<div>\n",
       "<style scoped>\n",
       "    .dataframe tbody tr th:only-of-type {\n",
       "        vertical-align: middle;\n",
       "    }\n",
       "\n",
       "    .dataframe tbody tr th {\n",
       "        vertical-align: top;\n",
       "    }\n",
       "\n",
       "    .dataframe thead th {\n",
       "        text-align: right;\n",
       "    }\n",
       "</style>\n",
       "<table border=\"1\" class=\"dataframe\">\n",
       "  <thead>\n",
       "    <tr style=\"text-align: right;\">\n",
       "      <th></th>\n",
       "      <th>article_id</th>\n",
       "      <th>product_code</th>\n",
       "      <th>prod_name</th>\n",
       "      <th>product_type_no</th>\n",
       "      <th>product_type_name</th>\n",
       "      <th>product_group_name</th>\n",
       "      <th>graphical_appearance_no</th>\n",
       "      <th>graphical_appearance_name</th>\n",
       "      <th>colour_group_code</th>\n",
       "      <th>colour_group_name</th>\n",
       "      <th>...</th>\n",
       "      <th>department_name</th>\n",
       "      <th>index_code</th>\n",
       "      <th>index_name</th>\n",
       "      <th>index_group_no</th>\n",
       "      <th>index_group_name</th>\n",
       "      <th>section_no</th>\n",
       "      <th>section_name</th>\n",
       "      <th>garment_group_no</th>\n",
       "      <th>garment_group_name</th>\n",
       "      <th>detail_desc</th>\n",
       "    </tr>\n",
       "  </thead>\n",
       "  <tbody>\n",
       "    <tr>\n",
       "      <th>0</th>\n",
       "      <td>108775015</td>\n",
       "      <td>108775</td>\n",
       "      <td>12855</td>\n",
       "      <td>253</td>\n",
       "      <td>9</td>\n",
       "      <td>0</td>\n",
       "      <td>1010016</td>\n",
       "      <td>0</td>\n",
       "      <td>9</td>\n",
       "      <td>0</td>\n",
       "      <td>...</td>\n",
       "      <td>10</td>\n",
       "      <td>0</td>\n",
       "      <td>0</td>\n",
       "      <td>1</td>\n",
       "      <td>0</td>\n",
       "      <td>16</td>\n",
       "      <td>30</td>\n",
       "      <td>1002</td>\n",
       "      <td>2</td>\n",
       "      <td>8834</td>\n",
       "    </tr>\n",
       "    <tr>\n",
       "      <th>1</th>\n",
       "      <td>108775044</td>\n",
       "      <td>108775</td>\n",
       "      <td>12855</td>\n",
       "      <td>253</td>\n",
       "      <td>9</td>\n",
       "      <td>0</td>\n",
       "      <td>1010016</td>\n",
       "      <td>0</td>\n",
       "      <td>10</td>\n",
       "      <td>2</td>\n",
       "      <td>...</td>\n",
       "      <td>10</td>\n",
       "      <td>0</td>\n",
       "      <td>0</td>\n",
       "      <td>1</td>\n",
       "      <td>0</td>\n",
       "      <td>16</td>\n",
       "      <td>30</td>\n",
       "      <td>1002</td>\n",
       "      <td>2</td>\n",
       "      <td>8834</td>\n",
       "    </tr>\n",
       "    <tr>\n",
       "      <th>2</th>\n",
       "      <td>108775051</td>\n",
       "      <td>108775</td>\n",
       "      <td>44846</td>\n",
       "      <td>253</td>\n",
       "      <td>9</td>\n",
       "      <td>0</td>\n",
       "      <td>1010017</td>\n",
       "      <td>3</td>\n",
       "      <td>11</td>\n",
       "      <td>11</td>\n",
       "      <td>...</td>\n",
       "      <td>10</td>\n",
       "      <td>0</td>\n",
       "      <td>0</td>\n",
       "      <td>1</td>\n",
       "      <td>0</td>\n",
       "      <td>16</td>\n",
       "      <td>30</td>\n",
       "      <td>1002</td>\n",
       "      <td>2</td>\n",
       "      <td>8834</td>\n",
       "    </tr>\n",
       "    <tr>\n",
       "      <th>3</th>\n",
       "      <td>110065001</td>\n",
       "      <td>110065</td>\n",
       "      <td>8159</td>\n",
       "      <td>306</td>\n",
       "      <td>13</td>\n",
       "      <td>4</td>\n",
       "      <td>1010016</td>\n",
       "      <td>0</td>\n",
       "      <td>9</td>\n",
       "      <td>0</td>\n",
       "      <td>...</td>\n",
       "      <td>131</td>\n",
       "      <td>7</td>\n",
       "      <td>7</td>\n",
       "      <td>1</td>\n",
       "      <td>0</td>\n",
       "      <td>61</td>\n",
       "      <td>5</td>\n",
       "      <td>1017</td>\n",
       "      <td>4</td>\n",
       "      <td>8243</td>\n",
       "    </tr>\n",
       "    <tr>\n",
       "      <th>4</th>\n",
       "      <td>110065002</td>\n",
       "      <td>110065</td>\n",
       "      <td>8159</td>\n",
       "      <td>306</td>\n",
       "      <td>13</td>\n",
       "      <td>4</td>\n",
       "      <td>1010016</td>\n",
       "      <td>0</td>\n",
       "      <td>10</td>\n",
       "      <td>2</td>\n",
       "      <td>...</td>\n",
       "      <td>131</td>\n",
       "      <td>7</td>\n",
       "      <td>7</td>\n",
       "      <td>1</td>\n",
       "      <td>0</td>\n",
       "      <td>61</td>\n",
       "      <td>5</td>\n",
       "      <td>1017</td>\n",
       "      <td>4</td>\n",
       "      <td>8243</td>\n",
       "    </tr>\n",
       "  </tbody>\n",
       "</table>\n",
       "<p>5 rows × 25 columns</p>\n",
       "</div>"
      ],
      "text/plain": [
       "   article_id  product_code  prod_name  product_type_no  product_type_name  \\\n",
       "0   108775015        108775      12855              253                  9   \n",
       "1   108775044        108775      12855              253                  9   \n",
       "2   108775051        108775      44846              253                  9   \n",
       "3   110065001        110065       8159              306                 13   \n",
       "4   110065002        110065       8159              306                 13   \n",
       "\n",
       "   product_group_name  graphical_appearance_no  graphical_appearance_name  \\\n",
       "0                   0                  1010016                          0   \n",
       "1                   0                  1010016                          0   \n",
       "2                   0                  1010017                          3   \n",
       "3                   4                  1010016                          0   \n",
       "4                   4                  1010016                          0   \n",
       "\n",
       "   colour_group_code  colour_group_name  ...  department_name  index_code  \\\n",
       "0                  9                  0  ...               10           0   \n",
       "1                 10                  2  ...               10           0   \n",
       "2                 11                 11  ...               10           0   \n",
       "3                  9                  0  ...              131           7   \n",
       "4                 10                  2  ...              131           7   \n",
       "\n",
       "   index_name  index_group_no  index_group_name  section_no  section_name  \\\n",
       "0           0               1                 0          16            30   \n",
       "1           0               1                 0          16            30   \n",
       "2           0               1                 0          16            30   \n",
       "3           7               1                 0          61             5   \n",
       "4           7               1                 0          61             5   \n",
       "\n",
       "   garment_group_no  garment_group_name  detail_desc  \n",
       "0              1002                   2         8834  \n",
       "1              1002                   2         8834  \n",
       "2              1002                   2         8834  \n",
       "3              1017                   4         8243  \n",
       "4              1017                   4         8243  \n",
       "\n",
       "[5 rows x 25 columns]"
      ]
     },
     "execution_count": 9,
     "metadata": {},
     "output_type": "execute_result"
    }
   ],
   "source": [
    "articles.head()"
   ]
  },
  {
   "cell_type": "code",
   "execution_count": 10,
   "id": "0cf853a7-a3f6-4fb3-8f30-88712a6625f1",
   "metadata": {},
   "outputs": [
    {
     "name": "stdout",
     "output_type": "stream",
     "text": [
      "<class 'pandas.core.frame.DataFrame'>\n",
      "RangeIndex: 103570 entries, 0 to 103569\n",
      "Data columns (total 25 columns):\n",
      " #   Column                        Non-Null Count   Dtype\n",
      "---  ------                        --------------   -----\n",
      " 0   article_id                    103570 non-null  int32\n",
      " 1   product_code                  103570 non-null  int32\n",
      " 2   prod_name                     103570 non-null  int32\n",
      " 3   product_type_no               103570 non-null  int32\n",
      " 4   product_type_name             103570 non-null  int16\n",
      " 5   product_group_name            103570 non-null  int8 \n",
      " 6   graphical_appearance_no       103570 non-null  int32\n",
      " 7   graphical_appearance_name     103570 non-null  int8 \n",
      " 8   colour_group_code             103570 non-null  int32\n",
      " 9   colour_group_name             103570 non-null  int8 \n",
      " 10  perceived_colour_value_id     103570 non-null  int32\n",
      " 11  perceived_colour_value_name   103570 non-null  int8 \n",
      " 12  perceived_colour_master_id    103570 non-null  int32\n",
      " 13  perceived_colour_master_name  103570 non-null  int8 \n",
      " 14  department_no                 103570 non-null  int32\n",
      " 15  department_name               103570 non-null  int16\n",
      " 16  index_code                    103570 non-null  int8 \n",
      " 17  index_name                    103570 non-null  int8 \n",
      " 18  index_group_no                103570 non-null  int32\n",
      " 19  index_group_name              103570 non-null  int8 \n",
      " 20  section_no                    103570 non-null  int32\n",
      " 21  section_name                  103570 non-null  int8 \n",
      " 22  garment_group_no              103570 non-null  int32\n",
      " 23  garment_group_name            103570 non-null  int8 \n",
      " 24  detail_desc                   103570 non-null  int32\n",
      "dtypes: int16(2), int32(13), int8(10)\n",
      "memory usage: 6.5 MB\n"
     ]
    }
   ],
   "source": [
    "articles.info()"
   ]
  },
  {
   "cell_type": "markdown",
   "id": "c908982c-205a-470a-af41-d5183dacc8b9",
   "metadata": {},
   "source": [
    "## 5. Train, validation, test split"
   ]
  },
  {
   "cell_type": "markdown",
   "id": "8996348d-1857-498b-8a76-9d347400cae1",
   "metadata": {},
   "source": [
    "\"Leave One Last Item\" train, validation, test split from https://arxiv.org/pdf/2007.13237.pdf"
   ]
  },
  {
   "cell_type": "markdown",
   "id": "07abb995-c959-4d3f-b8c7-08cc17a10564",
   "metadata": {},
   "source": [
    "TODO - Make sure Marina's collaborative filtering only uses the data from the train transactions"
   ]
  },
  {
   "cell_type": "code",
   "execution_count": 11,
   "id": "ce3a4554-702f-4b8d-bd4b-7c43ab7a113e",
   "metadata": {},
   "outputs": [],
   "source": [
    "val_week = transactions[\"week\"].max() # Last week in the training set\n",
    "\n",
    "# train/ val transactions sets\n",
    "train_transactions = transactions[transactions[\"week\"] != val_week] \n",
    "val_transactions = transactions[transactions[\"week\"] == val_week].reset_index(drop = True)"
   ]
  },
  {
   "cell_type": "code",
   "execution_count": 12,
   "id": "9d74f23e-6c37-4225-8e32-dddf7e3f8567",
   "metadata": {},
   "outputs": [
    {
     "data": {
      "text/plain": [
       "(26917851, 6)"
      ]
     },
     "execution_count": 12,
     "metadata": {},
     "output_type": "execute_result"
    }
   ],
   "source": [
    "train_transactions.shape"
   ]
  },
  {
   "cell_type": "code",
   "execution_count": 13,
   "id": "98a468bd-3a22-4fa2-ad69-c95b42447d46",
   "metadata": {},
   "outputs": [
    {
     "data": {
      "text/plain": [
       "(195788, 6)"
      ]
     },
     "execution_count": 13,
     "metadata": {},
     "output_type": "execute_result"
    }
   ],
   "source": [
    "val_transactions.shape"
   ]
  },
  {
   "cell_type": "markdown",
   "id": "c5ca2798-1456-43fc-a6c2-62adfe36c58c",
   "metadata": {},
   "source": [
    "## 6. Candidate Generation"
   ]
  },
  {
   "cell_type": "markdown",
   "id": "a5ea0968-e6a9-4d25-b2a5-028f1b6d643c",
   "metadata": {},
   "source": [
    "df with each customers last transaction. This will be the base df that we will merge all generated candidates into"
   ]
  },
  {
   "cell_type": "code",
   "execution_count": 14,
   "id": "4c5bc284-a56e-481f-a656-70fb0cc16622",
   "metadata": {},
   "outputs": [
    {
     "data": {
      "text/plain": [
       "51563"
      ]
     },
     "execution_count": 14,
     "metadata": {},
     "output_type": "execute_result"
    }
   ],
   "source": [
    "# The transaction of each customers last transaction\n",
    "unique_customers = transactions \\\n",
    "    .groupby(['customer_id']) \\\n",
    "    .tail(1) \\\n",
    "    .drop(columns=['article_id', 'price']) \\\n",
    "    .copy()\n",
    "unique_customers['week'].value_counts()[104]"
   ]
  },
  {
   "cell_type": "markdown",
   "id": "cd2f6ca4-6b72-4a89-9d63-edc81eb977ef",
   "metadata": {},
   "source": [
    "### 6.1 Collaborative Filtering Results"
   ]
  },
  {
   "cell_type": "markdown",
   "id": "3c5d6cdf-9610-45e5-81bf-18834e99ccbd",
   "metadata": {},
   "source": [
    "Read collaborative filtering csv results"
   ]
  },
  {
   "cell_type": "code",
   "execution_count": 15,
   "id": "f835c5a8-57dc-41db-ab8e-e685fde36b6a",
   "metadata": {},
   "outputs": [
    {
     "data": {
      "text/html": [
       "<div>\n",
       "<style scoped>\n",
       "    .dataframe tbody tr th:only-of-type {\n",
       "        vertical-align: middle;\n",
       "    }\n",
       "\n",
       "    .dataframe tbody tr th {\n",
       "        vertical-align: top;\n",
       "    }\n",
       "\n",
       "    .dataframe thead th {\n",
       "        text-align: right;\n",
       "    }\n",
       "</style>\n",
       "<table border=\"1\" class=\"dataframe\">\n",
       "  <thead>\n",
       "    <tr style=\"text-align: right;\">\n",
       "      <th></th>\n",
       "      <th>costumer_id</th>\n",
       "      <th>recom_articles</th>\n",
       "    </tr>\n",
       "  </thead>\n",
       "  <tbody>\n",
       "    <tr>\n",
       "      <th>0</th>\n",
       "      <td>31585195778922258</td>\n",
       "      <td>[704128001, 825600002, 736672003, 761248002, 3...</td>\n",
       "    </tr>\n",
       "    <tr>\n",
       "      <th>1</th>\n",
       "      <td>115839770399079596</td>\n",
       "      <td>[938624001, 644288001, 490176002, 399136004, 4...</td>\n",
       "    </tr>\n",
       "    <tr>\n",
       "      <th>2</th>\n",
       "      <td>272085172814114531</td>\n",
       "      <td>[706016001, 674400001, 355072003, 775328008, 8...</td>\n",
       "    </tr>\n",
       "    <tr>\n",
       "      <th>3</th>\n",
       "      <td>498133084769137863</td>\n",
       "      <td>[729808002, 727616003, 879248004, 853792005, 6...</td>\n",
       "    </tr>\n",
       "    <tr>\n",
       "      <th>4</th>\n",
       "      <td>510252261938392406</td>\n",
       "      <td>[818320001, 637515010, 804496002, 762096004, 8...</td>\n",
       "    </tr>\n",
       "  </tbody>\n",
       "</table>\n",
       "</div>"
      ],
      "text/plain": [
       "          costumer_id                                     recom_articles\n",
       "0   31585195778922258  [704128001, 825600002, 736672003, 761248002, 3...\n",
       "1  115839770399079596  [938624001, 644288001, 490176002, 399136004, 4...\n",
       "2  272085172814114531  [706016001, 674400001, 355072003, 775328008, 8...\n",
       "3  498133084769137863  [729808002, 727616003, 879248004, 853792005, 6...\n",
       "4  510252261938392406  [818320001, 637515010, 804496002, 762096004, 8..."
      ]
     },
     "execution_count": 15,
     "metadata": {},
     "output_type": "execute_result"
    }
   ],
   "source": [
    "customers_rec_articles = pd.read_csv(\"costumers_rec_articles_fixed.csv\")\n",
    "customers_rec_articles.head()"
   ]
  },
  {
   "cell_type": "code",
   "execution_count": 16,
   "id": "47a90671-d57c-4712-9b36-8246006c1311",
   "metadata": {},
   "outputs": [
    {
     "name": "stdout",
     "output_type": "stream",
     "text": [
      "<class 'pandas.core.frame.DataFrame'>\n",
      "RangeIndex: 1105 entries, 0 to 1104\n",
      "Data columns (total 2 columns):\n",
      " #   Column          Non-Null Count  Dtype \n",
      "---  ------          --------------  ----- \n",
      " 0   costumer_id     1105 non-null   uint64\n",
      " 1   recom_articles  1105 non-null   object\n",
      "dtypes: object(1), uint64(1)\n",
      "memory usage: 17.4+ KB\n"
     ]
    }
   ],
   "source": [
    "customers_rec_articles.info()"
   ]
  },
  {
   "cell_type": "markdown",
   "id": "0d93ad20-ed8f-43d4-a7ad-f3e293c6c923",
   "metadata": {},
   "source": [
    "Rename and reorder columns"
   ]
  },
  {
   "cell_type": "code",
   "execution_count": 17,
   "id": "e5142875-ed45-417c-8a4b-7a70910c3041",
   "metadata": {},
   "outputs": [
    {
     "data": {
      "text/html": [
       "<div>\n",
       "<style scoped>\n",
       "    .dataframe tbody tr th:only-of-type {\n",
       "        vertical-align: middle;\n",
       "    }\n",
       "\n",
       "    .dataframe tbody tr th {\n",
       "        vertical-align: top;\n",
       "    }\n",
       "\n",
       "    .dataframe thead th {\n",
       "        text-align: right;\n",
       "    }\n",
       "</style>\n",
       "<table border=\"1\" class=\"dataframe\">\n",
       "  <thead>\n",
       "    <tr style=\"text-align: right;\">\n",
       "      <th></th>\n",
       "      <th>customer_id</th>\n",
       "      <th>recom_articles</th>\n",
       "    </tr>\n",
       "  </thead>\n",
       "  <tbody>\n",
       "    <tr>\n",
       "      <th>0</th>\n",
       "      <td>31585195778922258</td>\n",
       "      <td>[704128001, 825600002, 736672003, 761248002, 3...</td>\n",
       "    </tr>\n",
       "    <tr>\n",
       "      <th>1</th>\n",
       "      <td>115839770399079596</td>\n",
       "      <td>[938624001, 644288001, 490176002, 399136004, 4...</td>\n",
       "    </tr>\n",
       "    <tr>\n",
       "      <th>2</th>\n",
       "      <td>272085172814114531</td>\n",
       "      <td>[706016001, 674400001, 355072003, 775328008, 8...</td>\n",
       "    </tr>\n",
       "    <tr>\n",
       "      <th>3</th>\n",
       "      <td>498133084769137863</td>\n",
       "      <td>[729808002, 727616003, 879248004, 853792005, 6...</td>\n",
       "    </tr>\n",
       "    <tr>\n",
       "      <th>4</th>\n",
       "      <td>510252261938392406</td>\n",
       "      <td>[818320001, 637515010, 804496002, 762096004, 8...</td>\n",
       "    </tr>\n",
       "  </tbody>\n",
       "</table>\n",
       "</div>"
      ],
      "text/plain": [
       "          customer_id                                     recom_articles\n",
       "0   31585195778922258  [704128001, 825600002, 736672003, 761248002, 3...\n",
       "1  115839770399079596  [938624001, 644288001, 490176002, 399136004, 4...\n",
       "2  272085172814114531  [706016001, 674400001, 355072003, 775328008, 8...\n",
       "3  498133084769137863  [729808002, 727616003, 879248004, 853792005, 6...\n",
       "4  510252261938392406  [818320001, 637515010, 804496002, 762096004, 8..."
      ]
     },
     "execution_count": 17,
     "metadata": {},
     "output_type": "execute_result"
    }
   ],
   "source": [
    "customers_rec_articles['customer_id'] = customers_rec_articles['costumer_id']\n",
    "customers_rec_articles = customers_rec_articles.drop('costumer_id', axis = 1) # Rename column to correct costumer to customer\n",
    "customers_rec_articles = customers_rec_articles[['customer_id', 'recom_articles']] # reorder columns\n",
    "customers_rec_articles.head()"
   ]
  },
  {
   "cell_type": "markdown",
   "id": "2e2e50d4-09ed-446a-9a34-b8126be95f27",
   "metadata": {},
   "source": [
    "Merge the recommended articles with the transaction data to generate negative samples"
   ]
  },
  {
   "cell_type": "code",
   "execution_count": 18,
   "id": "5e0ef2ed-6b9a-4d83-97ed-e613f72cccab",
   "metadata": {},
   "outputs": [
    {
     "data": {
      "text/html": [
       "<div>\n",
       "<style scoped>\n",
       "    .dataframe tbody tr th:only-of-type {\n",
       "        vertical-align: middle;\n",
       "    }\n",
       "\n",
       "    .dataframe tbody tr th {\n",
       "        vertical-align: top;\n",
       "    }\n",
       "\n",
       "    .dataframe thead th {\n",
       "        text-align: right;\n",
       "    }\n",
       "</style>\n",
       "<table border=\"1\" class=\"dataframe\">\n",
       "  <thead>\n",
       "    <tr style=\"text-align: right;\">\n",
       "      <th></th>\n",
       "      <th>t_dat</th>\n",
       "      <th>customer_id</th>\n",
       "      <th>sales_channel_id</th>\n",
       "      <th>week</th>\n",
       "      <th>recom_articles</th>\n",
       "    </tr>\n",
       "  </thead>\n",
       "  <tbody>\n",
       "    <tr>\n",
       "      <th>0</th>\n",
       "      <td>2019-10-16</td>\n",
       "      <td>17685829231157282976</td>\n",
       "      <td>2</td>\n",
       "      <td>56</td>\n",
       "      <td>[878720001, 836480003, 708352004, 408875020, 6...</td>\n",
       "    </tr>\n",
       "    <tr>\n",
       "      <th>1</th>\n",
       "      <td>2019-10-16</td>\n",
       "      <td>17685829231157282976</td>\n",
       "      <td>2</td>\n",
       "      <td>56</td>\n",
       "      <td>[]</td>\n",
       "    </tr>\n",
       "    <tr>\n",
       "      <th>2</th>\n",
       "      <td>2019-10-16</td>\n",
       "      <td>17685829231157282976</td>\n",
       "      <td>2</td>\n",
       "      <td>56</td>\n",
       "      <td>[]</td>\n",
       "    </tr>\n",
       "    <tr>\n",
       "      <th>3</th>\n",
       "      <td>2019-10-16</td>\n",
       "      <td>17685829231157282976</td>\n",
       "      <td>2</td>\n",
       "      <td>56</td>\n",
       "      <td>[878720001, 836480003, 708352004, 408875020, 6...</td>\n",
       "    </tr>\n",
       "    <tr>\n",
       "      <th>4</th>\n",
       "      <td>2019-10-16</td>\n",
       "      <td>17685829231157282976</td>\n",
       "      <td>2</td>\n",
       "      <td>56</td>\n",
       "      <td>[878720001, 836480003, 708352004, 408875020, 6...</td>\n",
       "    </tr>\n",
       "  </tbody>\n",
       "</table>\n",
       "</div>"
      ],
      "text/plain": [
       "       t_dat           customer_id  sales_channel_id  week  \\\n",
       "0 2019-10-16  17685829231157282976                 2    56   \n",
       "1 2019-10-16  17685829231157282976                 2    56   \n",
       "2 2019-10-16  17685829231157282976                 2    56   \n",
       "3 2019-10-16  17685829231157282976                 2    56   \n",
       "4 2019-10-16  17685829231157282976                 2    56   \n",
       "\n",
       "                                      recom_articles  \n",
       "0  [878720001, 836480003, 708352004, 408875020, 6...  \n",
       "1                                                 []  \n",
       "2                                                 []  \n",
       "3  [878720001, 836480003, 708352004, 408875020, 6...  \n",
       "4  [878720001, 836480003, 708352004, 408875020, 6...  "
      ]
     },
     "execution_count": 18,
     "metadata": {},
     "output_type": "execute_result"
    }
   ],
   "source": [
    "collab_candidates = pd.merge(\n",
    "    unique_customers, # base df to merge all results into\n",
    "    customers_rec_articles, # collaborative filtering results\n",
    "    on='customer_id'\n",
    ")\n",
    "\n",
    "collab_candidates.head()"
   ]
  },
  {
   "cell_type": "markdown",
   "id": "0f861938-c9ba-4193-b6ef-e42d430a6deb",
   "metadata": {},
   "source": [
    "recom_articles column is a list as a *string* type. We could resolve this by saving the recommendations as a pickle file instead of a csv. <br>\n",
    "Alternatively, we can use json (as shown below) to convert the data into a list (of list type) as desired"
   ]
  },
  {
   "cell_type": "code",
   "execution_count": 19,
   "id": "c200f6ac-4eef-4974-9599-125c3fb15107",
   "metadata": {},
   "outputs": [],
   "source": [
    "import json\n",
    "collab_candidates['recom_articles'] = collab_candidates['recom_articles'].apply(lambda x: json.loads(x))"
   ]
  },
  {
   "cell_type": "markdown",
   "id": "399b3e1c-9222-4cae-a67e-68d541f4423f",
   "metadata": {},
   "source": [
    "Create one row per customer_id, article_id combination"
   ]
  },
  {
   "cell_type": "code",
   "execution_count": 20,
   "id": "095a6957-0e77-4244-a336-2606be1ceaa2",
   "metadata": {},
   "outputs": [
    {
     "data": {
      "text/html": [
       "<div>\n",
       "<style scoped>\n",
       "    .dataframe tbody tr th:only-of-type {\n",
       "        vertical-align: middle;\n",
       "    }\n",
       "\n",
       "    .dataframe tbody tr th {\n",
       "        vertical-align: top;\n",
       "    }\n",
       "\n",
       "    .dataframe thead th {\n",
       "        text-align: right;\n",
       "    }\n",
       "</style>\n",
       "<table border=\"1\" class=\"dataframe\">\n",
       "  <thead>\n",
       "    <tr style=\"text-align: right;\">\n",
       "      <th></th>\n",
       "      <th>t_dat</th>\n",
       "      <th>customer_id</th>\n",
       "      <th>sales_channel_id</th>\n",
       "      <th>week</th>\n",
       "      <th>article_id</th>\n",
       "    </tr>\n",
       "  </thead>\n",
       "  <tbody>\n",
       "    <tr>\n",
       "      <th>0</th>\n",
       "      <td>2019-10-16</td>\n",
       "      <td>17685829231157282976</td>\n",
       "      <td>2</td>\n",
       "      <td>56</td>\n",
       "      <td>878720001</td>\n",
       "    </tr>\n",
       "    <tr>\n",
       "      <th>1</th>\n",
       "      <td>2019-10-16</td>\n",
       "      <td>17685829231157282976</td>\n",
       "      <td>2</td>\n",
       "      <td>56</td>\n",
       "      <td>836480003</td>\n",
       "    </tr>\n",
       "    <tr>\n",
       "      <th>2</th>\n",
       "      <td>2019-10-16</td>\n",
       "      <td>17685829231157282976</td>\n",
       "      <td>2</td>\n",
       "      <td>56</td>\n",
       "      <td>708352004</td>\n",
       "    </tr>\n",
       "    <tr>\n",
       "      <th>3</th>\n",
       "      <td>2019-10-16</td>\n",
       "      <td>17685829231157282976</td>\n",
       "      <td>2</td>\n",
       "      <td>56</td>\n",
       "      <td>408875020</td>\n",
       "    </tr>\n",
       "    <tr>\n",
       "      <th>4</th>\n",
       "      <td>2019-10-16</td>\n",
       "      <td>17685829231157282976</td>\n",
       "      <td>2</td>\n",
       "      <td>56</td>\n",
       "      <td>628927001</td>\n",
       "    </tr>\n",
       "  </tbody>\n",
       "</table>\n",
       "</div>"
      ],
      "text/plain": [
       "       t_dat           customer_id  sales_channel_id  week article_id\n",
       "0 2019-10-16  17685829231157282976                 2    56  878720001\n",
       "1 2019-10-16  17685829231157282976                 2    56  836480003\n",
       "2 2019-10-16  17685829231157282976                 2    56  708352004\n",
       "3 2019-10-16  17685829231157282976                 2    56  408875020\n",
       "4 2019-10-16  17685829231157282976                 2    56  628927001"
      ]
     },
     "execution_count": 20,
     "metadata": {},
     "output_type": "execute_result"
    }
   ],
   "source": [
    "collab_candidates = collab_candidates.explode('recom_articles').reset_index(drop=True)\n",
    "collab_candidates['article_id'] = collab_candidates['recom_articles']\n",
    "collab_candidates = collab_candidates.drop('recom_articles', axis = 1)\n",
    "collab_candidates.head()"
   ]
  },
  {
   "cell_type": "code",
   "execution_count": 21,
   "id": "3b2c5b6f-23b3-4c92-a2cb-1929334f9239",
   "metadata": {},
   "outputs": [
    {
     "name": "stdout",
     "output_type": "stream",
     "text": [
      "<class 'pandas.core.frame.DataFrame'>\n",
      "RangeIndex: 50479 entries, 0 to 50478\n",
      "Data columns (total 5 columns):\n",
      " #   Column            Non-Null Count  Dtype         \n",
      "---  ------            --------------  -----         \n",
      " 0   t_dat             50479 non-null  datetime64[ns]\n",
      " 1   customer_id       50479 non-null  uint64        \n",
      " 2   sales_channel_id  50479 non-null  int8          \n",
      " 3   week              50479 non-null  int8          \n",
      " 4   article_id        50025 non-null  object        \n",
      "dtypes: datetime64[ns](1), int8(2), object(1), uint64(1)\n",
      "memory usage: 1.3+ MB\n"
     ]
    }
   ],
   "source": [
    "collab_candidates.info()"
   ]
  },
  {
   "cell_type": "code",
   "execution_count": 22,
   "id": "2a561d27-1f1a-4126-b035-5bc23e37ed45",
   "metadata": {},
   "outputs": [
    {
     "name": "stdout",
     "output_type": "stream",
     "text": [
      "<class 'pandas.core.frame.DataFrame'>\n",
      "Int64Index: 50025 entries, 0 to 50478\n",
      "Data columns (total 5 columns):\n",
      " #   Column            Non-Null Count  Dtype         \n",
      "---  ------            --------------  -----         \n",
      " 0   t_dat             50025 non-null  datetime64[ns]\n",
      " 1   customer_id       50025 non-null  uint64        \n",
      " 2   sales_channel_id  50025 non-null  int8          \n",
      " 3   week              50025 non-null  int8          \n",
      " 4   article_id        50025 non-null  object        \n",
      "dtypes: datetime64[ns](1), int8(2), object(1), uint64(1)\n",
      "memory usage: 1.6+ MB\n"
     ]
    }
   ],
   "source": [
    "collab_candidates = collab_candidates.dropna()\n",
    "collab_candidates.info()"
   ]
  },
  {
   "cell_type": "code",
   "execution_count": 23,
   "id": "fc380e78-1675-4a14-970b-54e351465b70",
   "metadata": {},
   "outputs": [
    {
     "name": "stdout",
     "output_type": "stream",
     "text": [
      "<class 'pandas.core.frame.DataFrame'>\n",
      "Int64Index: 50025 entries, 0 to 50478\n",
      "Data columns (total 5 columns):\n",
      " #   Column            Non-Null Count  Dtype         \n",
      "---  ------            --------------  -----         \n",
      " 0   t_dat             50025 non-null  datetime64[ns]\n",
      " 1   customer_id       50025 non-null  uint64        \n",
      " 2   sales_channel_id  50025 non-null  int8          \n",
      " 3   week              50025 non-null  int8          \n",
      " 4   article_id        50025 non-null  int32         \n",
      "dtypes: datetime64[ns](1), int32(1), int8(2), uint64(1)\n",
      "memory usage: 1.4 MB\n"
     ]
    }
   ],
   "source": [
    "def article_id_str_to_int(series):\n",
    "    return series.astype('int32')\n",
    "\n",
    "collab_candidates['article_id'] = article_id_str_to_int(collab_candidates['article_id'])\n",
    "collab_candidates.info()"
   ]
  },
  {
   "cell_type": "markdown",
   "id": "e3a44d0d-a67f-4aad-af75-2d1299137a3d",
   "metadata": {},
   "source": [
    "TODO? Approach 1: Identify items that customers last purchased"
   ]
  },
  {
   "cell_type": "markdown",
   "id": "a63e36f5-2bcb-4123-9a19-e90373c836e2",
   "metadata": {},
   "source": [
    "TODO - Approach 2: Bestsellers/ Popular candidates - identify the top 12 bestselling articles per week"
   ]
  },
  {
   "cell_type": "markdown",
   "id": "691e0ab4-6f81-4d65-877f-e7370080aa99",
   "metadata": {},
   "source": [
    "## 3. Combining transactions and candidates / negative examples"
   ]
  },
  {
   "cell_type": "markdown",
   "id": "5aa0216a-7de0-4382-ba30-876fe944865b",
   "metadata": {},
   "source": [
    "Label all transactions that actually occurred as 1 (positive samples)"
   ]
  },
  {
   "cell_type": "markdown",
   "id": "33aefcde-0048-42a3-b04f-4b2180797a55",
   "metadata": {},
   "source": [
    "Comment from Pawel in Kaggle discussion here: https://www.kaggle.com/competitions/h-and-m-personalized-fashion-recommendations/discussion/307288\n",
    "In my setting I propose to convert the problem to a table where you have a list of item candidates and you mark the sales as either 0 or 1 depending whether the item was sold in the <b>next</b> week. \n",
    "\n",
    "Imagine you want to create negative samples as a list of 1000 most popular items in the last week. Some of those items will be bought by the customers. So the table you need to create is:\n",
    "customer_id\n",
    "label = whether it was bought or not\n",
    "article_id from the list of 1000 most popular items\n",
    "I'm not saying this is the best approach here but it is more or less what I'm doing. This is a technique where you create a set of explicit negative items. There are also techniques for implicit recommendations but all of them assume some sort of a strategy to generate negative samples."
   ]
  },
  {
   "cell_type": "markdown",
   "id": "c340d47e-9d01-4f22-9758-143419d46c07",
   "metadata": {},
   "source": [
    "Positive samples, all previously purchased transactions"
   ]
  },
  {
   "cell_type": "code",
   "execution_count": 24,
   "id": "27a00ba8-304f-4eee-8c83-375f1cbf0683",
   "metadata": {},
   "outputs": [
    {
     "data": {
      "text/plain": [
       "(27113639, 7)"
      ]
     },
     "execution_count": 24,
     "metadata": {},
     "output_type": "execute_result"
    }
   ],
   "source": [
    "transactions[\"purchased\"] = 1 \n",
    "transactions.shape"
   ]
  },
  {
   "cell_type": "markdown",
   "id": "b8799c99-f28e-42bb-b09f-e4ebfd68ec5a",
   "metadata": {},
   "source": [
    "Combine positive and negative samples"
   ]
  },
  {
   "cell_type": "code",
   "execution_count": 25,
   "id": "a0bc8d5e-783f-49d6-8df5-b97b45e1198d",
   "metadata": {},
   "outputs": [],
   "source": [
    "data = pd.concat([transactions, collab_candidates])\n",
    "data.purchased.fillna(0, inplace=True) # Label all candidate generated transactions as 0"
   ]
  },
  {
   "cell_type": "code",
   "execution_count": 26,
   "id": "760c8944-dac6-4607-921f-1a43cbea9768",
   "metadata": {},
   "outputs": [
    {
     "data": {
      "text/html": [
       "<div>\n",
       "<style scoped>\n",
       "    .dataframe tbody tr th:only-of-type {\n",
       "        vertical-align: middle;\n",
       "    }\n",
       "\n",
       "    .dataframe tbody tr th {\n",
       "        vertical-align: top;\n",
       "    }\n",
       "\n",
       "    .dataframe thead th {\n",
       "        text-align: right;\n",
       "    }\n",
       "</style>\n",
       "<table border=\"1\" class=\"dataframe\">\n",
       "  <thead>\n",
       "    <tr style=\"text-align: right;\">\n",
       "      <th></th>\n",
       "      <th>t_dat</th>\n",
       "      <th>customer_id</th>\n",
       "      <th>article_id</th>\n",
       "      <th>price</th>\n",
       "      <th>sales_channel_id</th>\n",
       "      <th>week</th>\n",
       "      <th>purchased</th>\n",
       "    </tr>\n",
       "  </thead>\n",
       "  <tbody>\n",
       "    <tr>\n",
       "      <th>0</th>\n",
       "      <td>2018-09-20</td>\n",
       "      <td>1728846800780188</td>\n",
       "      <td>519773001</td>\n",
       "      <td>0.028458</td>\n",
       "      <td>2</td>\n",
       "      <td>0</td>\n",
       "      <td>1.0</td>\n",
       "    </tr>\n",
       "    <tr>\n",
       "      <th>1</th>\n",
       "      <td>2018-09-20</td>\n",
       "      <td>1728846800780188</td>\n",
       "      <td>578472001</td>\n",
       "      <td>0.032525</td>\n",
       "      <td>2</td>\n",
       "      <td>0</td>\n",
       "      <td>1.0</td>\n",
       "    </tr>\n",
       "    <tr>\n",
       "      <th>2</th>\n",
       "      <td>2018-09-20</td>\n",
       "      <td>2076973761519164</td>\n",
       "      <td>661795002</td>\n",
       "      <td>0.167797</td>\n",
       "      <td>2</td>\n",
       "      <td>0</td>\n",
       "      <td>1.0</td>\n",
       "    </tr>\n",
       "    <tr>\n",
       "      <th>3</th>\n",
       "      <td>2018-09-20</td>\n",
       "      <td>2076973761519164</td>\n",
       "      <td>684080003</td>\n",
       "      <td>0.101678</td>\n",
       "      <td>2</td>\n",
       "      <td>0</td>\n",
       "      <td>1.0</td>\n",
       "    </tr>\n",
       "    <tr>\n",
       "      <th>4</th>\n",
       "      <td>2018-09-20</td>\n",
       "      <td>2918879973994241</td>\n",
       "      <td>662980001</td>\n",
       "      <td>0.033881</td>\n",
       "      <td>1</td>\n",
       "      <td>0</td>\n",
       "      <td>1.0</td>\n",
       "    </tr>\n",
       "  </tbody>\n",
       "</table>\n",
       "</div>"
      ],
      "text/plain": [
       "       t_dat       customer_id  article_id     price  sales_channel_id  week  \\\n",
       "0 2018-09-20  1728846800780188   519773001  0.028458                 2     0   \n",
       "1 2018-09-20  1728846800780188   578472001  0.032525                 2     0   \n",
       "2 2018-09-20  2076973761519164   661795002  0.167797                 2     0   \n",
       "3 2018-09-20  2076973761519164   684080003  0.101678                 2     0   \n",
       "4 2018-09-20  2918879973994241   662980001  0.033881                 1     0   \n",
       "\n",
       "   purchased  \n",
       "0        1.0  \n",
       "1        1.0  \n",
       "2        1.0  \n",
       "3        1.0  \n",
       "4        1.0  "
      ]
     },
     "execution_count": 26,
     "metadata": {},
     "output_type": "execute_result"
    }
   ],
   "source": [
    "data.head()"
   ]
  },
  {
   "cell_type": "markdown",
   "id": "b7e53437-73cb-4aaa-bab8-27f6dc1cbe48",
   "metadata": {},
   "source": [
    "TODO - logic here with how lgbm works. It drops duplicates. Retains the transactions (positive labels). If duplicated, will drop the duplicates in the negative samples\n"
   ]
  },
  {
   "cell_type": "code",
   "execution_count": 27,
   "id": "5b2c46c3-dc28-406e-bbde-14d52728794b",
   "metadata": {},
   "outputs": [
    {
     "data": {
      "text/html": [
       "<div>\n",
       "<style scoped>\n",
       "    .dataframe tbody tr th:only-of-type {\n",
       "        vertical-align: middle;\n",
       "    }\n",
       "\n",
       "    .dataframe tbody tr th {\n",
       "        vertical-align: top;\n",
       "    }\n",
       "\n",
       "    .dataframe thead th {\n",
       "        text-align: right;\n",
       "    }\n",
       "</style>\n",
       "<table border=\"1\" class=\"dataframe\">\n",
       "  <thead>\n",
       "    <tr style=\"text-align: right;\">\n",
       "      <th></th>\n",
       "      <th>t_dat</th>\n",
       "      <th>customer_id</th>\n",
       "      <th>article_id</th>\n",
       "      <th>price</th>\n",
       "      <th>sales_channel_id</th>\n",
       "      <th>week</th>\n",
       "      <th>purchased</th>\n",
       "    </tr>\n",
       "  </thead>\n",
       "  <tbody>\n",
       "    <tr>\n",
       "      <th>0</th>\n",
       "      <td>2018-09-20</td>\n",
       "      <td>1728846800780188</td>\n",
       "      <td>519773001</td>\n",
       "      <td>0.028458</td>\n",
       "      <td>2</td>\n",
       "      <td>0</td>\n",
       "      <td>1.0</td>\n",
       "    </tr>\n",
       "    <tr>\n",
       "      <th>1</th>\n",
       "      <td>2018-09-20</td>\n",
       "      <td>1728846800780188</td>\n",
       "      <td>578472001</td>\n",
       "      <td>0.032525</td>\n",
       "      <td>2</td>\n",
       "      <td>0</td>\n",
       "      <td>1.0</td>\n",
       "    </tr>\n",
       "    <tr>\n",
       "      <th>2</th>\n",
       "      <td>2018-09-20</td>\n",
       "      <td>2076973761519164</td>\n",
       "      <td>661795002</td>\n",
       "      <td>0.167797</td>\n",
       "      <td>2</td>\n",
       "      <td>0</td>\n",
       "      <td>1.0</td>\n",
       "    </tr>\n",
       "    <tr>\n",
       "      <th>3</th>\n",
       "      <td>2018-09-20</td>\n",
       "      <td>2076973761519164</td>\n",
       "      <td>684080003</td>\n",
       "      <td>0.101678</td>\n",
       "      <td>2</td>\n",
       "      <td>0</td>\n",
       "      <td>1.0</td>\n",
       "    </tr>\n",
       "    <tr>\n",
       "      <th>4</th>\n",
       "      <td>2018-09-20</td>\n",
       "      <td>2918879973994241</td>\n",
       "      <td>662980001</td>\n",
       "      <td>0.033881</td>\n",
       "      <td>1</td>\n",
       "      <td>0</td>\n",
       "      <td>1.0</td>\n",
       "    </tr>\n",
       "  </tbody>\n",
       "</table>\n",
       "</div>"
      ],
      "text/plain": [
       "       t_dat       customer_id  article_id     price  sales_channel_id  week  \\\n",
       "0 2018-09-20  1728846800780188   519773001  0.028458                 2     0   \n",
       "1 2018-09-20  1728846800780188   578472001  0.032525                 2     0   \n",
       "2 2018-09-20  2076973761519164   661795002  0.167797                 2     0   \n",
       "3 2018-09-20  2076973761519164   684080003  0.101678                 2     0   \n",
       "4 2018-09-20  2918879973994241   662980001  0.033881                 1     0   \n",
       "\n",
       "   purchased  \n",
       "0        1.0  \n",
       "1        1.0  \n",
       "2        1.0  \n",
       "3        1.0  \n",
       "4        1.0  "
      ]
     },
     "execution_count": 27,
     "metadata": {},
     "output_type": "execute_result"
    }
   ],
   "source": [
    "# Drops duplicates. Retains the transactions (positive labels). If duplicated, will drop the duplicates in the negative samples\n",
    "data.drop_duplicates(['customer_id', 'article_id', 'week'], inplace=True) \n",
    "data.head()"
   ]
  },
  {
   "cell_type": "markdown",
   "id": "25f071b2-df36-478d-948a-1a18ff4710d0",
   "metadata": {},
   "source": [
    "TODO - add bestseller information see ranking_example.ipynb"
   ]
  },
  {
   "cell_type": "markdown",
   "id": "706031a8-791c-497f-a9bb-cf4085147f67",
   "metadata": {},
   "source": [
    "Create a joined dataset with transaction, article, and customer information + target values (0/ 1)"
   ]
  },
  {
   "cell_type": "code",
   "execution_count": 28,
   "id": "c79e05a6-2e0d-4742-bbaf-8b001b177f57",
   "metadata": {},
   "outputs": [],
   "source": [
    "data = pd.merge(data, articles, on='article_id', how='left')\n",
    "data = pd.merge(data, customers, on='customer_id', how='left')"
   ]
  },
  {
   "cell_type": "code",
   "execution_count": 29,
   "id": "5038fc38-24b1-4786-a3ce-ffed305be3a2",
   "metadata": {},
   "outputs": [],
   "source": [
    "data.sort_values(['week', 'customer_id'], inplace=True)\n",
    "data.reset_index(drop=True, inplace=True)"
   ]
  },
  {
   "cell_type": "code",
   "execution_count": 30,
   "id": "a6eaadf4-60cf-4db7-8ecd-f6f6f14ad438",
   "metadata": {},
   "outputs": [
    {
     "data": {
      "text/html": [
       "<div>\n",
       "<style scoped>\n",
       "    .dataframe tbody tr th:only-of-type {\n",
       "        vertical-align: middle;\n",
       "    }\n",
       "\n",
       "    .dataframe tbody tr th {\n",
       "        vertical-align: top;\n",
       "    }\n",
       "\n",
       "    .dataframe thead th {\n",
       "        text-align: right;\n",
       "    }\n",
       "</style>\n",
       "<table border=\"1\" class=\"dataframe\">\n",
       "  <thead>\n",
       "    <tr style=\"text-align: right;\">\n",
       "      <th></th>\n",
       "      <th>t_dat</th>\n",
       "      <th>customer_id</th>\n",
       "      <th>article_id</th>\n",
       "      <th>price</th>\n",
       "      <th>sales_channel_id</th>\n",
       "      <th>week</th>\n",
       "      <th>purchased</th>\n",
       "      <th>product_code</th>\n",
       "      <th>prod_name</th>\n",
       "      <th>product_type_no</th>\n",
       "      <th>...</th>\n",
       "      <th>section_name</th>\n",
       "      <th>garment_group_no</th>\n",
       "      <th>garment_group_name</th>\n",
       "      <th>detail_desc</th>\n",
       "      <th>FN</th>\n",
       "      <th>Active</th>\n",
       "      <th>club_member_status</th>\n",
       "      <th>fashion_news_frequency</th>\n",
       "      <th>age</th>\n",
       "      <th>postal_code</th>\n",
       "    </tr>\n",
       "  </thead>\n",
       "  <tbody>\n",
       "    <tr>\n",
       "      <th>0</th>\n",
       "      <td>2018-09-21</td>\n",
       "      <td>77117344919861</td>\n",
       "      <td>666006006</td>\n",
       "      <td>0.118627</td>\n",
       "      <td>2</td>\n",
       "      <td>0</td>\n",
       "      <td>1.0</td>\n",
       "      <td>666006</td>\n",
       "      <td>6145</td>\n",
       "      <td>262</td>\n",
       "      <td>...</td>\n",
       "      <td>40</td>\n",
       "      <td>1007</td>\n",
       "      <td>9</td>\n",
       "      <td>5675</td>\n",
       "      <td>-1</td>\n",
       "      <td>-1</td>\n",
       "      <td>0</td>\n",
       "      <td>0</td>\n",
       "      <td>46</td>\n",
       "      <td>22398</td>\n",
       "    </tr>\n",
       "    <tr>\n",
       "      <th>1</th>\n",
       "      <td>2018-09-21</td>\n",
       "      <td>77117344919861</td>\n",
       "      <td>662773001</td>\n",
       "      <td>0.084729</td>\n",
       "      <td>2</td>\n",
       "      <td>0</td>\n",
       "      <td>1.0</td>\n",
       "      <td>662773</td>\n",
       "      <td>8356</td>\n",
       "      <td>262</td>\n",
       "      <td>...</td>\n",
       "      <td>40</td>\n",
       "      <td>1007</td>\n",
       "      <td>9</td>\n",
       "      <td>3040</td>\n",
       "      <td>-1</td>\n",
       "      <td>-1</td>\n",
       "      <td>0</td>\n",
       "      <td>0</td>\n",
       "      <td>46</td>\n",
       "      <td>22398</td>\n",
       "    </tr>\n",
       "    <tr>\n",
       "      <th>2</th>\n",
       "      <td>2018-09-23</td>\n",
       "      <td>200292573348128</td>\n",
       "      <td>685687002</td>\n",
       "      <td>0.016932</td>\n",
       "      <td>2</td>\n",
       "      <td>0</td>\n",
       "      <td>1.0</td>\n",
       "      <td>685687</td>\n",
       "      <td>4563</td>\n",
       "      <td>252</td>\n",
       "      <td>...</td>\n",
       "      <td>0</td>\n",
       "      <td>1023</td>\n",
       "      <td>19</td>\n",
       "      <td>6161</td>\n",
       "      <td>1</td>\n",
       "      <td>1</td>\n",
       "      <td>0</td>\n",
       "      <td>1</td>\n",
       "      <td>25</td>\n",
       "      <td>63947</td>\n",
       "    </tr>\n",
       "    <tr>\n",
       "      <th>3</th>\n",
       "      <td>2018-09-23</td>\n",
       "      <td>200292573348128</td>\n",
       "      <td>612481008</td>\n",
       "      <td>0.016932</td>\n",
       "      <td>2</td>\n",
       "      <td>0</td>\n",
       "      <td>1.0</td>\n",
       "      <td>612481</td>\n",
       "      <td>31204</td>\n",
       "      <td>274</td>\n",
       "      <td>...</td>\n",
       "      <td>0</td>\n",
       "      <td>1025</td>\n",
       "      <td>16</td>\n",
       "      <td>2856</td>\n",
       "      <td>1</td>\n",
       "      <td>1</td>\n",
       "      <td>0</td>\n",
       "      <td>1</td>\n",
       "      <td>25</td>\n",
       "      <td>63947</td>\n",
       "    </tr>\n",
       "    <tr>\n",
       "      <th>4</th>\n",
       "      <td>2018-09-23</td>\n",
       "      <td>200292573348128</td>\n",
       "      <td>625939025</td>\n",
       "      <td>0.008458</td>\n",
       "      <td>2</td>\n",
       "      <td>0</td>\n",
       "      <td>1.0</td>\n",
       "      <td>625939</td>\n",
       "      <td>323</td>\n",
       "      <td>255</td>\n",
       "      <td>...</td>\n",
       "      <td>27</td>\n",
       "      <td>1002</td>\n",
       "      <td>2</td>\n",
       "      <td>461</td>\n",
       "      <td>1</td>\n",
       "      <td>1</td>\n",
       "      <td>0</td>\n",
       "      <td>1</td>\n",
       "      <td>25</td>\n",
       "      <td>63947</td>\n",
       "    </tr>\n",
       "  </tbody>\n",
       "</table>\n",
       "<p>5 rows × 37 columns</p>\n",
       "</div>"
      ],
      "text/plain": [
       "       t_dat      customer_id  article_id     price  sales_channel_id  week  \\\n",
       "0 2018-09-21   77117344919861   666006006  0.118627                 2     0   \n",
       "1 2018-09-21   77117344919861   662773001  0.084729                 2     0   \n",
       "2 2018-09-23  200292573348128   685687002  0.016932                 2     0   \n",
       "3 2018-09-23  200292573348128   612481008  0.016932                 2     0   \n",
       "4 2018-09-23  200292573348128   625939025  0.008458                 2     0   \n",
       "\n",
       "   purchased  product_code  prod_name  product_type_no  ...  section_name  \\\n",
       "0        1.0        666006       6145              262  ...            40   \n",
       "1        1.0        662773       8356              262  ...            40   \n",
       "2        1.0        685687       4563              252  ...             0   \n",
       "3        1.0        612481      31204              274  ...             0   \n",
       "4        1.0        625939        323              255  ...            27   \n",
       "\n",
       "   garment_group_no  garment_group_name  detail_desc  FN  Active  \\\n",
       "0              1007                   9         5675  -1      -1   \n",
       "1              1007                   9         3040  -1      -1   \n",
       "2              1023                  19         6161   1       1   \n",
       "3              1025                  16         2856   1       1   \n",
       "4              1002                   2          461   1       1   \n",
       "\n",
       "   club_member_status  fashion_news_frequency  age  postal_code  \n",
       "0                   0                       0   46        22398  \n",
       "1                   0                       0   46        22398  \n",
       "2                   0                       1   25        63947  \n",
       "3                   0                       1   25        63947  \n",
       "4                   0                       1   25        63947  \n",
       "\n",
       "[5 rows x 37 columns]"
      ]
     },
     "execution_count": 30,
     "metadata": {},
     "output_type": "execute_result"
    }
   ],
   "source": [
    "data.head()"
   ]
  },
  {
   "cell_type": "markdown",
   "id": "793b4b58-a563-4b88-b81f-7b963fe7d597",
   "metadata": {},
   "source": [
    "## 4. Train/ Test data"
   ]
  },
  {
   "cell_type": "markdown",
   "id": "b771b7a7-242c-40ca-8376-7f5de3f16548",
   "metadata": {},
   "source": [
    "Train data is currently all transactions from weeks 0-103. The target labels are also obtained from transactions from weeks 0-103 (confirm this is correct or whether we should be predicting the next week, ie wk104)"
   ]
  },
  {
   "cell_type": "code",
   "execution_count": 31,
   "id": "14555400-89ae-4759-8658-b9061239c4bf",
   "metadata": {},
   "outputs": [],
   "source": [
    "test_week = val_week"
   ]
  },
  {
   "cell_type": "code",
   "execution_count": 32,
   "id": "e3ffc957-e053-40c3-b876-f89e784703ff",
   "metadata": {},
   "outputs": [
    {
     "data": {
      "text/html": [
       "<div>\n",
       "<style scoped>\n",
       "    .dataframe tbody tr th:only-of-type {\n",
       "        vertical-align: middle;\n",
       "    }\n",
       "\n",
       "    .dataframe tbody tr th {\n",
       "        vertical-align: top;\n",
       "    }\n",
       "\n",
       "    .dataframe thead th {\n",
       "        text-align: right;\n",
       "    }\n",
       "</style>\n",
       "<table border=\"1\" class=\"dataframe\">\n",
       "  <thead>\n",
       "    <tr style=\"text-align: right;\">\n",
       "      <th></th>\n",
       "      <th>t_dat</th>\n",
       "      <th>customer_id</th>\n",
       "      <th>article_id</th>\n",
       "      <th>price</th>\n",
       "      <th>sales_channel_id</th>\n",
       "      <th>week</th>\n",
       "      <th>purchased</th>\n",
       "      <th>product_code</th>\n",
       "      <th>prod_name</th>\n",
       "      <th>product_type_no</th>\n",
       "      <th>...</th>\n",
       "      <th>section_name</th>\n",
       "      <th>garment_group_no</th>\n",
       "      <th>garment_group_name</th>\n",
       "      <th>detail_desc</th>\n",
       "      <th>FN</th>\n",
       "      <th>Active</th>\n",
       "      <th>club_member_status</th>\n",
       "      <th>fashion_news_frequency</th>\n",
       "      <th>age</th>\n",
       "      <th>postal_code</th>\n",
       "    </tr>\n",
       "  </thead>\n",
       "  <tbody>\n",
       "    <tr>\n",
       "      <th>0</th>\n",
       "      <td>2018-09-21</td>\n",
       "      <td>77117344919861</td>\n",
       "      <td>666006006</td>\n",
       "      <td>0.118627</td>\n",
       "      <td>2</td>\n",
       "      <td>0</td>\n",
       "      <td>1.0</td>\n",
       "      <td>666006</td>\n",
       "      <td>6145</td>\n",
       "      <td>262</td>\n",
       "      <td>...</td>\n",
       "      <td>40</td>\n",
       "      <td>1007</td>\n",
       "      <td>9</td>\n",
       "      <td>5675</td>\n",
       "      <td>-1</td>\n",
       "      <td>-1</td>\n",
       "      <td>0</td>\n",
       "      <td>0</td>\n",
       "      <td>46</td>\n",
       "      <td>22398</td>\n",
       "    </tr>\n",
       "    <tr>\n",
       "      <th>1</th>\n",
       "      <td>2018-09-21</td>\n",
       "      <td>77117344919861</td>\n",
       "      <td>662773001</td>\n",
       "      <td>0.084729</td>\n",
       "      <td>2</td>\n",
       "      <td>0</td>\n",
       "      <td>1.0</td>\n",
       "      <td>662773</td>\n",
       "      <td>8356</td>\n",
       "      <td>262</td>\n",
       "      <td>...</td>\n",
       "      <td>40</td>\n",
       "      <td>1007</td>\n",
       "      <td>9</td>\n",
       "      <td>3040</td>\n",
       "      <td>-1</td>\n",
       "      <td>-1</td>\n",
       "      <td>0</td>\n",
       "      <td>0</td>\n",
       "      <td>46</td>\n",
       "      <td>22398</td>\n",
       "    </tr>\n",
       "    <tr>\n",
       "      <th>2</th>\n",
       "      <td>2018-09-23</td>\n",
       "      <td>200292573348128</td>\n",
       "      <td>685687002</td>\n",
       "      <td>0.016932</td>\n",
       "      <td>2</td>\n",
       "      <td>0</td>\n",
       "      <td>1.0</td>\n",
       "      <td>685687</td>\n",
       "      <td>4563</td>\n",
       "      <td>252</td>\n",
       "      <td>...</td>\n",
       "      <td>0</td>\n",
       "      <td>1023</td>\n",
       "      <td>19</td>\n",
       "      <td>6161</td>\n",
       "      <td>1</td>\n",
       "      <td>1</td>\n",
       "      <td>0</td>\n",
       "      <td>1</td>\n",
       "      <td>25</td>\n",
       "      <td>63947</td>\n",
       "    </tr>\n",
       "    <tr>\n",
       "      <th>3</th>\n",
       "      <td>2018-09-23</td>\n",
       "      <td>200292573348128</td>\n",
       "      <td>612481008</td>\n",
       "      <td>0.016932</td>\n",
       "      <td>2</td>\n",
       "      <td>0</td>\n",
       "      <td>1.0</td>\n",
       "      <td>612481</td>\n",
       "      <td>31204</td>\n",
       "      <td>274</td>\n",
       "      <td>...</td>\n",
       "      <td>0</td>\n",
       "      <td>1025</td>\n",
       "      <td>16</td>\n",
       "      <td>2856</td>\n",
       "      <td>1</td>\n",
       "      <td>1</td>\n",
       "      <td>0</td>\n",
       "      <td>1</td>\n",
       "      <td>25</td>\n",
       "      <td>63947</td>\n",
       "    </tr>\n",
       "    <tr>\n",
       "      <th>4</th>\n",
       "      <td>2018-09-23</td>\n",
       "      <td>200292573348128</td>\n",
       "      <td>625939025</td>\n",
       "      <td>0.008458</td>\n",
       "      <td>2</td>\n",
       "      <td>0</td>\n",
       "      <td>1.0</td>\n",
       "      <td>625939</td>\n",
       "      <td>323</td>\n",
       "      <td>255</td>\n",
       "      <td>...</td>\n",
       "      <td>27</td>\n",
       "      <td>1002</td>\n",
       "      <td>2</td>\n",
       "      <td>461</td>\n",
       "      <td>1</td>\n",
       "      <td>1</td>\n",
       "      <td>0</td>\n",
       "      <td>1</td>\n",
       "      <td>25</td>\n",
       "      <td>63947</td>\n",
       "    </tr>\n",
       "  </tbody>\n",
       "</table>\n",
       "<p>5 rows × 37 columns</p>\n",
       "</div>"
      ],
      "text/plain": [
       "       t_dat      customer_id  article_id     price  sales_channel_id  week  \\\n",
       "0 2018-09-21   77117344919861   666006006  0.118627                 2     0   \n",
       "1 2018-09-21   77117344919861   662773001  0.084729                 2     0   \n",
       "2 2018-09-23  200292573348128   685687002  0.016932                 2     0   \n",
       "3 2018-09-23  200292573348128   612481008  0.016932                 2     0   \n",
       "4 2018-09-23  200292573348128   625939025  0.008458                 2     0   \n",
       "\n",
       "   purchased  product_code  prod_name  product_type_no  ...  section_name  \\\n",
       "0        1.0        666006       6145              262  ...            40   \n",
       "1        1.0        662773       8356              262  ...            40   \n",
       "2        1.0        685687       4563              252  ...             0   \n",
       "3        1.0        612481      31204              274  ...             0   \n",
       "4        1.0        625939        323              255  ...            27   \n",
       "\n",
       "   garment_group_no  garment_group_name  detail_desc  FN  Active  \\\n",
       "0              1007                   9         5675  -1      -1   \n",
       "1              1007                   9         3040  -1      -1   \n",
       "2              1023                  19         6161   1       1   \n",
       "3              1025                  16         2856   1       1   \n",
       "4              1002                   2          461   1       1   \n",
       "\n",
       "   club_member_status  fashion_news_frequency  age  postal_code  \n",
       "0                   0                       0   46        22398  \n",
       "1                   0                       0   46        22398  \n",
       "2                   0                       1   25        63947  \n",
       "3                   0                       1   25        63947  \n",
       "4                   0                       1   25        63947  \n",
       "\n",
       "[5 rows x 37 columns]"
      ]
     },
     "execution_count": 32,
     "metadata": {},
     "output_type": "execute_result"
    }
   ],
   "source": [
    "train = data[data.week != test_week]\n",
    "train.head()"
   ]
  },
  {
   "cell_type": "code",
   "execution_count": 33,
   "id": "f00ccc12-f722-4cd4-ac0e-e17d51af3621",
   "metadata": {},
   "outputs": [
    {
     "data": {
      "text/html": [
       "<div>\n",
       "<style scoped>\n",
       "    .dataframe tbody tr th:only-of-type {\n",
       "        vertical-align: middle;\n",
       "    }\n",
       "\n",
       "    .dataframe tbody tr th {\n",
       "        vertical-align: top;\n",
       "    }\n",
       "\n",
       "    .dataframe thead th {\n",
       "        text-align: right;\n",
       "    }\n",
       "</style>\n",
       "<table border=\"1\" class=\"dataframe\">\n",
       "  <thead>\n",
       "    <tr style=\"text-align: right;\">\n",
       "      <th></th>\n",
       "      <th>t_dat</th>\n",
       "      <th>customer_id</th>\n",
       "      <th>article_id</th>\n",
       "      <th>price</th>\n",
       "      <th>sales_channel_id</th>\n",
       "      <th>week</th>\n",
       "      <th>purchased</th>\n",
       "      <th>product_code</th>\n",
       "      <th>prod_name</th>\n",
       "      <th>product_type_no</th>\n",
       "      <th>...</th>\n",
       "      <th>section_name</th>\n",
       "      <th>garment_group_no</th>\n",
       "      <th>garment_group_name</th>\n",
       "      <th>detail_desc</th>\n",
       "      <th>FN</th>\n",
       "      <th>Active</th>\n",
       "      <th>club_member_status</th>\n",
       "      <th>fashion_news_frequency</th>\n",
       "      <th>age</th>\n",
       "      <th>postal_code</th>\n",
       "    </tr>\n",
       "  </thead>\n",
       "  <tbody>\n",
       "    <tr>\n",
       "      <th>23785723</th>\n",
       "      <td>2020-09-19</td>\n",
       "      <td>1827730561464445</td>\n",
       "      <td>918603001</td>\n",
       "      <td>0.047932</td>\n",
       "      <td>1</td>\n",
       "      <td>104</td>\n",
       "      <td>1.0</td>\n",
       "      <td>918603</td>\n",
       "      <td>26329</td>\n",
       "      <td>252</td>\n",
       "      <td>...</td>\n",
       "      <td>0</td>\n",
       "      <td>1003</td>\n",
       "      <td>3</td>\n",
       "      <td>28672</td>\n",
       "      <td>-1</td>\n",
       "      <td>-1</td>\n",
       "      <td>0</td>\n",
       "      <td>0</td>\n",
       "      <td>30</td>\n",
       "      <td>305856</td>\n",
       "    </tr>\n",
       "    <tr>\n",
       "      <th>23785724</th>\n",
       "      <td>2020-09-19</td>\n",
       "      <td>1827730561464445</td>\n",
       "      <td>921380001</td>\n",
       "      <td>0.063898</td>\n",
       "      <td>1</td>\n",
       "      <td>104</td>\n",
       "      <td>1.0</td>\n",
       "      <td>921380</td>\n",
       "      <td>25098</td>\n",
       "      <td>264</td>\n",
       "      <td>...</td>\n",
       "      <td>0</td>\n",
       "      <td>1008</td>\n",
       "      <td>20</td>\n",
       "      <td>28745</td>\n",
       "      <td>-1</td>\n",
       "      <td>-1</td>\n",
       "      <td>0</td>\n",
       "      <td>0</td>\n",
       "      <td>30</td>\n",
       "      <td>305856</td>\n",
       "    </tr>\n",
       "    <tr>\n",
       "      <th>23785725</th>\n",
       "      <td>2020-09-17</td>\n",
       "      <td>2639747769247776</td>\n",
       "      <td>819547001</td>\n",
       "      <td>0.027102</td>\n",
       "      <td>1</td>\n",
       "      <td>104</td>\n",
       "      <td>1.0</td>\n",
       "      <td>819547</td>\n",
       "      <td>15053</td>\n",
       "      <td>252</td>\n",
       "      <td>...</td>\n",
       "      <td>0</td>\n",
       "      <td>1003</td>\n",
       "      <td>3</td>\n",
       "      <td>14819</td>\n",
       "      <td>1</td>\n",
       "      <td>1</td>\n",
       "      <td>0</td>\n",
       "      <td>1</td>\n",
       "      <td>24</td>\n",
       "      <td>55211</td>\n",
       "    </tr>\n",
       "    <tr>\n",
       "      <th>23785726</th>\n",
       "      <td>2020-09-22</td>\n",
       "      <td>3204013276717965</td>\n",
       "      <td>908728002</td>\n",
       "      <td>0.067000</td>\n",
       "      <td>2</td>\n",
       "      <td>104</td>\n",
       "      <td>1.0</td>\n",
       "      <td>908728</td>\n",
       "      <td>738</td>\n",
       "      <td>265</td>\n",
       "      <td>...</td>\n",
       "      <td>0</td>\n",
       "      <td>1013</td>\n",
       "      <td>8</td>\n",
       "      <td>5495</td>\n",
       "      <td>-1</td>\n",
       "      <td>-1</td>\n",
       "      <td>0</td>\n",
       "      <td>0</td>\n",
       "      <td>25</td>\n",
       "      <td>65115</td>\n",
       "    </tr>\n",
       "    <tr>\n",
       "      <th>23785727</th>\n",
       "      <td>2020-09-22</td>\n",
       "      <td>3204013276717965</td>\n",
       "      <td>929001001</td>\n",
       "      <td>0.058627</td>\n",
       "      <td>2</td>\n",
       "      <td>104</td>\n",
       "      <td>1.0</td>\n",
       "      <td>929001</td>\n",
       "      <td>25258</td>\n",
       "      <td>265</td>\n",
       "      <td>...</td>\n",
       "      <td>0</td>\n",
       "      <td>1013</td>\n",
       "      <td>8</td>\n",
       "      <td>27672</td>\n",
       "      <td>-1</td>\n",
       "      <td>-1</td>\n",
       "      <td>0</td>\n",
       "      <td>0</td>\n",
       "      <td>25</td>\n",
       "      <td>65115</td>\n",
       "    </tr>\n",
       "  </tbody>\n",
       "</table>\n",
       "<p>5 rows × 37 columns</p>\n",
       "</div>"
      ],
      "text/plain": [
       "              t_dat       customer_id  article_id     price  sales_channel_id  \\\n",
       "23785723 2020-09-19  1827730561464445   918603001  0.047932                 1   \n",
       "23785724 2020-09-19  1827730561464445   921380001  0.063898                 1   \n",
       "23785725 2020-09-17  2639747769247776   819547001  0.027102                 1   \n",
       "23785726 2020-09-22  3204013276717965   908728002  0.067000                 2   \n",
       "23785727 2020-09-22  3204013276717965   929001001  0.058627                 2   \n",
       "\n",
       "          week  purchased  product_code  prod_name  product_type_no  ...  \\\n",
       "23785723   104        1.0        918603      26329              252  ...   \n",
       "23785724   104        1.0        921380      25098              264  ...   \n",
       "23785725   104        1.0        819547      15053              252  ...   \n",
       "23785726   104        1.0        908728        738              265  ...   \n",
       "23785727   104        1.0        929001      25258              265  ...   \n",
       "\n",
       "          section_name  garment_group_no  garment_group_name  detail_desc  FN  \\\n",
       "23785723             0              1003                   3        28672  -1   \n",
       "23785724             0              1008                  20        28745  -1   \n",
       "23785725             0              1003                   3        14819   1   \n",
       "23785726             0              1013                   8         5495  -1   \n",
       "23785727             0              1013                   8        27672  -1   \n",
       "\n",
       "          Active  club_member_status  fashion_news_frequency  age  postal_code  \n",
       "23785723      -1                   0                       0   30       305856  \n",
       "23785724      -1                   0                       0   30       305856  \n",
       "23785725       1                   0                       1   24        55211  \n",
       "23785726      -1                   0                       0   25        65115  \n",
       "23785727      -1                   0                       0   25        65115  \n",
       "\n",
       "[5 rows x 37 columns]"
      ]
     },
     "execution_count": 33,
     "metadata": {},
     "output_type": "execute_result"
    }
   ],
   "source": [
    "test = data[data.week==test_week].drop_duplicates(['customer_id', 'article_id', 'sales_channel_id']).copy()\n",
    "test.head()"
   ]
  },
  {
   "cell_type": "code",
   "execution_count": 34,
   "id": "8b0cd1b7-71d4-4311-86f7-1fe0e0d79ecc",
   "metadata": {},
   "outputs": [
    {
     "data": {
      "text/plain": [
       "array([ 2, 10,  2, ...,  2,  1,  5])"
      ]
     },
     "execution_count": 34,
     "metadata": {},
     "output_type": "execute_result"
    }
   ],
   "source": [
    "# Not yet sure what these are\n",
    "train_baskets = train.groupby(['week', 'customer_id'])['article_id'].count().values\n",
    "train_baskets"
   ]
  },
  {
   "cell_type": "markdown",
   "id": "8880948f-cb53-4c72-92e8-bff3a0e8b108",
   "metadata": {},
   "source": [
    "Only use a subset of columns specified here as input into the LGBM model"
   ]
  },
  {
   "cell_type": "code",
   "execution_count": 35,
   "id": "a540c72e-bc69-4078-8dcb-fc86a904899d",
   "metadata": {},
   "outputs": [],
   "source": [
    "columns_to_use = ['article_id', 'product_type_no', 'graphical_appearance_no', 'colour_group_code', 'perceived_colour_value_id',\n",
    "'perceived_colour_master_id', 'department_no', 'index_code',\n",
    "'index_group_no', 'section_no', 'garment_group_no', 'FN', 'Active',\n",
    "'club_member_status', 'fashion_news_frequency', 'age', 'postal_code'] #, 'bestseller_rank']"
   ]
  },
  {
   "cell_type": "markdown",
   "id": "468cebcd-bb89-4b09-b351-e68f0e11d471",
   "metadata": {},
   "source": [
    "### Model input"
   ]
  },
  {
   "cell_type": "code",
   "execution_count": 36,
   "id": "184f819c-c18f-47d3-be8a-a0b96f5803b4",
   "metadata": {},
   "outputs": [],
   "source": [
    "train_X = train[columns_to_use]\n",
    "train_y = train['purchased']\n",
    "\n",
    "test_X = test[columns_to_use]"
   ]
  },
  {
   "cell_type": "code",
   "execution_count": 37,
   "id": "6dcd8b4b-dc68-45b4-9ebe-d0b348ca5542",
   "metadata": {},
   "outputs": [
    {
     "data": {
      "text/html": [
       "<div>\n",
       "<style scoped>\n",
       "    .dataframe tbody tr th:only-of-type {\n",
       "        vertical-align: middle;\n",
       "    }\n",
       "\n",
       "    .dataframe tbody tr th {\n",
       "        vertical-align: top;\n",
       "    }\n",
       "\n",
       "    .dataframe thead th {\n",
       "        text-align: right;\n",
       "    }\n",
       "</style>\n",
       "<table border=\"1\" class=\"dataframe\">\n",
       "  <thead>\n",
       "    <tr style=\"text-align: right;\">\n",
       "      <th></th>\n",
       "      <th>article_id</th>\n",
       "      <th>product_type_no</th>\n",
       "      <th>graphical_appearance_no</th>\n",
       "      <th>colour_group_code</th>\n",
       "      <th>perceived_colour_value_id</th>\n",
       "      <th>perceived_colour_master_id</th>\n",
       "      <th>department_no</th>\n",
       "      <th>index_code</th>\n",
       "      <th>index_group_no</th>\n",
       "      <th>section_no</th>\n",
       "      <th>garment_group_no</th>\n",
       "      <th>FN</th>\n",
       "      <th>Active</th>\n",
       "      <th>club_member_status</th>\n",
       "      <th>fashion_news_frequency</th>\n",
       "      <th>age</th>\n",
       "      <th>postal_code</th>\n",
       "    </tr>\n",
       "  </thead>\n",
       "  <tbody>\n",
       "    <tr>\n",
       "      <th>0</th>\n",
       "      <td>666006006</td>\n",
       "      <td>262</td>\n",
       "      <td>1010016</td>\n",
       "      <td>12</td>\n",
       "      <td>1</td>\n",
       "      <td>11</td>\n",
       "      <td>1201</td>\n",
       "      <td>0</td>\n",
       "      <td>1</td>\n",
       "      <td>19</td>\n",
       "      <td>1007</td>\n",
       "      <td>-1</td>\n",
       "      <td>-1</td>\n",
       "      <td>0</td>\n",
       "      <td>0</td>\n",
       "      <td>46</td>\n",
       "      <td>22398</td>\n",
       "    </tr>\n",
       "    <tr>\n",
       "      <th>1</th>\n",
       "      <td>662773001</td>\n",
       "      <td>262</td>\n",
       "      <td>1010016</td>\n",
       "      <td>9</td>\n",
       "      <td>4</td>\n",
       "      <td>5</td>\n",
       "      <td>1201</td>\n",
       "      <td>0</td>\n",
       "      <td>1</td>\n",
       "      <td>19</td>\n",
       "      <td>1007</td>\n",
       "      <td>-1</td>\n",
       "      <td>-1</td>\n",
       "      <td>0</td>\n",
       "      <td>0</td>\n",
       "      <td>46</td>\n",
       "      <td>22398</td>\n",
       "    </tr>\n",
       "    <tr>\n",
       "      <th>2</th>\n",
       "      <td>685687002</td>\n",
       "      <td>252</td>\n",
       "      <td>1010010</td>\n",
       "      <td>7</td>\n",
       "      <td>1</td>\n",
       "      <td>12</td>\n",
       "      <td>3090</td>\n",
       "      <td>0</td>\n",
       "      <td>1</td>\n",
       "      <td>15</td>\n",
       "      <td>1023</td>\n",
       "      <td>1</td>\n",
       "      <td>1</td>\n",
       "      <td>0</td>\n",
       "      <td>1</td>\n",
       "      <td>25</td>\n",
       "      <td>63947</td>\n",
       "    </tr>\n",
       "    <tr>\n",
       "      <th>3</th>\n",
       "      <td>612481008</td>\n",
       "      <td>274</td>\n",
       "      <td>1010023</td>\n",
       "      <td>42</td>\n",
       "      <td>5</td>\n",
       "      <td>18</td>\n",
       "      <td>1723</td>\n",
       "      <td>0</td>\n",
       "      <td>1</td>\n",
       "      <td>15</td>\n",
       "      <td>1025</td>\n",
       "      <td>1</td>\n",
       "      <td>1</td>\n",
       "      <td>0</td>\n",
       "      <td>1</td>\n",
       "      <td>25</td>\n",
       "      <td>63947</td>\n",
       "    </tr>\n",
       "    <tr>\n",
       "      <th>4</th>\n",
       "      <td>625939025</td>\n",
       "      <td>255</td>\n",
       "      <td>1010017</td>\n",
       "      <td>92</td>\n",
       "      <td>7</td>\n",
       "      <td>19</td>\n",
       "      <td>1643</td>\n",
       "      <td>1</td>\n",
       "      <td>2</td>\n",
       "      <td>51</td>\n",
       "      <td>1002</td>\n",
       "      <td>1</td>\n",
       "      <td>1</td>\n",
       "      <td>0</td>\n",
       "      <td>1</td>\n",
       "      <td>25</td>\n",
       "      <td>63947</td>\n",
       "    </tr>\n",
       "  </tbody>\n",
       "</table>\n",
       "</div>"
      ],
      "text/plain": [
       "   article_id  product_type_no  graphical_appearance_no  colour_group_code  \\\n",
       "0   666006006              262                  1010016                 12   \n",
       "1   662773001              262                  1010016                  9   \n",
       "2   685687002              252                  1010010                  7   \n",
       "3   612481008              274                  1010023                 42   \n",
       "4   625939025              255                  1010017                 92   \n",
       "\n",
       "   perceived_colour_value_id  perceived_colour_master_id  department_no  \\\n",
       "0                          1                          11           1201   \n",
       "1                          4                           5           1201   \n",
       "2                          1                          12           3090   \n",
       "3                          5                          18           1723   \n",
       "4                          7                          19           1643   \n",
       "\n",
       "   index_code  index_group_no  section_no  garment_group_no  FN  Active  \\\n",
       "0           0               1          19              1007  -1      -1   \n",
       "1           0               1          19              1007  -1      -1   \n",
       "2           0               1          15              1023   1       1   \n",
       "3           0               1          15              1025   1       1   \n",
       "4           1               2          51              1002   1       1   \n",
       "\n",
       "   club_member_status  fashion_news_frequency  age  postal_code  \n",
       "0                   0                       0   46        22398  \n",
       "1                   0                       0   46        22398  \n",
       "2                   0                       1   25        63947  \n",
       "3                   0                       1   25        63947  \n",
       "4                   0                       1   25        63947  "
      ]
     },
     "execution_count": 37,
     "metadata": {},
     "output_type": "execute_result"
    }
   ],
   "source": [
    "train_X.head()"
   ]
  },
  {
   "cell_type": "code",
   "execution_count": 38,
   "id": "acf41455-fb4a-4a44-81fb-42103c3f48a6",
   "metadata": {},
   "outputs": [
    {
     "name": "stdout",
     "output_type": "stream",
     "text": [
      "<class 'pandas.core.frame.DataFrame'>\n",
      "Int64Index: 23785723 entries, 0 to 23785722\n",
      "Data columns (total 17 columns):\n",
      " #   Column                      Dtype\n",
      "---  ------                      -----\n",
      " 0   article_id                  int32\n",
      " 1   product_type_no             int32\n",
      " 2   graphical_appearance_no     int32\n",
      " 3   colour_group_code           int32\n",
      " 4   perceived_colour_value_id   int32\n",
      " 5   perceived_colour_master_id  int32\n",
      " 6   department_no               int32\n",
      " 7   index_code                  int8 \n",
      " 8   index_group_no              int32\n",
      " 9   section_no                  int32\n",
      " 10  garment_group_no            int32\n",
      " 11  FN                          int8 \n",
      " 12  Active                      int8 \n",
      " 13  club_member_status          int8 \n",
      " 14  fashion_news_frequency      int8 \n",
      " 15  age                         int8 \n",
      " 16  postal_code                 int32\n",
      "dtypes: int32(11), int8(6)\n",
      "memory usage: 1.3 GB\n"
     ]
    }
   ],
   "source": [
    "train_X.info()"
   ]
  },
  {
   "cell_type": "markdown",
   "id": "0f8082b2-a168-49ef-92f0-efda30fe58b7",
   "metadata": {},
   "source": [
    "## 5. Model training"
   ]
  },
  {
   "cell_type": "code",
   "execution_count": 39,
   "id": "1592df06-4a50-42e7-acb9-b88d6de1477d",
   "metadata": {},
   "outputs": [],
   "source": [
    "from lightgbm.sklearn import LGBMRanker"
   ]
  },
  {
   "cell_type": "code",
   "execution_count": 40,
   "id": "9d5cf9c4-468e-4f44-9831-d27999880217",
   "metadata": {},
   "outputs": [],
   "source": [
    "ranker = LGBMRanker(\n",
    "    objective=\"lambdarank\",\n",
    "    metric=\"ndcg\",\n",
    "    boosting_type=\"dart\",\n",
    "    n_estimators=1,\n",
    "    importance_type='gain',\n",
    "    verbose=10\n",
    ")"
   ]
  },
  {
   "cell_type": "code",
   "execution_count": 41,
   "id": "bce87fb0-323f-4d0a-8b88-d68c34fa38ad",
   "metadata": {},
   "outputs": [
    {
     "name": "stdout",
     "output_type": "stream",
     "text": [
      "[LightGBM] [Debug] Dataset::GetMultiBinFromAllFeatures: sparse rate 0.115381\n",
      "[LightGBM] [Debug] init for col-wise cost 0.000051 seconds, init for row-wise cost 0.744084 seconds\n",
      "[LightGBM] [Warning] Auto-choosing row-wise multi-threading, the overhead of testing was 0.264842 seconds.\n",
      "You can set `force_row_wise=true` to remove the overhead.\n",
      "And if memory is not enough, you can set `force_col_wise=true`.\n",
      "[LightGBM] [Debug] Using Dense Multi-Val Bin\n",
      "[LightGBM] [Info] Total Bins 1106\n",
      "[LightGBM] [Info] Number of data points in the train set: 23785723, number of used features: 17\n",
      "[LightGBM] [Debug] Trained a tree with leaves = 31 and depth = 10\n"
     ]
    }
   ],
   "source": [
    "# not sure what group = train_baskets is for\n",
    "ranker = ranker.fit(\n",
    "    train_X,\n",
    "    train_y,\n",
    "    group=train_baskets,\n",
    ")"
   ]
  },
  {
   "cell_type": "code",
   "execution_count": 42,
   "id": "9659feea-f5a9-4460-bc40-933e0d87309e",
   "metadata": {},
   "outputs": [
    {
     "name": "stdout",
     "output_type": "stream",
     "text": [
      "article_id 0.6884862784165002\n",
      "department_no 0.08884014665041261\n",
      "colour_group_code 0.040761257124888664\n",
      "perceived_colour_master_id 0.03372243692287156\n",
      "age 0.03299356532594135\n",
      "index_code 0.03147151848146219\n",
      "product_type_no 0.03064218662533408\n",
      "garment_group_no 0.02369475861966881\n",
      "FN 0.01043941669719081\n",
      "section_no 0.009859224241892443\n",
      "graphical_appearance_no 0.009089210893837288\n",
      "perceived_colour_value_id 0.0\n",
      "postal_code 0.0\n",
      "Active 0.0\n",
      "club_member_status 0.0\n",
      "fashion_news_frequency 0.0\n",
      "index_group_no 0.0\n"
     ]
    }
   ],
   "source": [
    "# Obtain feature importances\n",
    "for i in ranker.feature_importances_.argsort()[::-1]:\n",
    "    print(columns_to_use[i], ranker.feature_importances_[i]/ranker.feature_importances_.sum())"
   ]
  },
  {
   "cell_type": "markdown",
   "id": "d0203662-df90-46f2-9b72-46859f2e9193",
   "metadata": {},
   "source": [
    "## 6. Calculate predictions"
   ]
  },
  {
   "cell_type": "code",
   "execution_count": 43,
   "id": "b31f0d1b-c58f-4823-bdc7-991124866b1e",
   "metadata": {},
   "outputs": [
    {
     "data": {
      "text/html": [
       "<div>\n",
       "<style scoped>\n",
       "    .dataframe tbody tr th:only-of-type {\n",
       "        vertical-align: middle;\n",
       "    }\n",
       "\n",
       "    .dataframe tbody tr th {\n",
       "        vertical-align: top;\n",
       "    }\n",
       "\n",
       "    .dataframe thead th {\n",
       "        text-align: right;\n",
       "    }\n",
       "</style>\n",
       "<table border=\"1\" class=\"dataframe\">\n",
       "  <thead>\n",
       "    <tr style=\"text-align: right;\">\n",
       "      <th></th>\n",
       "      <th>t_dat</th>\n",
       "      <th>customer_id</th>\n",
       "      <th>article_id</th>\n",
       "      <th>price</th>\n",
       "      <th>sales_channel_id</th>\n",
       "      <th>week</th>\n",
       "      <th>purchased</th>\n",
       "      <th>product_code</th>\n",
       "      <th>prod_name</th>\n",
       "      <th>product_type_no</th>\n",
       "      <th>...</th>\n",
       "      <th>garment_group_no</th>\n",
       "      <th>garment_group_name</th>\n",
       "      <th>detail_desc</th>\n",
       "      <th>FN</th>\n",
       "      <th>Active</th>\n",
       "      <th>club_member_status</th>\n",
       "      <th>fashion_news_frequency</th>\n",
       "      <th>age</th>\n",
       "      <th>postal_code</th>\n",
       "      <th>preds</th>\n",
       "    </tr>\n",
       "  </thead>\n",
       "  <tbody>\n",
       "    <tr>\n",
       "      <th>23785723</th>\n",
       "      <td>2020-09-19</td>\n",
       "      <td>1827730561464445</td>\n",
       "      <td>918603001</td>\n",
       "      <td>0.047932</td>\n",
       "      <td>1</td>\n",
       "      <td>104</td>\n",
       "      <td>1.0</td>\n",
       "      <td>918603</td>\n",
       "      <td>26329</td>\n",
       "      <td>252</td>\n",
       "      <td>...</td>\n",
       "      <td>1003</td>\n",
       "      <td>3</td>\n",
       "      <td>28672</td>\n",
       "      <td>-1</td>\n",
       "      <td>-1</td>\n",
       "      <td>0</td>\n",
       "      <td>0</td>\n",
       "      <td>30</td>\n",
       "      <td>305856</td>\n",
       "      <td>0.15235</td>\n",
       "    </tr>\n",
       "    <tr>\n",
       "      <th>23785724</th>\n",
       "      <td>2020-09-19</td>\n",
       "      <td>1827730561464445</td>\n",
       "      <td>921380001</td>\n",
       "      <td>0.063898</td>\n",
       "      <td>1</td>\n",
       "      <td>104</td>\n",
       "      <td>1.0</td>\n",
       "      <td>921380</td>\n",
       "      <td>25098</td>\n",
       "      <td>264</td>\n",
       "      <td>...</td>\n",
       "      <td>1008</td>\n",
       "      <td>20</td>\n",
       "      <td>28745</td>\n",
       "      <td>-1</td>\n",
       "      <td>-1</td>\n",
       "      <td>0</td>\n",
       "      <td>0</td>\n",
       "      <td>30</td>\n",
       "      <td>305856</td>\n",
       "      <td>0.15235</td>\n",
       "    </tr>\n",
       "    <tr>\n",
       "      <th>23785725</th>\n",
       "      <td>2020-09-17</td>\n",
       "      <td>2639747769247776</td>\n",
       "      <td>819547001</td>\n",
       "      <td>0.027102</td>\n",
       "      <td>1</td>\n",
       "      <td>104</td>\n",
       "      <td>1.0</td>\n",
       "      <td>819547</td>\n",
       "      <td>15053</td>\n",
       "      <td>252</td>\n",
       "      <td>...</td>\n",
       "      <td>1003</td>\n",
       "      <td>3</td>\n",
       "      <td>14819</td>\n",
       "      <td>1</td>\n",
       "      <td>1</td>\n",
       "      <td>0</td>\n",
       "      <td>1</td>\n",
       "      <td>24</td>\n",
       "      <td>55211</td>\n",
       "      <td>-0.11521</td>\n",
       "    </tr>\n",
       "    <tr>\n",
       "      <th>23785726</th>\n",
       "      <td>2020-09-22</td>\n",
       "      <td>3204013276717965</td>\n",
       "      <td>908728002</td>\n",
       "      <td>0.067000</td>\n",
       "      <td>2</td>\n",
       "      <td>104</td>\n",
       "      <td>1.0</td>\n",
       "      <td>908728</td>\n",
       "      <td>738</td>\n",
       "      <td>265</td>\n",
       "      <td>...</td>\n",
       "      <td>1013</td>\n",
       "      <td>8</td>\n",
       "      <td>5495</td>\n",
       "      <td>-1</td>\n",
       "      <td>-1</td>\n",
       "      <td>0</td>\n",
       "      <td>0</td>\n",
       "      <td>25</td>\n",
       "      <td>65115</td>\n",
       "      <td>0.15235</td>\n",
       "    </tr>\n",
       "    <tr>\n",
       "      <th>23785727</th>\n",
       "      <td>2020-09-22</td>\n",
       "      <td>3204013276717965</td>\n",
       "      <td>929001001</td>\n",
       "      <td>0.058627</td>\n",
       "      <td>2</td>\n",
       "      <td>104</td>\n",
       "      <td>1.0</td>\n",
       "      <td>929001</td>\n",
       "      <td>25258</td>\n",
       "      <td>265</td>\n",
       "      <td>...</td>\n",
       "      <td>1013</td>\n",
       "      <td>8</td>\n",
       "      <td>27672</td>\n",
       "      <td>-1</td>\n",
       "      <td>-1</td>\n",
       "      <td>0</td>\n",
       "      <td>0</td>\n",
       "      <td>25</td>\n",
       "      <td>65115</td>\n",
       "      <td>0.15235</td>\n",
       "    </tr>\n",
       "  </tbody>\n",
       "</table>\n",
       "<p>5 rows × 38 columns</p>\n",
       "</div>"
      ],
      "text/plain": [
       "              t_dat       customer_id  article_id     price  sales_channel_id  \\\n",
       "23785723 2020-09-19  1827730561464445   918603001  0.047932                 1   \n",
       "23785724 2020-09-19  1827730561464445   921380001  0.063898                 1   \n",
       "23785725 2020-09-17  2639747769247776   819547001  0.027102                 1   \n",
       "23785726 2020-09-22  3204013276717965   908728002  0.067000                 2   \n",
       "23785727 2020-09-22  3204013276717965   929001001  0.058627                 2   \n",
       "\n",
       "          week  purchased  product_code  prod_name  product_type_no  ...  \\\n",
       "23785723   104        1.0        918603      26329              252  ...   \n",
       "23785724   104        1.0        921380      25098              264  ...   \n",
       "23785725   104        1.0        819547      15053              252  ...   \n",
       "23785726   104        1.0        908728        738              265  ...   \n",
       "23785727   104        1.0        929001      25258              265  ...   \n",
       "\n",
       "          garment_group_no  garment_group_name  detail_desc  FN  Active  \\\n",
       "23785723              1003                   3        28672  -1      -1   \n",
       "23785724              1008                  20        28745  -1      -1   \n",
       "23785725              1003                   3        14819   1       1   \n",
       "23785726              1013                   8         5495  -1      -1   \n",
       "23785727              1013                   8        27672  -1      -1   \n",
       "\n",
       "          club_member_status  fashion_news_frequency  age  postal_code  \\\n",
       "23785723                   0                       0   30       305856   \n",
       "23785724                   0                       0   30       305856   \n",
       "23785725                   0                       1   24        55211   \n",
       "23785726                   0                       0   25        65115   \n",
       "23785727                   0                       0   25        65115   \n",
       "\n",
       "            preds  \n",
       "23785723  0.15235  \n",
       "23785724  0.15235  \n",
       "23785725 -0.11521  \n",
       "23785726  0.15235  \n",
       "23785727  0.15235  \n",
       "\n",
       "[5 rows x 38 columns]"
      ]
     },
     "execution_count": 43,
     "metadata": {},
     "output_type": "execute_result"
    }
   ],
   "source": [
    "# Predict on test_X\n",
    "# Add the predictions to the test data (with customer and article id)\n",
    "test['preds'] = ranker.predict(test_X)\n",
    "test.head()"
   ]
  },
  {
   "cell_type": "code",
   "execution_count": 44,
   "id": "0cf18ec7-2ea9-4d17-85a0-eef86f4df237",
   "metadata": {},
   "outputs": [],
   "source": [
    "# Obtain the products for each customer, based on highest predictions.\n",
    "c_id2predicted_article_ids = test \\\n",
    "    .sort_values(['customer_id', 'preds'], ascending=False) \\\n",
    "    .groupby('customer_id')['article_id'].apply(list).to_dict()\n",
    "\n",
    "# c_id2predicted_article_ids[28847241659200] # predicted articles for person 28847241659200"
   ]
  },
  {
   "cell_type": "markdown",
   "id": "eea7c280-a70f-41aa-bf94-b8c39d2391a8",
   "metadata": {},
   "source": [
    "TODO"
   ]
  },
  {
   "cell_type": "code",
   "execution_count": 45,
   "id": "e251ca37-47ac-454a-b6d7-2424ddb6cd31",
   "metadata": {},
   "outputs": [],
   "source": [
    "# # last weeks best sellers will be used in case fewer than 12 recommendations for a customer are made\n",
    "# bestsellers_last_week = \\\n",
    "#     bestsellers_previous_week[bestsellers_previous_week.week == bestsellers_previous_week.week.max()]['article_id'].tolist()"
   ]
  },
  {
   "cell_type": "markdown",
   "id": "00e80ae6-87ff-4364-824d-68e10868319c",
   "metadata": {},
   "source": [
    "## 7. Evaluate results"
   ]
  },
  {
   "cell_type": "markdown",
   "id": "5d81d3bf-291d-4420-9933-6f29e8424515",
   "metadata": {},
   "source": [
    "Mileva has to continue from here. Still figuring out how this code is working."
   ]
  },
  {
   "cell_type": "code",
   "execution_count": 46,
   "id": "aae21fcf-24d7-411b-95a2-6110183d65aa",
   "metadata": {},
   "outputs": [],
   "source": [
    "val_week_purchases_by_cust = pd.read_pickle('data/val_week_purchases_by_cust.pkl')"
   ]
  },
  {
   "cell_type": "code",
   "execution_count": 47,
   "id": "da52519d-de1e-481d-a3cb-17a8a433b256",
   "metadata": {},
   "outputs": [
    {
     "data": {
      "text/plain": [
       "0.6991226130037995"
      ]
     },
     "execution_count": 47,
     "metadata": {},
     "output_type": "execute_result"
    }
   ],
   "source": [
    "apks = []\n",
    "\n",
    "# If the ranking algorithm proposes fewer than 12 items. Pad with the top best sellers from the previous week\n",
    "for c_id, gt in val_week_purchases_by_cust.items():\n",
    "    pred = c_id2predicted_article_ids.get(c_id, [])\n",
    "    # pred = pred + bestsellers_last_week\n",
    "    apks.append(apk(gt, pred[:12], 12))\n",
    "\n",
    "np.mean(apks)"
   ]
  },
  {
   "cell_type": "markdown",
   "id": "e4caebcc-a11f-4dc7-ba42-69f243f6bfab",
   "metadata": {},
   "source": [
    "## 8. Create submission"
   ]
  },
  {
   "cell_type": "code",
   "execution_count": 48,
   "id": "8d6797fb-caf5-442b-8998-1c4bf32dc182",
   "metadata": {},
   "outputs": [],
   "source": [
    "sub = pd.read_csv('data/sample_submission.csv')"
   ]
  },
  {
   "cell_type": "code",
   "execution_count": 51,
   "id": "1fca1e29-a12d-4041-b111-be412d914901",
   "metadata": {},
   "outputs": [
    {
     "name": "stdout",
     "output_type": "stream",
     "text": [
      "CPU times: user 1.5 s, sys: 76 ms, total: 1.57 s\n",
      "Wall time: 1.57 s\n"
     ]
    }
   ],
   "source": [
    "%%time\n",
    "preds = []\n",
    "for c_id in customer_hex_id_to_int(sub.customer_id):\n",
    "    pred = c_id2predicted_article_ids.get(c_id, [])\n",
    "    # pred = pred + bestsellers_last_week\n",
    "    preds.append(pred[:12])"
   ]
  },
  {
   "cell_type": "code",
   "execution_count": 52,
   "id": "a88b4948-0916-4101-b895-745c4e7343d3",
   "metadata": {},
   "outputs": [],
   "source": [
    "preds = [' '.join(['0' + str(p) for p in ps]) for ps in preds]\n",
    "sub.prediction = preds"
   ]
  },
  {
   "cell_type": "code",
   "execution_count": null,
   "id": "85ad2b63-0b55-4655-adcc-49069e9916f3",
   "metadata": {},
   "outputs": [],
   "source": [
    "# sub_name = 'basic_model_submission'\n",
    "# sub.to_csv(f'data/subs/{sub_name}.csv.gz', index=False)"
   ]
  },
  {
   "cell_type": "code",
   "execution_count": null,
   "id": "eebfda51-4e00-4142-917e-dc3f95ddf754",
   "metadata": {},
   "outputs": [],
   "source": [
    "# !kaggle competitions submit -c h-and-m-personalized-fashion-recommendations -f 'data/subs/{sub_name}.csv.gz' -m {sub_name}"
   ]
  },
  {
   "cell_type": "code",
   "execution_count": null,
   "id": "213fc734-db3e-4b2e-b727-566bf57b6d1e",
   "metadata": {},
   "outputs": [],
   "source": []
  }
 ],
 "metadata": {
  "kernelspec": {
   "display_name": "Python 3 (ipykernel)",
   "language": "python",
   "name": "python3"
  },
  "language_info": {
   "codemirror_mode": {
    "name": "ipython",
    "version": 3
   },
   "file_extension": ".py",
   "mimetype": "text/x-python",
   "name": "python",
   "nbconvert_exporter": "python",
   "pygments_lexer": "ipython3",
   "version": "3.9.7"
  }
 },
 "nbformat": 4,
 "nbformat_minor": 5
}
