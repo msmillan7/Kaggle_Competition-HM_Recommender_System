{
 "cells": [
  {
   "cell_type": "markdown",
   "id": "767dad92-7bd3-42b5-81a7-82798c2e0cb9",
   "metadata": {},
   "source": [
    "# Candidate Generation and LGBM"
   ]
  },
  {
   "cell_type": "markdown",
   "id": "ad4fe49e-6119-4768-bb56-68a3fdf07a61",
   "metadata": {},
   "source": [
    "## 1. Setup and imports"
   ]
  },
  {
   "cell_type": "markdown",
   "id": "95187996-7f03-488f-91eb-5e29b6376a1e",
   "metadata": {},
   "source": [
    "* pip install pyarrow (for loading parquets)\n",
    "* pip install lightgbm (May require installation of other packages: https://github.com/microsoft/LightGBM/tree/master/python-package)"
   ]
  },
  {
   "cell_type": "code",
   "execution_count": 1,
   "id": "270755bc-df6a-4db8-a053-666ab41e1a8a",
   "metadata": {},
   "outputs": [],
   "source": [
    "import pandas as pd\n",
    "import matplotlib as plt\n",
    "import numpy as np\n",
    "\n",
    "from average_precision import apk, mapk"
   ]
  },
  {
   "cell_type": "code",
   "execution_count": 2,
   "id": "ae277dbd-c0b8-492f-a171-9b52bffd5ab3",
   "metadata": {},
   "outputs": [],
   "source": [
    "# Helper functions for improving memory\n",
    "# https://www.kaggle.com/c/h-and-m-personalized-fashion-recommendations/discussion/308635\n",
    "def hex_id_to_int(str):\n",
    "    return int(str[-16:], 16)\n",
    "\n",
    "def customer_hex_id_to_int(series):\n",
    "    return series.str[-16:].apply(hex_id_to_int)"
   ]
  },
  {
   "cell_type": "markdown",
   "id": "bf35a627-98b2-4579-a0d9-28bda6a98508",
   "metadata": {},
   "source": [
    "All categorical columns in transactions, customers, and articles have been converted into a numerical code within the saved parquet. All NaN values were replaced with -1. LGBM models perform best when the categorical columns are encoded as integers. "
   ]
  },
  {
   "cell_type": "markdown",
   "id": "7a80e23d-1da4-4dc5-bd0a-ca1286e9ed14",
   "metadata": {},
   "source": [
    "## 2. Load data"
   ]
  },
  {
   "cell_type": "code",
   "execution_count": 29,
   "id": "0dbc132c-c973-4c92-b8a0-51fe301ddab8",
   "metadata": {},
   "outputs": [],
   "source": [
    "transactions_train = pd.read_parquet('data/transactions_train_sample_gt15transactions.parquet')\n",
    "customers = pd.read_parquet('data/customers.parquet')\n",
    "articles = pd.read_parquet('data/articles.parquet')\n",
    "transactions_val = pd.read_parquet('data/transactions_val.parquet')"
   ]
  },
  {
   "cell_type": "code",
   "execution_count": 7,
   "id": "dc6cb6a7-c42a-4e51-94a4-fa9eb27b7f12",
   "metadata": {},
   "outputs": [
    {
     "data": {
      "text/plain": [
       "1036592"
      ]
     },
     "execution_count": 7,
     "metadata": {},
     "output_type": "execute_result"
    }
   ],
   "source": [
    "transactions_train.shape[0] + transactions_val.shape[0]"
   ]
  },
  {
   "cell_type": "code",
   "execution_count": 4,
   "id": "08e11d7f-8c5b-412d-babe-d6cb6cb5ea80",
   "metadata": {},
   "outputs": [],
   "source": [
    "transactions = pd.concat([transactions_train, transactions_val])"
   ]
  },
  {
   "cell_type": "code",
   "execution_count": 6,
   "id": "22ffccd3-59e7-4015-a6cc-beced1ba27f2",
   "metadata": {},
   "outputs": [
    {
     "data": {
      "text/plain": [
       "(1036592, 6)"
      ]
     },
     "execution_count": 6,
     "metadata": {},
     "output_type": "execute_result"
    }
   ],
   "source": [
    "transactions.shape"
   ]
  },
  {
   "cell_type": "markdown",
   "id": "ca861858-1c2d-4d8a-a510-d29a0b67b2bc",
   "metadata": {},
   "source": [
    "### Transactions data"
   ]
  },
  {
   "cell_type": "code",
   "execution_count": 8,
   "id": "785a3a59-fe94-43a4-889d-5de81fdfcb90",
   "metadata": {},
   "outputs": [
    {
     "data": {
      "text/html": [
       "<div>\n",
       "<style scoped>\n",
       "    .dataframe tbody tr th:only-of-type {\n",
       "        vertical-align: middle;\n",
       "    }\n",
       "\n",
       "    .dataframe tbody tr th {\n",
       "        vertical-align: top;\n",
       "    }\n",
       "\n",
       "    .dataframe thead th {\n",
       "        text-align: right;\n",
       "    }\n",
       "</style>\n",
       "<table border=\"1\" class=\"dataframe\">\n",
       "  <thead>\n",
       "    <tr style=\"text-align: right;\">\n",
       "      <th></th>\n",
       "      <th>t_dat</th>\n",
       "      <th>customer_id</th>\n",
       "      <th>article_id</th>\n",
       "      <th>price</th>\n",
       "      <th>sales_channel_id</th>\n",
       "      <th>week</th>\n",
       "    </tr>\n",
       "  </thead>\n",
       "  <tbody>\n",
       "    <tr>\n",
       "      <th>0</th>\n",
       "      <td>2018-09-20</td>\n",
       "      <td>49501769952275870</td>\n",
       "      <td>615508002</td>\n",
       "      <td>0.016932</td>\n",
       "      <td>1</td>\n",
       "      <td>0</td>\n",
       "    </tr>\n",
       "    <tr>\n",
       "      <th>1</th>\n",
       "      <td>2018-09-20</td>\n",
       "      <td>50555163119119323</td>\n",
       "      <td>496111007</td>\n",
       "      <td>0.033881</td>\n",
       "      <td>2</td>\n",
       "      <td>0</td>\n",
       "    </tr>\n",
       "    <tr>\n",
       "      <th>2</th>\n",
       "      <td>2018-09-20</td>\n",
       "      <td>50555163119119323</td>\n",
       "      <td>651273001</td>\n",
       "      <td>0.022017</td>\n",
       "      <td>2</td>\n",
       "      <td>0</td>\n",
       "    </tr>\n",
       "    <tr>\n",
       "      <th>3</th>\n",
       "      <td>2018-09-20</td>\n",
       "      <td>50555163119119323</td>\n",
       "      <td>613826004</td>\n",
       "      <td>0.042356</td>\n",
       "      <td>2</td>\n",
       "      <td>0</td>\n",
       "    </tr>\n",
       "    <tr>\n",
       "      <th>4</th>\n",
       "      <td>2018-09-20</td>\n",
       "      <td>120750557174833794</td>\n",
       "      <td>662888004</td>\n",
       "      <td>0.033881</td>\n",
       "      <td>1</td>\n",
       "      <td>0</td>\n",
       "    </tr>\n",
       "  </tbody>\n",
       "</table>\n",
       "</div>"
      ],
      "text/plain": [
       "       t_dat         customer_id  article_id     price  sales_channel_id  week\n",
       "0 2018-09-20   49501769952275870   615508002  0.016932                 1     0\n",
       "1 2018-09-20   50555163119119323   496111007  0.033881                 2     0\n",
       "2 2018-09-20   50555163119119323   651273001  0.022017                 2     0\n",
       "3 2018-09-20   50555163119119323   613826004  0.042356                 2     0\n",
       "4 2018-09-20  120750557174833794   662888004  0.033881                 1     0"
      ]
     },
     "execution_count": 8,
     "metadata": {},
     "output_type": "execute_result"
    }
   ],
   "source": [
    "transactions.head()"
   ]
  },
  {
   "cell_type": "code",
   "execution_count": 10,
   "id": "c4712868-9069-42d2-bc71-e80299ac2128",
   "metadata": {},
   "outputs": [
    {
     "name": "stdout",
     "output_type": "stream",
     "text": [
      "<class 'pandas.core.frame.DataFrame'>\n",
      "Int64Index: 1036592 entries, 0 to 240310\n",
      "Data columns (total 6 columns):\n",
      " #   Column            Non-Null Count    Dtype         \n",
      "---  ------            --------------    -----         \n",
      " 0   t_dat             1036592 non-null  datetime64[ns]\n",
      " 1   customer_id       1036592 non-null  uint64        \n",
      " 2   article_id        1036592 non-null  int32         \n",
      " 3   price             1036592 non-null  float32       \n",
      " 4   sales_channel_id  1036592 non-null  int8          \n",
      " 5   week              1036592 non-null  int8          \n",
      "dtypes: datetime64[ns](1), float32(1), int32(1), int8(2), uint64(1)\n",
      "memory usage: 33.6 MB\n"
     ]
    }
   ],
   "source": [
    "transactions.info()"
   ]
  },
  {
   "cell_type": "markdown",
   "id": "7e82388a-1fc3-46e5-a55f-ceda2aec8427",
   "metadata": {},
   "source": [
    "Number of transactions made per week"
   ]
  },
  {
   "cell_type": "code",
   "execution_count": 11,
   "id": "cd3834dc-8e82-4243-91d5-bec9bb0af495",
   "metadata": {},
   "outputs": [
    {
     "data": {
      "text/plain": [
       "<AxesSubplot:title={'center':'Number of Transactions per Week'}>"
      ]
     },
     "execution_count": 11,
     "metadata": {},
     "output_type": "execute_result"
    },
    {
     "data": {
      "image/png": "[encoded data removed]",
      "text/plain": [
       "<Figure size 1440x720 with 1 Axes>"
      ]
     },
     "metadata": {
      "needs_background": "light"
     },
     "output_type": "display_data"
    }
   ],
   "source": [
    "transactions['week']\\\n",
    "    .value_counts()\\\n",
    "    .sort_index()\\\n",
    "    .plot(figsize = (20, 10), kind='bar', title = 'Number of Transactions per Week')"
   ]
  },
  {
   "cell_type": "markdown",
   "id": "c908982c-205a-470a-af41-d5183dacc8b9",
   "metadata": {},
   "source": [
    "## 5. Train, validation, test split"
   ]
  },
  {
   "cell_type": "markdown",
   "id": "8996348d-1857-498b-8a76-9d347400cae1",
   "metadata": {},
   "source": [
    "\"Leave One Last Item\" train, validation, test split from https://arxiv.org/pdf/2007.13237.pdf"
   ]
  },
  {
   "cell_type": "markdown",
   "id": "07abb995-c959-4d3f-b8c7-08cc17a10564",
   "metadata": {},
   "source": [
    "TODO - Make sure Marina's collaborative filtering only uses the data from the train transactions"
   ]
  },
  {
   "cell_type": "code",
   "execution_count": 13,
   "id": "ce3a4554-702f-4b8d-bd4b-7c43ab7a113e",
   "metadata": {},
   "outputs": [],
   "source": [
    "val_week = transactions[\"week\"].max() # Last week in the training set\n",
    "\n",
    "# train/ val transactions sets\n",
    "train_transactions = transactions[transactions[\"week\"] != val_week] \n",
    "val_transactions = transactions[transactions[\"week\"] == val_week].reset_index(drop = True)"
   ]
  },
  {
   "cell_type": "code",
   "execution_count": 14,
   "id": "9d74f23e-6c37-4225-8e32-dddf7e3f8567",
   "metadata": {},
   "outputs": [
    {
     "data": {
      "text/plain": [
       "(796281, 6)"
      ]
     },
     "execution_count": 14,
     "metadata": {},
     "output_type": "execute_result"
    }
   ],
   "source": [
    "train_transactions.shape"
   ]
  },
  {
   "cell_type": "code",
   "execution_count": 15,
   "id": "98a468bd-3a22-4fa2-ad69-c95b42447d46",
   "metadata": {},
   "outputs": [
    {
     "data": {
      "text/plain": [
       "(240311, 6)"
      ]
     },
     "execution_count": 15,
     "metadata": {},
     "output_type": "execute_result"
    }
   ],
   "source": [
    "val_transactions.shape"
   ]
  },
  {
   "cell_type": "markdown",
   "id": "c5ca2798-1456-43fc-a6c2-62adfe36c58c",
   "metadata": {},
   "source": [
    "## 6. Candidate Generation"
   ]
  },
  {
   "cell_type": "markdown",
   "id": "a5ea0968-e6a9-4d25-b2a5-028f1b6d643c",
   "metadata": {},
   "source": [
    "df with each customers last transaction. This will be the base df that we will merge all generated candidates into"
   ]
  },
  {
   "cell_type": "code",
   "execution_count": 16,
   "id": "4c5bc284-a56e-481f-a656-70fb0cc16622",
   "metadata": {},
   "outputs": [
    {
     "data": {
      "text/plain": [
       "68984"
      ]
     },
     "execution_count": 16,
     "metadata": {},
     "output_type": "execute_result"
    }
   ],
   "source": [
    "# The transaction of each customers last transaction\n",
    "unique_customers = transactions \\\n",
    "    .groupby(['customer_id']) \\\n",
    "    .tail(1) \\\n",
    "    .drop(columns=['article_id', 'price']) \\\n",
    "    .copy()\n",
    "unique_customers['week'].value_counts()[104]"
   ]
  },
  {
   "cell_type": "markdown",
   "id": "cd2f6ca4-6b72-4a89-9d63-edc81eb977ef",
   "metadata": {},
   "source": [
    "### 6.1 Collaborative Filtering Results"
   ]
  },
  {
   "cell_type": "markdown",
   "id": "3c5d6cdf-9610-45e5-81bf-18834e99ccbd",
   "metadata": {},
   "source": [
    "Read collaborative filtering csv results"
   ]
  },
  {
   "cell_type": "code",
   "execution_count": 17,
   "id": "f835c5a8-57dc-41db-ab8e-e685fde36b6a",
   "metadata": {},
   "outputs": [
    {
     "data": {
      "text/html": [
       "<div>\n",
       "<style scoped>\n",
       "    .dataframe tbody tr th:only-of-type {\n",
       "        vertical-align: middle;\n",
       "    }\n",
       "\n",
       "    .dataframe tbody tr th {\n",
       "        vertical-align: top;\n",
       "    }\n",
       "\n",
       "    .dataframe thead th {\n",
       "        text-align: right;\n",
       "    }\n",
       "</style>\n",
       "<table border=\"1\" class=\"dataframe\">\n",
       "  <thead>\n",
       "    <tr style=\"text-align: right;\">\n",
       "      <th></th>\n",
       "      <th>customer_id</th>\n",
       "      <th>recom_articles</th>\n",
       "    </tr>\n",
       "  </thead>\n",
       "  <tbody>\n",
       "    <tr>\n",
       "      <th>0</th>\n",
       "      <td>345001598676045</td>\n",
       "      <td>[827968001, 708352002, 557248002, 626816004, 8...</td>\n",
       "    </tr>\n",
       "    <tr>\n",
       "      <th>1</th>\n",
       "      <td>1134266496627188</td>\n",
       "      <td>[804992001, 821152002, 536139011, 906880003, 3...</td>\n",
       "    </tr>\n",
       "    <tr>\n",
       "      <th>2</th>\n",
       "      <td>1845857727772358</td>\n",
       "      <td>[593557001, 763712010, 821397008, 719530003, 6...</td>\n",
       "    </tr>\n",
       "    <tr>\n",
       "      <th>3</th>\n",
       "      <td>7252995555838753</td>\n",
       "      <td>[739819009, 716672001, 757995009, 786304003, 8...</td>\n",
       "    </tr>\n",
       "    <tr>\n",
       "      <th>4</th>\n",
       "      <td>8421185370332018</td>\n",
       "      <td>[490176001, 716224001, 819520003, 793856003, 7...</td>\n",
       "    </tr>\n",
       "  </tbody>\n",
       "</table>\n",
       "</div>"
      ],
      "text/plain": [
       "        customer_id                                     recom_articles\n",
       "0   345001598676045  [827968001, 708352002, 557248002, 626816004, 8...\n",
       "1  1134266496627188  [804992001, 821152002, 536139011, 906880003, 3...\n",
       "2  1845857727772358  [593557001, 763712010, 821397008, 719530003, 6...\n",
       "3  7252995555838753  [739819009, 716672001, 757995009, 786304003, 8...\n",
       "4  8421185370332018  [490176001, 716224001, 819520003, 793856003, 7..."
      ]
     },
     "execution_count": 17,
     "metadata": {},
     "output_type": "execute_result"
    }
   ],
   "source": [
    "customers_rec_articles = pd.read_csv(\"customers_recommended_articles.csv\")\n",
    "customers_rec_articles.head()"
   ]
  },
  {
   "cell_type": "code",
   "execution_count": 18,
   "id": "47a90671-d57c-4712-9b36-8246006c1311",
   "metadata": {},
   "outputs": [
    {
     "name": "stdout",
     "output_type": "stream",
     "text": [
      "<class 'pandas.core.frame.DataFrame'>\n",
      "RangeIndex: 15333 entries, 0 to 15332\n",
      "Data columns (total 2 columns):\n",
      " #   Column          Non-Null Count  Dtype \n",
      "---  ------          --------------  ----- \n",
      " 0   customer_id     15333 non-null  uint64\n",
      " 1   recom_articles  15333 non-null  object\n",
      "dtypes: object(1), uint64(1)\n",
      "memory usage: 239.7+ KB\n"
     ]
    }
   ],
   "source": [
    "customers_rec_articles.info()"
   ]
  },
  {
   "cell_type": "markdown",
   "id": "2e2e50d4-09ed-446a-9a34-b8126be95f27",
   "metadata": {},
   "source": [
    "Merge the recommended articles with the transaction data to generate negative samples"
   ]
  },
  {
   "cell_type": "code",
   "execution_count": 19,
   "id": "5e0ef2ed-6b9a-4d83-97ed-e613f72cccab",
   "metadata": {},
   "outputs": [
    {
     "data": {
      "text/html": [
       "<div>\n",
       "<style scoped>\n",
       "    .dataframe tbody tr th:only-of-type {\n",
       "        vertical-align: middle;\n",
       "    }\n",
       "\n",
       "    .dataframe tbody tr th {\n",
       "        vertical-align: top;\n",
       "    }\n",
       "\n",
       "    .dataframe thead th {\n",
       "        text-align: right;\n",
       "    }\n",
       "</style>\n",
       "<table border=\"1\" class=\"dataframe\">\n",
       "  <thead>\n",
       "    <tr style=\"text-align: right;\">\n",
       "      <th></th>\n",
       "      <th>t_dat</th>\n",
       "      <th>customer_id</th>\n",
       "      <th>sales_channel_id</th>\n",
       "      <th>week</th>\n",
       "      <th>recom_articles</th>\n",
       "    </tr>\n",
       "  </thead>\n",
       "  <tbody>\n",
       "    <tr>\n",
       "      <th>0</th>\n",
       "      <td>2018-09-20</td>\n",
       "      <td>7748846168934899318</td>\n",
       "      <td>1</td>\n",
       "      <td>0</td>\n",
       "      <td>[603584001, 612800008, 796053001, 591701002, 7...</td>\n",
       "    </tr>\n",
       "    <tr>\n",
       "      <th>1</th>\n",
       "      <td>2018-09-23</td>\n",
       "      <td>3046283554586632105</td>\n",
       "      <td>2</td>\n",
       "      <td>0</td>\n",
       "      <td>[508544001, 671232002, 752000003, 742912002, 8...</td>\n",
       "    </tr>\n",
       "    <tr>\n",
       "      <th>2</th>\n",
       "      <td>2018-09-26</td>\n",
       "      <td>4361157173718303054</td>\n",
       "      <td>1</td>\n",
       "      <td>1</td>\n",
       "      <td>[705557001, 532138001, 610776082, 876351002, 5...</td>\n",
       "    </tr>\n",
       "    <tr>\n",
       "      <th>3</th>\n",
       "      <td>2018-09-29</td>\n",
       "      <td>3704873858974099101</td>\n",
       "      <td>1</td>\n",
       "      <td>1</td>\n",
       "      <td>[676352001, 701952003, 639573001, 775210001, 7...</td>\n",
       "    </tr>\n",
       "    <tr>\n",
       "      <th>4</th>\n",
       "      <td>2018-09-29</td>\n",
       "      <td>9321548578656156180</td>\n",
       "      <td>1</td>\n",
       "      <td>1</td>\n",
       "      <td>[520427009, 694848005, 752512007, 705557001, 7...</td>\n",
       "    </tr>\n",
       "  </tbody>\n",
       "</table>\n",
       "</div>"
      ],
      "text/plain": [
       "       t_dat          customer_id  sales_channel_id  week  \\\n",
       "0 2018-09-20  7748846168934899318                 1     0   \n",
       "1 2018-09-23  3046283554586632105                 2     0   \n",
       "2 2018-09-26  4361157173718303054                 1     1   \n",
       "3 2018-09-29  3704873858974099101                 1     1   \n",
       "4 2018-09-29  9321548578656156180                 1     1   \n",
       "\n",
       "                                      recom_articles  \n",
       "0  [603584001, 612800008, 796053001, 591701002, 7...  \n",
       "1  [508544001, 671232002, 752000003, 742912002, 8...  \n",
       "2  [705557001, 532138001, 610776082, 876351002, 5...  \n",
       "3  [676352001, 701952003, 639573001, 775210001, 7...  \n",
       "4  [520427009, 694848005, 752512007, 705557001, 7...  "
      ]
     },
     "execution_count": 19,
     "metadata": {},
     "output_type": "execute_result"
    }
   ],
   "source": [
    "collab_candidates = pd.merge(\n",
    "    unique_customers, # base df to merge all results into\n",
    "    customers_rec_articles, # collaborative filtering results\n",
    "    on='customer_id'\n",
    ")\n",
    "\n",
    "collab_candidates.head()"
   ]
  },
  {
   "cell_type": "markdown",
   "id": "0f861938-c9ba-4193-b6ef-e42d430a6deb",
   "metadata": {},
   "source": [
    "recom_articles column is a list as a *string* type. Use json (as shown below) to convert the data into a list (of list type) as desired"
   ]
  },
  {
   "cell_type": "code",
   "execution_count": 20,
   "id": "c200f6ac-4eef-4974-9599-125c3fb15107",
   "metadata": {},
   "outputs": [],
   "source": [
    "import json\n",
    "collab_candidates['recom_articles'] = collab_candidates['recom_articles'].apply(lambda x: json.loads(x))"
   ]
  },
  {
   "cell_type": "markdown",
   "id": "399b3e1c-9222-4cae-a67e-68d541f4423f",
   "metadata": {},
   "source": [
    "Create one row per customer_id, article_id combination"
   ]
  },
  {
   "cell_type": "code",
   "execution_count": 21,
   "id": "095a6957-0e77-4244-a336-2606be1ceaa2",
   "metadata": {},
   "outputs": [
    {
     "data": {
      "text/html": [
       "<div>\n",
       "<style scoped>\n",
       "    .dataframe tbody tr th:only-of-type {\n",
       "        vertical-align: middle;\n",
       "    }\n",
       "\n",
       "    .dataframe tbody tr th {\n",
       "        vertical-align: top;\n",
       "    }\n",
       "\n",
       "    .dataframe thead th {\n",
       "        text-align: right;\n",
       "    }\n",
       "</style>\n",
       "<table border=\"1\" class=\"dataframe\">\n",
       "  <thead>\n",
       "    <tr style=\"text-align: right;\">\n",
       "      <th></th>\n",
       "      <th>t_dat</th>\n",
       "      <th>customer_id</th>\n",
       "      <th>sales_channel_id</th>\n",
       "      <th>week</th>\n",
       "      <th>article_id</th>\n",
       "    </tr>\n",
       "  </thead>\n",
       "  <tbody>\n",
       "    <tr>\n",
       "      <th>0</th>\n",
       "      <td>2018-09-20</td>\n",
       "      <td>7748846168934899318</td>\n",
       "      <td>1</td>\n",
       "      <td>0</td>\n",
       "      <td>603584001</td>\n",
       "    </tr>\n",
       "    <tr>\n",
       "      <th>1</th>\n",
       "      <td>2018-09-20</td>\n",
       "      <td>7748846168934899318</td>\n",
       "      <td>1</td>\n",
       "      <td>0</td>\n",
       "      <td>612800008</td>\n",
       "    </tr>\n",
       "    <tr>\n",
       "      <th>2</th>\n",
       "      <td>2018-09-20</td>\n",
       "      <td>7748846168934899318</td>\n",
       "      <td>1</td>\n",
       "      <td>0</td>\n",
       "      <td>796053001</td>\n",
       "    </tr>\n",
       "    <tr>\n",
       "      <th>3</th>\n",
       "      <td>2018-09-20</td>\n",
       "      <td>7748846168934899318</td>\n",
       "      <td>1</td>\n",
       "      <td>0</td>\n",
       "      <td>591701002</td>\n",
       "    </tr>\n",
       "    <tr>\n",
       "      <th>4</th>\n",
       "      <td>2018-09-20</td>\n",
       "      <td>7748846168934899318</td>\n",
       "      <td>1</td>\n",
       "      <td>0</td>\n",
       "      <td>727808010</td>\n",
       "    </tr>\n",
       "  </tbody>\n",
       "</table>\n",
       "</div>"
      ],
      "text/plain": [
       "       t_dat          customer_id  sales_channel_id  week article_id\n",
       "0 2018-09-20  7748846168934899318                 1     0  603584001\n",
       "1 2018-09-20  7748846168934899318                 1     0  612800008\n",
       "2 2018-09-20  7748846168934899318                 1     0  796053001\n",
       "3 2018-09-20  7748846168934899318                 1     0  591701002\n",
       "4 2018-09-20  7748846168934899318                 1     0  727808010"
      ]
     },
     "execution_count": 21,
     "metadata": {},
     "output_type": "execute_result"
    }
   ],
   "source": [
    "collab_candidates = collab_candidates.explode('recom_articles').reset_index(drop=True)\n",
    "\n",
    "# rename recom_articles to article_id to match other schema\n",
    "collab_candidates['article_id'] = collab_candidates['recom_articles'] \n",
    "collab_candidates = collab_candidates.drop('recom_articles', axis = 1)\n",
    "\n",
    "collab_candidates.head()"
   ]
  },
  {
   "cell_type": "code",
   "execution_count": 22,
   "id": "3b2c5b6f-23b3-4c92-a2cb-1929334f9239",
   "metadata": {},
   "outputs": [
    {
     "name": "stdout",
     "output_type": "stream",
     "text": [
      "<class 'pandas.core.frame.DataFrame'>\n",
      "RangeIndex: 2948506 entries, 0 to 2948505\n",
      "Data columns (total 5 columns):\n",
      " #   Column            Dtype         \n",
      "---  ------            -----         \n",
      " 0   t_dat             datetime64[ns]\n",
      " 1   customer_id       uint64        \n",
      " 2   sales_channel_id  int8          \n",
      " 3   week              int8          \n",
      " 4   article_id        object        \n",
      "dtypes: datetime64[ns](1), int8(2), object(1), uint64(1)\n",
      "memory usage: 73.1+ MB\n"
     ]
    }
   ],
   "source": [
    "collab_candidates.info()"
   ]
  },
  {
   "cell_type": "markdown",
   "id": "48b8db8d-559b-4b4f-9d11-032d4b4c4e03",
   "metadata": {},
   "source": [
    "Address format of article_id. Drop null rows and convert strings to the correct article_id format"
   ]
  },
  {
   "cell_type": "code",
   "execution_count": 23,
   "id": "2a561d27-1f1a-4126-b035-5bc23e37ed45",
   "metadata": {},
   "outputs": [
    {
     "name": "stdout",
     "output_type": "stream",
     "text": [
      "<class 'pandas.core.frame.DataFrame'>\n",
      "RangeIndex: 2948506 entries, 0 to 2948505\n",
      "Data columns (total 5 columns):\n",
      " #   Column            Dtype         \n",
      "---  ------            -----         \n",
      " 0   t_dat             datetime64[ns]\n",
      " 1   customer_id       uint64        \n",
      " 2   sales_channel_id  int8          \n",
      " 3   week              int8          \n",
      " 4   article_id        int32         \n",
      "dtypes: datetime64[ns](1), int32(1), int8(2), uint64(1)\n",
      "memory usage: 61.9 MB\n"
     ]
    }
   ],
   "source": [
    "def article_id_str_to_int(series):\n",
    "    return series.astype('int32')\n",
    "\n",
    "collab_candidates = collab_candidates.dropna()\n",
    "\n",
    "collab_candidates['article_id'] = article_id_str_to_int(collab_candidates['article_id'])\n",
    "collab_candidates.info()"
   ]
  },
  {
   "cell_type": "markdown",
   "id": "e3a44d0d-a67f-4aad-af75-2d1299137a3d",
   "metadata": {},
   "source": [
    "TODO? Approach 1: Identify items that customers last purchased"
   ]
  },
  {
   "cell_type": "markdown",
   "id": "a63e36f5-2bcb-4123-9a19-e90373c836e2",
   "metadata": {},
   "source": [
    "TODO - Approach 2: Bestsellers/ Popular candidates - identify the top 12 bestselling articles per week"
   ]
  },
  {
   "cell_type": "markdown",
   "id": "691e0ab4-6f81-4d65-877f-e7370080aa99",
   "metadata": {},
   "source": [
    "## 3. Combining transactions and candidates / negative examples"
   ]
  },
  {
   "cell_type": "markdown",
   "id": "5aa0216a-7de0-4382-ba30-876fe944865b",
   "metadata": {},
   "source": [
    "Label all transactions that actually occurred as 1 (positive samples)"
   ]
  },
  {
   "cell_type": "markdown",
   "id": "33aefcde-0048-42a3-b04f-4b2180797a55",
   "metadata": {},
   "source": [
    "Comment from Pawel in Kaggle discussion here: https://www.kaggle.com/competitions/h-and-m-personalized-fashion-recommendations/discussion/307288\n",
    "In my setting I propose to convert the problem to a table where you have a list of item candidates and you mark the sales as either 0 or 1 depending whether the item was sold in the <b>next</b> week. \n",
    "\n",
    "Imagine you want to create negative samples as a list of 1000 most popular items in the last week. Some of those items will be bought by the customers. So the table you need to create is:\n",
    "customer_id\n",
    "label = whether it was bought or not\n",
    "article_id from the list of 1000 most popular items\n",
    "I'm not saying this is the best approach here but it is more or less what I'm doing. This is a technique where you create a set of explicit negative items. There are also techniques for implicit recommendations but all of them assume some sort of a strategy to generate negative samples."
   ]
  },
  {
   "cell_type": "markdown",
   "id": "c340d47e-9d01-4f22-9758-143419d46c07",
   "metadata": {},
   "source": [
    "Positive samples, all previously purchased transactions"
   ]
  },
  {
   "cell_type": "code",
   "execution_count": 24,
   "id": "27a00ba8-304f-4eee-8c83-375f1cbf0683",
   "metadata": {},
   "outputs": [
    {
     "data": {
      "text/plain": [
       "(1036592, 7)"
      ]
     },
     "execution_count": 24,
     "metadata": {},
     "output_type": "execute_result"
    }
   ],
   "source": [
    "transactions[\"purchased\"] = 1 \n",
    "transactions.shape"
   ]
  },
  {
   "cell_type": "markdown",
   "id": "b8799c99-f28e-42bb-b09f-e4ebfd68ec5a",
   "metadata": {},
   "source": [
    "Combine positive and negative samples"
   ]
  },
  {
   "cell_type": "code",
   "execution_count": 25,
   "id": "a0bc8d5e-783f-49d6-8df5-b97b45e1198d",
   "metadata": {},
   "outputs": [],
   "source": [
    "data = pd.concat([transactions, collab_candidates])\n",
    "data.purchased.fillna(0, inplace=True) # Label all candidate generated transactions as 0"
   ]
  },
  {
   "cell_type": "code",
   "execution_count": 26,
   "id": "760c8944-dac6-4607-921f-1a43cbea9768",
   "metadata": {},
   "outputs": [
    {
     "data": {
      "text/html": [
       "<div>\n",
       "<style scoped>\n",
       "    .dataframe tbody tr th:only-of-type {\n",
       "        vertical-align: middle;\n",
       "    }\n",
       "\n",
       "    .dataframe tbody tr th {\n",
       "        vertical-align: top;\n",
       "    }\n",
       "\n",
       "    .dataframe thead th {\n",
       "        text-align: right;\n",
       "    }\n",
       "</style>\n",
       "<table border=\"1\" class=\"dataframe\">\n",
       "  <thead>\n",
       "    <tr style=\"text-align: right;\">\n",
       "      <th></th>\n",
       "      <th>t_dat</th>\n",
       "      <th>customer_id</th>\n",
       "      <th>article_id</th>\n",
       "      <th>price</th>\n",
       "      <th>sales_channel_id</th>\n",
       "      <th>week</th>\n",
       "      <th>purchased</th>\n",
       "    </tr>\n",
       "  </thead>\n",
       "  <tbody>\n",
       "    <tr>\n",
       "      <th>0</th>\n",
       "      <td>2018-09-20</td>\n",
       "      <td>49501769952275870</td>\n",
       "      <td>615508002</td>\n",
       "      <td>0.016932</td>\n",
       "      <td>1</td>\n",
       "      <td>0</td>\n",
       "      <td>1.0</td>\n",
       "    </tr>\n",
       "    <tr>\n",
       "      <th>1</th>\n",
       "      <td>2018-09-20</td>\n",
       "      <td>50555163119119323</td>\n",
       "      <td>496111007</td>\n",
       "      <td>0.033881</td>\n",
       "      <td>2</td>\n",
       "      <td>0</td>\n",
       "      <td>1.0</td>\n",
       "    </tr>\n",
       "    <tr>\n",
       "      <th>2</th>\n",
       "      <td>2018-09-20</td>\n",
       "      <td>50555163119119323</td>\n",
       "      <td>651273001</td>\n",
       "      <td>0.022017</td>\n",
       "      <td>2</td>\n",
       "      <td>0</td>\n",
       "      <td>1.0</td>\n",
       "    </tr>\n",
       "    <tr>\n",
       "      <th>3</th>\n",
       "      <td>2018-09-20</td>\n",
       "      <td>50555163119119323</td>\n",
       "      <td>613826004</td>\n",
       "      <td>0.042356</td>\n",
       "      <td>2</td>\n",
       "      <td>0</td>\n",
       "      <td>1.0</td>\n",
       "    </tr>\n",
       "    <tr>\n",
       "      <th>4</th>\n",
       "      <td>2018-09-20</td>\n",
       "      <td>120750557174833794</td>\n",
       "      <td>662888004</td>\n",
       "      <td>0.033881</td>\n",
       "      <td>1</td>\n",
       "      <td>0</td>\n",
       "      <td>1.0</td>\n",
       "    </tr>\n",
       "  </tbody>\n",
       "</table>\n",
       "</div>"
      ],
      "text/plain": [
       "       t_dat         customer_id  article_id     price  sales_channel_id  \\\n",
       "0 2018-09-20   49501769952275870   615508002  0.016932                 1   \n",
       "1 2018-09-20   50555163119119323   496111007  0.033881                 2   \n",
       "2 2018-09-20   50555163119119323   651273001  0.022017                 2   \n",
       "3 2018-09-20   50555163119119323   613826004  0.042356                 2   \n",
       "4 2018-09-20  120750557174833794   662888004  0.033881                 1   \n",
       "\n",
       "   week  purchased  \n",
       "0     0        1.0  \n",
       "1     0        1.0  \n",
       "2     0        1.0  \n",
       "3     0        1.0  \n",
       "4     0        1.0  "
      ]
     },
     "execution_count": 26,
     "metadata": {},
     "output_type": "execute_result"
    }
   ],
   "source": [
    "data.head()"
   ]
  },
  {
   "cell_type": "markdown",
   "id": "b7e53437-73cb-4aaa-bab8-27f6dc1cbe48",
   "metadata": {},
   "source": [
    "TODO - logic here with how lgbm works. It drops duplicates. Retains the transactions (positive labels). If duplicated, will drop the duplicates in the negative samples\n"
   ]
  },
  {
   "cell_type": "code",
   "execution_count": 27,
   "id": "5b2c46c3-dc28-406e-bbde-14d52728794b",
   "metadata": {},
   "outputs": [
    {
     "data": {
      "text/html": [
       "<div>\n",
       "<style scoped>\n",
       "    .dataframe tbody tr th:only-of-type {\n",
       "        vertical-align: middle;\n",
       "    }\n",
       "\n",
       "    .dataframe tbody tr th {\n",
       "        vertical-align: top;\n",
       "    }\n",
       "\n",
       "    .dataframe thead th {\n",
       "        text-align: right;\n",
       "    }\n",
       "</style>\n",
       "<table border=\"1\" class=\"dataframe\">\n",
       "  <thead>\n",
       "    <tr style=\"text-align: right;\">\n",
       "      <th></th>\n",
       "      <th>t_dat</th>\n",
       "      <th>customer_id</th>\n",
       "      <th>article_id</th>\n",
       "      <th>price</th>\n",
       "      <th>sales_channel_id</th>\n",
       "      <th>week</th>\n",
       "      <th>purchased</th>\n",
       "    </tr>\n",
       "  </thead>\n",
       "  <tbody>\n",
       "    <tr>\n",
       "      <th>0</th>\n",
       "      <td>2018-09-20</td>\n",
       "      <td>49501769952275870</td>\n",
       "      <td>615508002</td>\n",
       "      <td>0.016932</td>\n",
       "      <td>1</td>\n",
       "      <td>0</td>\n",
       "      <td>1.0</td>\n",
       "    </tr>\n",
       "    <tr>\n",
       "      <th>1</th>\n",
       "      <td>2018-09-20</td>\n",
       "      <td>50555163119119323</td>\n",
       "      <td>496111007</td>\n",
       "      <td>0.033881</td>\n",
       "      <td>2</td>\n",
       "      <td>0</td>\n",
       "      <td>1.0</td>\n",
       "    </tr>\n",
       "    <tr>\n",
       "      <th>2</th>\n",
       "      <td>2018-09-20</td>\n",
       "      <td>50555163119119323</td>\n",
       "      <td>651273001</td>\n",
       "      <td>0.022017</td>\n",
       "      <td>2</td>\n",
       "      <td>0</td>\n",
       "      <td>1.0</td>\n",
       "    </tr>\n",
       "    <tr>\n",
       "      <th>3</th>\n",
       "      <td>2018-09-20</td>\n",
       "      <td>50555163119119323</td>\n",
       "      <td>613826004</td>\n",
       "      <td>0.042356</td>\n",
       "      <td>2</td>\n",
       "      <td>0</td>\n",
       "      <td>1.0</td>\n",
       "    </tr>\n",
       "    <tr>\n",
       "      <th>4</th>\n",
       "      <td>2018-09-20</td>\n",
       "      <td>120750557174833794</td>\n",
       "      <td>662888004</td>\n",
       "      <td>0.033881</td>\n",
       "      <td>1</td>\n",
       "      <td>0</td>\n",
       "      <td>1.0</td>\n",
       "    </tr>\n",
       "  </tbody>\n",
       "</table>\n",
       "</div>"
      ],
      "text/plain": [
       "       t_dat         customer_id  article_id     price  sales_channel_id  \\\n",
       "0 2018-09-20   49501769952275870   615508002  0.016932                 1   \n",
       "1 2018-09-20   50555163119119323   496111007  0.033881                 2   \n",
       "2 2018-09-20   50555163119119323   651273001  0.022017                 2   \n",
       "3 2018-09-20   50555163119119323   613826004  0.042356                 2   \n",
       "4 2018-09-20  120750557174833794   662888004  0.033881                 1   \n",
       "\n",
       "   week  purchased  \n",
       "0     0        1.0  \n",
       "1     0        1.0  \n",
       "2     0        1.0  \n",
       "3     0        1.0  \n",
       "4     0        1.0  "
      ]
     },
     "execution_count": 27,
     "metadata": {},
     "output_type": "execute_result"
    }
   ],
   "source": [
    "# Drops duplicates. Retains the transactions (positive labels). If duplicated, will drop the duplicates in the negative samples\n",
    "data.drop_duplicates(['customer_id', 'article_id', 'week'], inplace=True) \n",
    "data.head()"
   ]
  },
  {
   "cell_type": "markdown",
   "id": "25f071b2-df36-478d-948a-1a18ff4710d0",
   "metadata": {},
   "source": [
    "TODO - add bestseller information see ranking_example.ipynb"
   ]
  },
  {
   "cell_type": "markdown",
   "id": "706031a8-791c-497f-a9bb-cf4085147f67",
   "metadata": {},
   "source": [
    "Create a joined dataset with transaction, article, and customer information + target values (0/ 1)"
   ]
  },
  {
   "cell_type": "code",
   "execution_count": 30,
   "id": "c79e05a6-2e0d-4742-bbaf-8b001b177f57",
   "metadata": {},
   "outputs": [],
   "source": [
    "data = pd.merge(data, articles, on='article_id', how='left')\n",
    "data = pd.merge(data, customers, on='customer_id', how='left')"
   ]
  },
  {
   "cell_type": "code",
   "execution_count": 31,
   "id": "5038fc38-24b1-4786-a3ce-ffed305be3a2",
   "metadata": {},
   "outputs": [],
   "source": [
    "data.sort_values(['week', 'customer_id'], inplace=True)\n",
    "data.reset_index(drop=True, inplace=True)"
   ]
  },
  {
   "cell_type": "code",
   "execution_count": 32,
   "id": "a6eaadf4-60cf-4db7-8ecd-f6f6f14ad438",
   "metadata": {},
   "outputs": [
    {
     "data": {
      "text/html": [
       "<div>\n",
       "<style scoped>\n",
       "    .dataframe tbody tr th:only-of-type {\n",
       "        vertical-align: middle;\n",
       "    }\n",
       "\n",
       "    .dataframe tbody tr th {\n",
       "        vertical-align: top;\n",
       "    }\n",
       "\n",
       "    .dataframe thead th {\n",
       "        text-align: right;\n",
       "    }\n",
       "</style>\n",
       "<table border=\"1\" class=\"dataframe\">\n",
       "  <thead>\n",
       "    <tr style=\"text-align: right;\">\n",
       "      <th></th>\n",
       "      <th>t_dat</th>\n",
       "      <th>customer_id</th>\n",
       "      <th>article_id</th>\n",
       "      <th>price</th>\n",
       "      <th>sales_channel_id</th>\n",
       "      <th>week</th>\n",
       "      <th>purchased</th>\n",
       "      <th>product_code</th>\n",
       "      <th>prod_name</th>\n",
       "      <th>product_type_no</th>\n",
       "      <th>...</th>\n",
       "      <th>index_group_name</th>\n",
       "      <th>section_no</th>\n",
       "      <th>section_name</th>\n",
       "      <th>garment_group_no</th>\n",
       "      <th>garment_group_name</th>\n",
       "      <th>detail_desc</th>\n",
       "      <th>club_member_status</th>\n",
       "      <th>fashion_news_frequency</th>\n",
       "      <th>age</th>\n",
       "      <th>postal_code</th>\n",
       "    </tr>\n",
       "  </thead>\n",
       "  <tbody>\n",
       "    <tr>\n",
       "      <th>0</th>\n",
       "      <td>2018-09-25</td>\n",
       "      <td>32004869510053717</td>\n",
       "      <td>666268001</td>\n",
       "      <td>0.033881</td>\n",
       "      <td>2</td>\n",
       "      <td>0</td>\n",
       "      <td>1.0</td>\n",
       "      <td>666268</td>\n",
       "      <td>8579</td>\n",
       "      <td>253</td>\n",
       "      <td>...</td>\n",
       "      <td>0</td>\n",
       "      <td>15</td>\n",
       "      <td>0</td>\n",
       "      <td>1010</td>\n",
       "      <td>6</td>\n",
       "      <td>36471</td>\n",
       "      <td>0</td>\n",
       "      <td>1</td>\n",
       "      <td>29.0</td>\n",
       "      <td>93042</td>\n",
       "    </tr>\n",
       "    <tr>\n",
       "      <th>1</th>\n",
       "      <td>2018-09-25</td>\n",
       "      <td>32004869510053717</td>\n",
       "      <td>558428001</td>\n",
       "      <td>0.035576</td>\n",
       "      <td>2</td>\n",
       "      <td>0</td>\n",
       "      <td>1.0</td>\n",
       "      <td>558428</td>\n",
       "      <td>38328</td>\n",
       "      <td>273</td>\n",
       "      <td>...</td>\n",
       "      <td>2</td>\n",
       "      <td>53</td>\n",
       "      <td>1</td>\n",
       "      <td>1009</td>\n",
       "      <td>5</td>\n",
       "      <td>30070</td>\n",
       "      <td>0</td>\n",
       "      <td>1</td>\n",
       "      <td>29.0</td>\n",
       "      <td>93042</td>\n",
       "    </tr>\n",
       "    <tr>\n",
       "      <th>2</th>\n",
       "      <td>2018-09-25</td>\n",
       "      <td>32004869510053717</td>\n",
       "      <td>632143001</td>\n",
       "      <td>0.033881</td>\n",
       "      <td>2</td>\n",
       "      <td>0</td>\n",
       "      <td>1.0</td>\n",
       "      <td>632143</td>\n",
       "      <td>21570</td>\n",
       "      <td>275</td>\n",
       "      <td>...</td>\n",
       "      <td>2</td>\n",
       "      <td>53</td>\n",
       "      <td>1</td>\n",
       "      <td>1012</td>\n",
       "      <td>18</td>\n",
       "      <td>20636</td>\n",
       "      <td>0</td>\n",
       "      <td>1</td>\n",
       "      <td>29.0</td>\n",
       "      <td>93042</td>\n",
       "    </tr>\n",
       "    <tr>\n",
       "      <th>3</th>\n",
       "      <td>2018-09-25</td>\n",
       "      <td>32004869510053717</td>\n",
       "      <td>684947002</td>\n",
       "      <td>0.028797</td>\n",
       "      <td>2</td>\n",
       "      <td>0</td>\n",
       "      <td>1.0</td>\n",
       "      <td>684947</td>\n",
       "      <td>12640</td>\n",
       "      <td>253</td>\n",
       "      <td>...</td>\n",
       "      <td>0</td>\n",
       "      <td>18</td>\n",
       "      <td>12</td>\n",
       "      <td>1003</td>\n",
       "      <td>3</td>\n",
       "      <td>20988</td>\n",
       "      <td>0</td>\n",
       "      <td>1</td>\n",
       "      <td>29.0</td>\n",
       "      <td>93042</td>\n",
       "    </tr>\n",
       "    <tr>\n",
       "      <th>4</th>\n",
       "      <td>2018-09-25</td>\n",
       "      <td>32004869510053717</td>\n",
       "      <td>690478001</td>\n",
       "      <td>0.033881</td>\n",
       "      <td>2</td>\n",
       "      <td>0</td>\n",
       "      <td>1.0</td>\n",
       "      <td>690478</td>\n",
       "      <td>45040</td>\n",
       "      <td>264</td>\n",
       "      <td>...</td>\n",
       "      <td>0</td>\n",
       "      <td>15</td>\n",
       "      <td>0</td>\n",
       "      <td>1023</td>\n",
       "      <td>19</td>\n",
       "      <td>35534</td>\n",
       "      <td>0</td>\n",
       "      <td>1</td>\n",
       "      <td>29.0</td>\n",
       "      <td>93042</td>\n",
       "    </tr>\n",
       "  </tbody>\n",
       "</table>\n",
       "<p>5 rows × 35 columns</p>\n",
       "</div>"
      ],
      "text/plain": [
       "       t_dat        customer_id  article_id     price  sales_channel_id  week  \\\n",
       "0 2018-09-25  32004869510053717   666268001  0.033881                 2     0   \n",
       "1 2018-09-25  32004869510053717   558428001  0.035576                 2     0   \n",
       "2 2018-09-25  32004869510053717   632143001  0.033881                 2     0   \n",
       "3 2018-09-25  32004869510053717   684947002  0.028797                 2     0   \n",
       "4 2018-09-25  32004869510053717   690478001  0.033881                 2     0   \n",
       "\n",
       "   purchased  product_code  prod_name  product_type_no  ...  index_group_name  \\\n",
       "0        1.0        666268       8579              253  ...                 0   \n",
       "1        1.0        558428      38328              273  ...                 2   \n",
       "2        1.0        632143      21570              275  ...                 2   \n",
       "3        1.0        684947      12640              253  ...                 0   \n",
       "4        1.0        690478      45040              264  ...                 0   \n",
       "\n",
       "   section_no  section_name  garment_group_no  garment_group_name  \\\n",
       "0          15             0              1010                   6   \n",
       "1          53             1              1009                   5   \n",
       "2          53             1              1012                  18   \n",
       "3          18            12              1003                   3   \n",
       "4          15             0              1023                  19   \n",
       "\n",
       "   detail_desc  club_member_status  fashion_news_frequency   age  postal_code  \n",
       "0        36471                   0                       1  29.0        93042  \n",
       "1        30070                   0                       1  29.0        93042  \n",
       "2        20636                   0                       1  29.0        93042  \n",
       "3        20988                   0                       1  29.0        93042  \n",
       "4        35534                   0                       1  29.0        93042  \n",
       "\n",
       "[5 rows x 35 columns]"
      ]
     },
     "execution_count": 32,
     "metadata": {},
     "output_type": "execute_result"
    }
   ],
   "source": [
    "data.head()"
   ]
  },
  {
   "cell_type": "markdown",
   "id": "793b4b58-a563-4b88-b81f-7b963fe7d597",
   "metadata": {},
   "source": [
    "## 4. Train/ Test data"
   ]
  },
  {
   "cell_type": "markdown",
   "id": "b771b7a7-242c-40ca-8376-7f5de3f16548",
   "metadata": {},
   "source": [
    "Train data is currently all transactions from weeks 0-103. The target labels are also obtained from transactions from weeks 0-103 (confirm this is correct or whether we should be predicting the next week, ie wk104)"
   ]
  },
  {
   "cell_type": "code",
   "execution_count": 33,
   "id": "14555400-89ae-4759-8658-b9061239c4bf",
   "metadata": {},
   "outputs": [],
   "source": [
    "test_week = val_week"
   ]
  },
  {
   "cell_type": "code",
   "execution_count": 34,
   "id": "3ae24bf0-2f81-4517-9bdc-76ab8b95ab0f",
   "metadata": {},
   "outputs": [
    {
     "data": {
      "text/plain": [
       "104"
      ]
     },
     "execution_count": 34,
     "metadata": {},
     "output_type": "execute_result"
    }
   ],
   "source": [
    "test_week"
   ]
  },
  {
   "cell_type": "code",
   "execution_count": 35,
   "id": "e3ffc957-e053-40c3-b876-f89e784703ff",
   "metadata": {},
   "outputs": [
    {
     "data": {
      "text/html": [
       "<div>\n",
       "<style scoped>\n",
       "    .dataframe tbody tr th:only-of-type {\n",
       "        vertical-align: middle;\n",
       "    }\n",
       "\n",
       "    .dataframe tbody tr th {\n",
       "        vertical-align: top;\n",
       "    }\n",
       "\n",
       "    .dataframe thead th {\n",
       "        text-align: right;\n",
       "    }\n",
       "</style>\n",
       "<table border=\"1\" class=\"dataframe\">\n",
       "  <thead>\n",
       "    <tr style=\"text-align: right;\">\n",
       "      <th></th>\n",
       "      <th>t_dat</th>\n",
       "      <th>customer_id</th>\n",
       "      <th>article_id</th>\n",
       "      <th>price</th>\n",
       "      <th>sales_channel_id</th>\n",
       "      <th>week</th>\n",
       "      <th>purchased</th>\n",
       "      <th>product_code</th>\n",
       "      <th>prod_name</th>\n",
       "      <th>product_type_no</th>\n",
       "      <th>...</th>\n",
       "      <th>index_group_name</th>\n",
       "      <th>section_no</th>\n",
       "      <th>section_name</th>\n",
       "      <th>garment_group_no</th>\n",
       "      <th>garment_group_name</th>\n",
       "      <th>detail_desc</th>\n",
       "      <th>club_member_status</th>\n",
       "      <th>fashion_news_frequency</th>\n",
       "      <th>age</th>\n",
       "      <th>postal_code</th>\n",
       "    </tr>\n",
       "  </thead>\n",
       "  <tbody>\n",
       "    <tr>\n",
       "      <th>0</th>\n",
       "      <td>2018-09-25</td>\n",
       "      <td>32004869510053717</td>\n",
       "      <td>666268001</td>\n",
       "      <td>0.033881</td>\n",
       "      <td>2</td>\n",
       "      <td>0</td>\n",
       "      <td>1.0</td>\n",
       "      <td>666268</td>\n",
       "      <td>8579</td>\n",
       "      <td>253</td>\n",
       "      <td>...</td>\n",
       "      <td>0</td>\n",
       "      <td>15</td>\n",
       "      <td>0</td>\n",
       "      <td>1010</td>\n",
       "      <td>6</td>\n",
       "      <td>36471</td>\n",
       "      <td>0</td>\n",
       "      <td>1</td>\n",
       "      <td>29.0</td>\n",
       "      <td>93042</td>\n",
       "    </tr>\n",
       "    <tr>\n",
       "      <th>1</th>\n",
       "      <td>2018-09-25</td>\n",
       "      <td>32004869510053717</td>\n",
       "      <td>558428001</td>\n",
       "      <td>0.035576</td>\n",
       "      <td>2</td>\n",
       "      <td>0</td>\n",
       "      <td>1.0</td>\n",
       "      <td>558428</td>\n",
       "      <td>38328</td>\n",
       "      <td>273</td>\n",
       "      <td>...</td>\n",
       "      <td>2</td>\n",
       "      <td>53</td>\n",
       "      <td>1</td>\n",
       "      <td>1009</td>\n",
       "      <td>5</td>\n",
       "      <td>30070</td>\n",
       "      <td>0</td>\n",
       "      <td>1</td>\n",
       "      <td>29.0</td>\n",
       "      <td>93042</td>\n",
       "    </tr>\n",
       "    <tr>\n",
       "      <th>2</th>\n",
       "      <td>2018-09-25</td>\n",
       "      <td>32004869510053717</td>\n",
       "      <td>632143001</td>\n",
       "      <td>0.033881</td>\n",
       "      <td>2</td>\n",
       "      <td>0</td>\n",
       "      <td>1.0</td>\n",
       "      <td>632143</td>\n",
       "      <td>21570</td>\n",
       "      <td>275</td>\n",
       "      <td>...</td>\n",
       "      <td>2</td>\n",
       "      <td>53</td>\n",
       "      <td>1</td>\n",
       "      <td>1012</td>\n",
       "      <td>18</td>\n",
       "      <td>20636</td>\n",
       "      <td>0</td>\n",
       "      <td>1</td>\n",
       "      <td>29.0</td>\n",
       "      <td>93042</td>\n",
       "    </tr>\n",
       "    <tr>\n",
       "      <th>3</th>\n",
       "      <td>2018-09-25</td>\n",
       "      <td>32004869510053717</td>\n",
       "      <td>684947002</td>\n",
       "      <td>0.028797</td>\n",
       "      <td>2</td>\n",
       "      <td>0</td>\n",
       "      <td>1.0</td>\n",
       "      <td>684947</td>\n",
       "      <td>12640</td>\n",
       "      <td>253</td>\n",
       "      <td>...</td>\n",
       "      <td>0</td>\n",
       "      <td>18</td>\n",
       "      <td>12</td>\n",
       "      <td>1003</td>\n",
       "      <td>3</td>\n",
       "      <td>20988</td>\n",
       "      <td>0</td>\n",
       "      <td>1</td>\n",
       "      <td>29.0</td>\n",
       "      <td>93042</td>\n",
       "    </tr>\n",
       "    <tr>\n",
       "      <th>4</th>\n",
       "      <td>2018-09-25</td>\n",
       "      <td>32004869510053717</td>\n",
       "      <td>690478001</td>\n",
       "      <td>0.033881</td>\n",
       "      <td>2</td>\n",
       "      <td>0</td>\n",
       "      <td>1.0</td>\n",
       "      <td>690478</td>\n",
       "      <td>45040</td>\n",
       "      <td>264</td>\n",
       "      <td>...</td>\n",
       "      <td>0</td>\n",
       "      <td>15</td>\n",
       "      <td>0</td>\n",
       "      <td>1023</td>\n",
       "      <td>19</td>\n",
       "      <td>35534</td>\n",
       "      <td>0</td>\n",
       "      <td>1</td>\n",
       "      <td>29.0</td>\n",
       "      <td>93042</td>\n",
       "    </tr>\n",
       "  </tbody>\n",
       "</table>\n",
       "<p>5 rows × 35 columns</p>\n",
       "</div>"
      ],
      "text/plain": [
       "       t_dat        customer_id  article_id     price  sales_channel_id  week  \\\n",
       "0 2018-09-25  32004869510053717   666268001  0.033881                 2     0   \n",
       "1 2018-09-25  32004869510053717   558428001  0.035576                 2     0   \n",
       "2 2018-09-25  32004869510053717   632143001  0.033881                 2     0   \n",
       "3 2018-09-25  32004869510053717   684947002  0.028797                 2     0   \n",
       "4 2018-09-25  32004869510053717   690478001  0.033881                 2     0   \n",
       "\n",
       "   purchased  product_code  prod_name  product_type_no  ...  index_group_name  \\\n",
       "0        1.0        666268       8579              253  ...                 0   \n",
       "1        1.0        558428      38328              273  ...                 2   \n",
       "2        1.0        632143      21570              275  ...                 2   \n",
       "3        1.0        684947      12640              253  ...                 0   \n",
       "4        1.0        690478      45040              264  ...                 0   \n",
       "\n",
       "   section_no  section_name  garment_group_no  garment_group_name  \\\n",
       "0          15             0              1010                   6   \n",
       "1          53             1              1009                   5   \n",
       "2          53             1              1012                  18   \n",
       "3          18            12              1003                   3   \n",
       "4          15             0              1023                  19   \n",
       "\n",
       "   detail_desc  club_member_status  fashion_news_frequency   age  postal_code  \n",
       "0        36471                   0                       1  29.0        93042  \n",
       "1        30070                   0                       1  29.0        93042  \n",
       "2        20636                   0                       1  29.0        93042  \n",
       "3        20988                   0                       1  29.0        93042  \n",
       "4        35534                   0                       1  29.0        93042  \n",
       "\n",
       "[5 rows x 35 columns]"
      ]
     },
     "execution_count": 35,
     "metadata": {},
     "output_type": "execute_result"
    }
   ],
   "source": [
    "train = data[data.week != test_week]\n",
    "train.head()"
   ]
  },
  {
   "cell_type": "code",
   "execution_count": 36,
   "id": "f00ccc12-f722-4cd4-ac0e-e17d51af3621",
   "metadata": {},
   "outputs": [
    {
     "data": {
      "text/html": [
       "<div>\n",
       "<style scoped>\n",
       "    .dataframe tbody tr th:only-of-type {\n",
       "        vertical-align: middle;\n",
       "    }\n",
       "\n",
       "    .dataframe tbody tr th {\n",
       "        vertical-align: top;\n",
       "    }\n",
       "\n",
       "    .dataframe thead th {\n",
       "        text-align: right;\n",
       "    }\n",
       "</style>\n",
       "<table border=\"1\" class=\"dataframe\">\n",
       "  <thead>\n",
       "    <tr style=\"text-align: right;\">\n",
       "      <th></th>\n",
       "      <th>t_dat</th>\n",
       "      <th>customer_id</th>\n",
       "      <th>article_id</th>\n",
       "      <th>price</th>\n",
       "      <th>sales_channel_id</th>\n",
       "      <th>week</th>\n",
       "      <th>purchased</th>\n",
       "      <th>product_code</th>\n",
       "      <th>prod_name</th>\n",
       "      <th>product_type_no</th>\n",
       "      <th>...</th>\n",
       "      <th>index_group_name</th>\n",
       "      <th>section_no</th>\n",
       "      <th>section_name</th>\n",
       "      <th>garment_group_no</th>\n",
       "      <th>garment_group_name</th>\n",
       "      <th>detail_desc</th>\n",
       "      <th>club_member_status</th>\n",
       "      <th>fashion_news_frequency</th>\n",
       "      <th>age</th>\n",
       "      <th>postal_code</th>\n",
       "    </tr>\n",
       "  </thead>\n",
       "  <tbody>\n",
       "    <tr>\n",
       "      <th>3347750</th>\n",
       "      <td>2020-09-22</td>\n",
       "      <td>1402273113592184</td>\n",
       "      <td>885951001</td>\n",
       "      <td>0.030492</td>\n",
       "      <td>2</td>\n",
       "      <td>104</td>\n",
       "      <td>1.0</td>\n",
       "      <td>885951</td>\n",
       "      <td>5202</td>\n",
       "      <td>306</td>\n",
       "      <td>...</td>\n",
       "      <td>0</td>\n",
       "      <td>61</td>\n",
       "      <td>5</td>\n",
       "      <td>1017</td>\n",
       "      <td>4</td>\n",
       "      <td>5645</td>\n",
       "      <td>0</td>\n",
       "      <td>0</td>\n",
       "      <td>20.0</td>\n",
       "      <td>206442</td>\n",
       "    </tr>\n",
       "    <tr>\n",
       "      <th>3347751</th>\n",
       "      <td>2020-09-22</td>\n",
       "      <td>1402273113592184</td>\n",
       "      <td>611415001</td>\n",
       "      <td>0.016932</td>\n",
       "      <td>2</td>\n",
       "      <td>104</td>\n",
       "      <td>1.0</td>\n",
       "      <td>611415</td>\n",
       "      <td>158</td>\n",
       "      <td>286</td>\n",
       "      <td>...</td>\n",
       "      <td>0</td>\n",
       "      <td>61</td>\n",
       "      <td>5</td>\n",
       "      <td>1017</td>\n",
       "      <td>4</td>\n",
       "      <td>28</td>\n",
       "      <td>0</td>\n",
       "      <td>0</td>\n",
       "      <td>20.0</td>\n",
       "      <td>206442</td>\n",
       "    </tr>\n",
       "    <tr>\n",
       "      <th>3347752</th>\n",
       "      <td>2020-09-19</td>\n",
       "      <td>1827730561464445</td>\n",
       "      <td>918603001</td>\n",
       "      <td>0.047932</td>\n",
       "      <td>1</td>\n",
       "      <td>104</td>\n",
       "      <td>1.0</td>\n",
       "      <td>918603</td>\n",
       "      <td>26329</td>\n",
       "      <td>252</td>\n",
       "      <td>...</td>\n",
       "      <td>0</td>\n",
       "      <td>15</td>\n",
       "      <td>0</td>\n",
       "      <td>1003</td>\n",
       "      <td>3</td>\n",
       "      <td>28672</td>\n",
       "      <td>0</td>\n",
       "      <td>0</td>\n",
       "      <td>30.0</td>\n",
       "      <td>305856</td>\n",
       "    </tr>\n",
       "    <tr>\n",
       "      <th>3347753</th>\n",
       "      <td>2020-09-19</td>\n",
       "      <td>1827730561464445</td>\n",
       "      <td>921380001</td>\n",
       "      <td>0.063898</td>\n",
       "      <td>1</td>\n",
       "      <td>104</td>\n",
       "      <td>1.0</td>\n",
       "      <td>921380</td>\n",
       "      <td>25098</td>\n",
       "      <td>264</td>\n",
       "      <td>...</td>\n",
       "      <td>0</td>\n",
       "      <td>15</td>\n",
       "      <td>0</td>\n",
       "      <td>1008</td>\n",
       "      <td>20</td>\n",
       "      <td>28745</td>\n",
       "      <td>0</td>\n",
       "      <td>0</td>\n",
       "      <td>30.0</td>\n",
       "      <td>305856</td>\n",
       "    </tr>\n",
       "    <tr>\n",
       "      <th>3347754</th>\n",
       "      <td>2020-09-22</td>\n",
       "      <td>1951136007097426</td>\n",
       "      <td>778745010</td>\n",
       "      <td>0.033881</td>\n",
       "      <td>1</td>\n",
       "      <td>104</td>\n",
       "      <td>1.0</td>\n",
       "      <td>778745</td>\n",
       "      <td>520</td>\n",
       "      <td>297</td>\n",
       "      <td>...</td>\n",
       "      <td>0</td>\n",
       "      <td>62</td>\n",
       "      <td>31</td>\n",
       "      <td>1017</td>\n",
       "      <td>4</td>\n",
       "      <td>1215</td>\n",
       "      <td>0</td>\n",
       "      <td>0</td>\n",
       "      <td>28.0</td>\n",
       "      <td>150297</td>\n",
       "    </tr>\n",
       "  </tbody>\n",
       "</table>\n",
       "<p>5 rows × 35 columns</p>\n",
       "</div>"
      ],
      "text/plain": [
       "             t_dat       customer_id  article_id     price  sales_channel_id  \\\n",
       "3347750 2020-09-22  1402273113592184   885951001  0.030492                 2   \n",
       "3347751 2020-09-22  1402273113592184   611415001  0.016932                 2   \n",
       "3347752 2020-09-19  1827730561464445   918603001  0.047932                 1   \n",
       "3347753 2020-09-19  1827730561464445   921380001  0.063898                 1   \n",
       "3347754 2020-09-22  1951136007097426   778745010  0.033881                 1   \n",
       "\n",
       "         week  purchased  product_code  prod_name  product_type_no  ...  \\\n",
       "3347750   104        1.0        885951       5202              306  ...   \n",
       "3347751   104        1.0        611415        158              286  ...   \n",
       "3347752   104        1.0        918603      26329              252  ...   \n",
       "3347753   104        1.0        921380      25098              264  ...   \n",
       "3347754   104        1.0        778745        520              297  ...   \n",
       "\n",
       "         index_group_name  section_no  section_name  garment_group_no  \\\n",
       "3347750                 0          61             5              1017   \n",
       "3347751                 0          61             5              1017   \n",
       "3347752                 0          15             0              1003   \n",
       "3347753                 0          15             0              1008   \n",
       "3347754                 0          62            31              1017   \n",
       "\n",
       "         garment_group_name  detail_desc  club_member_status  \\\n",
       "3347750                   4         5645                   0   \n",
       "3347751                   4           28                   0   \n",
       "3347752                   3        28672                   0   \n",
       "3347753                  20        28745                   0   \n",
       "3347754                   4         1215                   0   \n",
       "\n",
       "         fashion_news_frequency   age  postal_code  \n",
       "3347750                       0  20.0       206442  \n",
       "3347751                       0  20.0       206442  \n",
       "3347752                       0  30.0       305856  \n",
       "3347753                       0  30.0       305856  \n",
       "3347754                       0  28.0       150297  \n",
       "\n",
       "[5 rows x 35 columns]"
      ]
     },
     "execution_count": 36,
     "metadata": {},
     "output_type": "execute_result"
    }
   ],
   "source": [
    "test = data[data.week==test_week].drop_duplicates(['customer_id', 'article_id', 'sales_channel_id']).copy()\n",
    "test.head()"
   ]
  },
  {
   "cell_type": "markdown",
   "id": "8880948f-cb53-4c72-92e8-bff3a0e8b108",
   "metadata": {},
   "source": [
    "Only use a subset of columns specified here as input into the LGBM model"
   ]
  },
  {
   "cell_type": "code",
   "execution_count": 37,
   "id": "a540c72e-bc69-4078-8dcb-fc86a904899d",
   "metadata": {},
   "outputs": [],
   "source": [
    "columns_to_use = ['article_id', 'product_type_no', 'graphical_appearance_no', 'colour_group_code', 'perceived_colour_value_id',\n",
    "'perceived_colour_master_id', 'department_no', 'index_code',\n",
    "'index_group_no', 'section_no', 'garment_group_no', \n",
    "'club_member_status', 'fashion_news_frequency', 'age', 'postal_code'] #, 'bestseller_rank']"
   ]
  },
  {
   "cell_type": "markdown",
   "id": "468cebcd-bb89-4b09-b351-e68f0e11d471",
   "metadata": {},
   "source": [
    "### Model input"
   ]
  },
  {
   "cell_type": "code",
   "execution_count": 38,
   "id": "184f819c-c18f-47d3-be8a-a0b96f5803b4",
   "metadata": {},
   "outputs": [],
   "source": [
    "train_X = train[columns_to_use]\n",
    "train_y = train['purchased']\n",
    "\n",
    "test_X = test[columns_to_use]"
   ]
  },
  {
   "cell_type": "code",
   "execution_count": 39,
   "id": "6dcd8b4b-dc68-45b4-9ebe-d0b348ca5542",
   "metadata": {},
   "outputs": [
    {
     "data": {
      "text/html": [
       "<div>\n",
       "<style scoped>\n",
       "    .dataframe tbody tr th:only-of-type {\n",
       "        vertical-align: middle;\n",
       "    }\n",
       "\n",
       "    .dataframe tbody tr th {\n",
       "        vertical-align: top;\n",
       "    }\n",
       "\n",
       "    .dataframe thead th {\n",
       "        text-align: right;\n",
       "    }\n",
       "</style>\n",
       "<table border=\"1\" class=\"dataframe\">\n",
       "  <thead>\n",
       "    <tr style=\"text-align: right;\">\n",
       "      <th></th>\n",
       "      <th>article_id</th>\n",
       "      <th>product_type_no</th>\n",
       "      <th>graphical_appearance_no</th>\n",
       "      <th>colour_group_code</th>\n",
       "      <th>perceived_colour_value_id</th>\n",
       "      <th>perceived_colour_master_id</th>\n",
       "      <th>department_no</th>\n",
       "      <th>index_code</th>\n",
       "      <th>index_group_no</th>\n",
       "      <th>section_no</th>\n",
       "      <th>garment_group_no</th>\n",
       "      <th>club_member_status</th>\n",
       "      <th>fashion_news_frequency</th>\n",
       "      <th>age</th>\n",
       "      <th>postal_code</th>\n",
       "    </tr>\n",
       "  </thead>\n",
       "  <tbody>\n",
       "    <tr>\n",
       "      <th>0</th>\n",
       "      <td>666268001</td>\n",
       "      <td>253</td>\n",
       "      <td>1010016</td>\n",
       "      <td>9</td>\n",
       "      <td>4</td>\n",
       "      <td>5</td>\n",
       "      <td>1522</td>\n",
       "      <td>0</td>\n",
       "      <td>1</td>\n",
       "      <td>15</td>\n",
       "      <td>1010</td>\n",
       "      <td>0</td>\n",
       "      <td>1</td>\n",
       "      <td>29.0</td>\n",
       "      <td>93042</td>\n",
       "    </tr>\n",
       "    <tr>\n",
       "      <th>1</th>\n",
       "      <td>558428001</td>\n",
       "      <td>273</td>\n",
       "      <td>1010016</td>\n",
       "      <td>9</td>\n",
       "      <td>4</td>\n",
       "      <td>5</td>\n",
       "      <td>1747</td>\n",
       "      <td>1</td>\n",
       "      <td>2</td>\n",
       "      <td>53</td>\n",
       "      <td>1009</td>\n",
       "      <td>0</td>\n",
       "      <td>1</td>\n",
       "      <td>29.0</td>\n",
       "      <td>93042</td>\n",
       "    </tr>\n",
       "    <tr>\n",
       "      <th>2</th>\n",
       "      <td>632143001</td>\n",
       "      <td>275</td>\n",
       "      <td>1010016</td>\n",
       "      <td>9</td>\n",
       "      <td>4</td>\n",
       "      <td>5</td>\n",
       "      <td>1444</td>\n",
       "      <td>1</td>\n",
       "      <td>2</td>\n",
       "      <td>53</td>\n",
       "      <td>1012</td>\n",
       "      <td>0</td>\n",
       "      <td>1</td>\n",
       "      <td>29.0</td>\n",
       "      <td>93042</td>\n",
       "    </tr>\n",
       "    <tr>\n",
       "      <th>3</th>\n",
       "      <td>684947002</td>\n",
       "      <td>253</td>\n",
       "      <td>1010016</td>\n",
       "      <td>11</td>\n",
       "      <td>1</td>\n",
       "      <td>9</td>\n",
       "      <td>1648</td>\n",
       "      <td>0</td>\n",
       "      <td>1</td>\n",
       "      <td>18</td>\n",
       "      <td>1003</td>\n",
       "      <td>0</td>\n",
       "      <td>1</td>\n",
       "      <td>29.0</td>\n",
       "      <td>93042</td>\n",
       "    </tr>\n",
       "    <tr>\n",
       "      <th>4</th>\n",
       "      <td>690478001</td>\n",
       "      <td>264</td>\n",
       "      <td>1010017</td>\n",
       "      <td>9</td>\n",
       "      <td>4</td>\n",
       "      <td>5</td>\n",
       "      <td>3090</td>\n",
       "      <td>0</td>\n",
       "      <td>1</td>\n",
       "      <td>15</td>\n",
       "      <td>1023</td>\n",
       "      <td>0</td>\n",
       "      <td>1</td>\n",
       "      <td>29.0</td>\n",
       "      <td>93042</td>\n",
       "    </tr>\n",
       "  </tbody>\n",
       "</table>\n",
       "</div>"
      ],
      "text/plain": [
       "   article_id  product_type_no  graphical_appearance_no  colour_group_code  \\\n",
       "0   666268001              253                  1010016                  9   \n",
       "1   558428001              273                  1010016                  9   \n",
       "2   632143001              275                  1010016                  9   \n",
       "3   684947002              253                  1010016                 11   \n",
       "4   690478001              264                  1010017                  9   \n",
       "\n",
       "   perceived_colour_value_id  perceived_colour_master_id  department_no  \\\n",
       "0                          4                           5           1522   \n",
       "1                          4                           5           1747   \n",
       "2                          4                           5           1444   \n",
       "3                          1                           9           1648   \n",
       "4                          4                           5           3090   \n",
       "\n",
       "   index_code  index_group_no  section_no  garment_group_no  \\\n",
       "0           0               1          15              1010   \n",
       "1           1               2          53              1009   \n",
       "2           1               2          53              1012   \n",
       "3           0               1          18              1003   \n",
       "4           0               1          15              1023   \n",
       "\n",
       "   club_member_status  fashion_news_frequency   age  postal_code  \n",
       "0                   0                       1  29.0        93042  \n",
       "1                   0                       1  29.0        93042  \n",
       "2                   0                       1  29.0        93042  \n",
       "3                   0                       1  29.0        93042  \n",
       "4                   0                       1  29.0        93042  "
      ]
     },
     "execution_count": 39,
     "metadata": {},
     "output_type": "execute_result"
    }
   ],
   "source": [
    "train_X.head()"
   ]
  },
  {
   "cell_type": "code",
   "execution_count": 40,
   "id": "acf41455-fb4a-4a44-81fb-42103c3f48a6",
   "metadata": {},
   "outputs": [
    {
     "name": "stdout",
     "output_type": "stream",
     "text": [
      "<class 'pandas.core.frame.DataFrame'>\n",
      "Int64Index: 3347750 entries, 0 to 3347749\n",
      "Data columns (total 15 columns):\n",
      " #   Column                      Dtype  \n",
      "---  ------                      -----  \n",
      " 0   article_id                  int32  \n",
      " 1   product_type_no             int32  \n",
      " 2   graphical_appearance_no     int32  \n",
      " 3   colour_group_code           int32  \n",
      " 4   perceived_colour_value_id   int32  \n",
      " 5   perceived_colour_master_id  int32  \n",
      " 6   department_no               int32  \n",
      " 7   index_code                  int8   \n",
      " 8   index_group_no              int32  \n",
      " 9   section_no                  int32  \n",
      " 10  garment_group_no            int32  \n",
      " 11  club_member_status          int8   \n",
      " 12  fashion_news_frequency      int8   \n",
      " 13  age                         float64\n",
      " 14  postal_code                 int32  \n",
      "dtypes: float64(1), int32(11), int8(3)\n",
      "memory usage: 201.1 MB\n"
     ]
    }
   ],
   "source": [
    "train_X.info()"
   ]
  },
  {
   "cell_type": "markdown",
   "id": "0f8082b2-a168-49ef-92f0-efda30fe58b7",
   "metadata": {},
   "source": [
    "## 5. Model training"
   ]
  },
  {
   "cell_type": "code",
   "execution_count": 46,
   "id": "1592df06-4a50-42e7-acb9-b88d6de1477d",
   "metadata": {},
   "outputs": [
    {
     "ename": "ModuleNotFoundError",
     "evalue": "No module named 'lightgbm'",
     "output_type": "error",
     "traceback": [
      "\u001b[0;31m---------------------------------------------------------------------------\u001b[0m",
      "\u001b[0;31mModuleNotFoundError\u001b[0m                       Traceback (most recent call last)",
      "Input \u001b[0;32mIn [46]\u001b[0m, in \u001b[0;36m<module>\u001b[0;34m\u001b[0m\n\u001b[0;32m----> 1\u001b[0m \u001b[38;5;28;01mfrom\u001b[39;00m \u001b[38;5;21;01mlightgbm\u001b[39;00m\u001b[38;5;21;01m.\u001b[39;00m\u001b[38;5;21;01msklearn\u001b[39;00m \u001b[38;5;28;01mimport\u001b[39;00m LGBMRanker\n",
      "\u001b[0;31mModuleNotFoundError\u001b[0m: No module named 'lightgbm'"
     ]
    }
   ],
   "source": [
    "from lightgbm.sklearn import LGBMRanker"
   ]
  },
  {
   "cell_type": "code",
   "execution_count": null,
   "id": "9d5cf9c4-468e-4f44-9831-d27999880217",
   "metadata": {},
   "outputs": [],
   "source": [
    "ranker = LGBMRanker(\n",
    "    objective=\"lambdarank\",\n",
    "    metric=\"ndcg\",\n",
    "    boosting_type=\"dart\",\n",
    "    n_estimators=1,\n",
    "    importance_type='gain',\n",
    "    verbose=10\n",
    ")"
   ]
  },
  {
   "cell_type": "code",
   "execution_count": null,
   "id": "bce87fb0-323f-4d0a-8b88-d68c34fa38ad",
   "metadata": {},
   "outputs": [],
   "source": [
    "# not sure what group = train_baskets is for\n",
    "ranker = ranker.fit(\n",
    "    train_X,\n",
    "    train_y,\n",
    "    group=train_baskets,\n",
    ")"
   ]
  },
  {
   "cell_type": "code",
   "execution_count": null,
   "id": "9659feea-f5a9-4460-bc40-933e0d87309e",
   "metadata": {},
   "outputs": [],
   "source": [
    "# Obtain feature importances\n",
    "for i in ranker.feature_importances_.argsort()[::-1]:\n",
    "    print(columns_to_use[i], ranker.feature_importances_[i]/ranker.feature_importances_.sum())"
   ]
  },
  {
   "cell_type": "markdown",
   "id": "d0203662-df90-46f2-9b72-46859f2e9193",
   "metadata": {},
   "source": [
    "## 6. Calculate predictions"
   ]
  },
  {
   "cell_type": "code",
   "execution_count": null,
   "id": "b31f0d1b-c58f-4823-bdc7-991124866b1e",
   "metadata": {},
   "outputs": [],
   "source": [
    "# Predict on test_X\n",
    "# Add the predictions to the test data (with customer and article id)\n",
    "test['preds'] = ranker.predict(test_X)\n",
    "test.head()"
   ]
  },
  {
   "cell_type": "code",
   "execution_count": null,
   "id": "0cf18ec7-2ea9-4d17-85a0-eef86f4df237",
   "metadata": {},
   "outputs": [],
   "source": [
    "# Obtain the products for each customer, based on highest predictions.\n",
    "c_id2predicted_article_ids = test \\\n",
    "    .sort_values(['customer_id', 'preds'], ascending=False) \\\n",
    "    .groupby('customer_id')['article_id'].apply(list).to_dict()\n",
    "\n",
    "# c_id2predicted_article_ids[28847241659200] # predicted articles for person 28847241659200"
   ]
  },
  {
   "cell_type": "markdown",
   "id": "eea7c280-a70f-41aa-bf94-b8c39d2391a8",
   "metadata": {},
   "source": [
    "TODO"
   ]
  },
  {
   "cell_type": "code",
   "execution_count": null,
   "id": "e251ca37-47ac-454a-b6d7-2424ddb6cd31",
   "metadata": {},
   "outputs": [],
   "source": [
    "# # last weeks best sellers will be used in case fewer than 12 recommendations for a customer are made\n",
    "# bestsellers_last_week = \\\n",
    "#     bestsellers_previous_week[bestsellers_previous_week.week == bestsellers_previous_week.week.max()]['article_id'].tolist()"
   ]
  },
  {
   "cell_type": "markdown",
   "id": "00e80ae6-87ff-4364-824d-68e10868319c",
   "metadata": {},
   "source": [
    "## 7. Evaluate results"
   ]
  },
  {
   "cell_type": "markdown",
   "id": "5d81d3bf-291d-4420-9933-6f29e8424515",
   "metadata": {},
   "source": [
    "Mileva has to continue from here. Still figuring out how this code is working."
   ]
  },
  {
   "cell_type": "code",
   "execution_count": null,
   "id": "aae21fcf-24d7-411b-95a2-6110183d65aa",
   "metadata": {},
   "outputs": [],
   "source": [
    "val_week_purchases_by_cust = pd.read_pickle('data/val_week_purchases_by_cust.pkl')"
   ]
  },
  {
   "cell_type": "code",
   "execution_count": null,
   "id": "da52519d-de1e-481d-a3cb-17a8a433b256",
   "metadata": {},
   "outputs": [],
   "source": [
    "apks = []\n",
    "\n",
    "# If the ranking algorithm proposes fewer than 12 items. Pad with the top best sellers from the previous week\n",
    "for c_id, gt in val_week_purchases_by_cust.items():\n",
    "    pred = c_id2predicted_article_ids.get(c_id, [])\n",
    "    # pred = pred + bestsellers_last_week\n",
    "    apks.append(apk(gt, pred[:12], 12))\n",
    "\n",
    "np.mean(apks)"
   ]
  },
  {
   "cell_type": "markdown",
   "id": "e4caebcc-a11f-4dc7-ba42-69f243f6bfab",
   "metadata": {},
   "source": [
    "## 8. Create submission"
   ]
  },
  {
   "cell_type": "code",
   "execution_count": null,
   "id": "8d6797fb-caf5-442b-8998-1c4bf32dc182",
   "metadata": {},
   "outputs": [],
   "source": [
    "sub = pd.read_csv('data/sample_submission.csv')"
   ]
  },
  {
   "cell_type": "code",
   "execution_count": null,
   "id": "1fca1e29-a12d-4041-b111-be412d914901",
   "metadata": {},
   "outputs": [],
   "source": [
    "%%time\n",
    "preds = []\n",
    "for c_id in customer_hex_id_to_int(sub.customer_id):\n",
    "    pred = c_id2predicted_article_ids.get(c_id, [])\n",
    "    # pred = pred + bestsellers_last_week\n",
    "    preds.append(pred[:12])"
   ]
  },
  {
   "cell_type": "code",
   "execution_count": null,
   "id": "a88b4948-0916-4101-b895-745c4e7343d3",
   "metadata": {},
   "outputs": [],
   "source": [
    "preds = [' '.join(['0' + str(p) for p in ps]) for ps in preds]\n",
    "sub.prediction = preds"
   ]
  },
  {
   "cell_type": "code",
   "execution_count": null,
   "id": "85ad2b63-0b55-4655-adcc-49069e9916f3",
   "metadata": {},
   "outputs": [],
   "source": [
    "# sub_name = 'basic_model_submission'\n",
    "# sub.to_csv(f'data/subs/{sub_name}.csv.gz', index=False)"
   ]
  },
  {
   "cell_type": "code",
   "execution_count": null,
   "id": "eebfda51-4e00-4142-917e-dc3f95ddf754",
   "metadata": {},
   "outputs": [],
   "source": [
    "# !kaggle competitions submit -c h-and-m-personalized-fashion-recommendations -f 'data/subs/{sub_name}.csv.gz' -m {sub_name}"
   ]
  },
  {
   "cell_type": "code",
   "execution_count": null,
   "id": "213fc734-db3e-4b2e-b727-566bf57b6d1e",
   "metadata": {},
   "outputs": [],
   "source": []
  }
 ],
 "metadata": {
  "kernelspec": {
   "display_name": "Python 3 (ipykernel)",
   "language": "python",
   "name": "python3"
  },
  "language_info": {
   "codemirror_mode": {
    "name": "ipython",
    "version": 3
   },
   "file_extension": ".py",
   "mimetype": "text/x-python",
   "name": "python",
   "nbconvert_exporter": "python",
   "pygments_lexer": "ipython3",
   "version": "3.8.10"
  }
 },
 "nbformat": 4,
 "nbformat_minor": 5
}
