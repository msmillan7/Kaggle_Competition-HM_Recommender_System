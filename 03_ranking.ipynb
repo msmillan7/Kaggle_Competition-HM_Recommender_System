{
 "cells": [
  {
   "cell_type": "markdown",
   "id": "767dad92-7bd3-42b5-81a7-82798c2e0cb9",
   "metadata": {},
   "source": [
    "# Candidate Generation and LGBM"
   ]
  },
  {
   "cell_type": "markdown",
   "id": "ad4fe49e-6119-4768-bb56-68a3fdf07a61",
   "metadata": {},
   "source": [
    "## 1. Setup and imports"
   ]
  },
  {
   "cell_type": "markdown",
   "id": "95187996-7f03-488f-91eb-5e29b6376a1e",
   "metadata": {},
   "source": [
    "* pip install pyarrow (for loading parquets)\n",
    "* pip install lightgbm (May require installation of other packages: https://github.com/microsoft/LightGBM/tree/master/python-package)"
   ]
  },
  {
   "cell_type": "code",
   "execution_count": 1,
   "id": "270755bc-df6a-4db8-a053-666ab41e1a8a",
   "metadata": {},
   "outputs": [],
   "source": [
    "import pandas as pd\n",
    "import matplotlib as plt\n",
    "import numpy as np\n",
    "\n",
    "from average_precision import apk, mapk"
   ]
  },
  {
   "cell_type": "code",
   "execution_count": 2,
   "id": "ae277dbd-c0b8-492f-a171-9b52bffd5ab3",
   "metadata": {},
   "outputs": [],
   "source": [
    "# Helper functions for improving memory\n",
    "# https://www.kaggle.com/c/h-and-m-personalized-fashion-recommendations/discussion/308635\n",
    "def hex_id_to_int(str):\n",
    "    return int(str[-16:], 16)\n",
    "\n",
    "def customer_hex_id_to_int(series):\n",
    "    return series.str[-16:].apply(hex_id_to_int)"
   ]
  },
  {
   "cell_type": "markdown",
   "id": "bf35a627-98b2-4579-a0d9-28bda6a98508",
   "metadata": {},
   "source": [
    "All categorical columns in transactions, customers, and articles have been converted into a numerical code within the saved parquet. All NaN values were replaced with -1. LGBM models perform best when the categorical columns are encoded as integers. "
   ]
  },
  {
   "cell_type": "markdown",
   "id": "7a80e23d-1da4-4dc5-bd0a-ca1286e9ed14",
   "metadata": {},
   "source": [
    "## 2. Load data"
   ]
  },
  {
   "cell_type": "markdown",
   "id": "5d0e0c82-4479-4901-b9a6-6f376e82b66d",
   "metadata": {},
   "source": [
    "Code for running the subsetted validation set"
   ]
  },
  {
   "cell_type": "code",
   "execution_count": 3,
   "id": "e8177f3f-4538-4ea0-b6eb-607f8a88c5bc",
   "metadata": {},
   "outputs": [],
   "source": [
    "collab_sample = 0.01\n",
    "sample = 0.05\n",
    "MIN_TRANSACTIONS = 0"
   ]
  },
  {
   "cell_type": "code",
   "execution_count": 4,
   "id": "0dbc132c-c973-4c92-b8a0-51fe301ddab8",
   "metadata": {},
   "outputs": [],
   "source": [
    "transactions_train = pd.read_parquet(f'data/transactions_train_sample{sample}_gt{MIN_TRANSACTIONS}transactions.parquet')\n",
    "customers = pd.read_parquet(f'data/customers_train_sample{sample}_gt{MIN_TRANSACTIONS}transactions.parquet')\n",
    "articles_train = pd.read_parquet(f'data/articles_train_sample{sample}_gt{MIN_TRANSACTIONS}transactions.parquet')\n",
    "\n",
    "transactions_val = pd.read_parquet(f'data/transactions_val_sample{sample}_gt{MIN_TRANSACTIONS}transactions.parquet')\n",
    "articles_val = pd.read_parquet(f'data/articles_val_sample{sample}_gt{MIN_TRANSACTIONS}transactions.parquet')"
   ]
  },
  {
   "cell_type": "code",
   "execution_count": 5,
   "id": "08e11d7f-8c5b-412d-babe-d6cb6cb5ea80",
   "metadata": {},
   "outputs": [],
   "source": [
    "transactions = pd.concat([transactions_train, transactions_val])"
   ]
  },
  {
   "cell_type": "code",
   "execution_count": 6,
   "id": "1b1d0887-d708-45a4-9df5-3ba96f2fd535",
   "metadata": {},
   "outputs": [],
   "source": [
    "articles = pd.concat([articles_train, articles_val]).drop_duplicates()"
   ]
  },
  {
   "cell_type": "markdown",
   "id": "238c1dd3-22ab-4ba7-956d-594fba9ee06b",
   "metadata": {},
   "source": [
    "Code for running the entire validation set"
   ]
  },
  {
   "cell_type": "code",
   "execution_count": 7,
   "id": "ea1ef527-959a-4cf9-9397-c8d00553226e",
   "metadata": {},
   "outputs": [],
   "source": [
    "# transactions_train = pd.read_parquet('data/transactions_train_sample_gt0transactions.parquet')\n",
    "# transactions_val = pd.read_parquet('data/transactions_val.parquet')\n",
    "\n",
    "# customers = pd.read_parquet('data/customers.parquet')\n",
    "# articles = pd.read_parquet('data/articles.parquet')\n",
    "\n",
    "# transactions = pd.concat([transactions_train, transactions_val])"
   ]
  },
  {
   "cell_type": "markdown",
   "id": "ca861858-1c2d-4d8a-a510-d29a0b67b2bc",
   "metadata": {},
   "source": [
    "### Transactions data"
   ]
  },
  {
   "cell_type": "code",
   "execution_count": 8,
   "id": "785a3a59-fe94-43a4-889d-5de81fdfcb90",
   "metadata": {},
   "outputs": [
    {
     "data": {
      "text/html": [
       "<div>\n",
       "<style scoped>\n",
       "    .dataframe tbody tr th:only-of-type {\n",
       "        vertical-align: middle;\n",
       "    }\n",
       "\n",
       "    .dataframe tbody tr th {\n",
       "        vertical-align: top;\n",
       "    }\n",
       "\n",
       "    .dataframe thead th {\n",
       "        text-align: right;\n",
       "    }\n",
       "</style>\n",
       "<table border=\"1\" class=\"dataframe\">\n",
       "  <thead>\n",
       "    <tr style=\"text-align: right;\">\n",
       "      <th></th>\n",
       "      <th>t_dat</th>\n",
       "      <th>customer_id</th>\n",
       "      <th>article_id</th>\n",
       "      <th>price</th>\n",
       "      <th>sales_channel_id</th>\n",
       "      <th>week</th>\n",
       "    </tr>\n",
       "  </thead>\n",
       "  <tbody>\n",
       "    <tr>\n",
       "      <th>0</th>\n",
       "      <td>2018-09-20</td>\n",
       "      <td>1728846800780188</td>\n",
       "      <td>519773001</td>\n",
       "      <td>0.028458</td>\n",
       "      <td>2</td>\n",
       "      <td>0</td>\n",
       "    </tr>\n",
       "    <tr>\n",
       "      <th>1</th>\n",
       "      <td>2018-09-20</td>\n",
       "      <td>1728846800780188</td>\n",
       "      <td>578472001</td>\n",
       "      <td>0.032525</td>\n",
       "      <td>2</td>\n",
       "      <td>0</td>\n",
       "    </tr>\n",
       "    <tr>\n",
       "      <th>2</th>\n",
       "      <td>2018-09-20</td>\n",
       "      <td>2076973761519164</td>\n",
       "      <td>661795002</td>\n",
       "      <td>0.167797</td>\n",
       "      <td>2</td>\n",
       "      <td>0</td>\n",
       "    </tr>\n",
       "    <tr>\n",
       "      <th>3</th>\n",
       "      <td>2018-09-20</td>\n",
       "      <td>2076973761519164</td>\n",
       "      <td>684080003</td>\n",
       "      <td>0.101678</td>\n",
       "      <td>2</td>\n",
       "      <td>0</td>\n",
       "    </tr>\n",
       "    <tr>\n",
       "      <th>4</th>\n",
       "      <td>2018-09-20</td>\n",
       "      <td>36332863954980556</td>\n",
       "      <td>685687003</td>\n",
       "      <td>0.016932</td>\n",
       "      <td>2</td>\n",
       "      <td>0</td>\n",
       "    </tr>\n",
       "  </tbody>\n",
       "</table>\n",
       "</div>"
      ],
      "text/plain": [
       "       t_dat        customer_id  article_id     price  sales_channel_id  week\n",
       "0 2018-09-20   1728846800780188   519773001  0.028458                 2     0\n",
       "1 2018-09-20   1728846800780188   578472001  0.032525                 2     0\n",
       "2 2018-09-20   2076973761519164   661795002  0.167797                 2     0\n",
       "3 2018-09-20   2076973761519164   684080003  0.101678                 2     0\n",
       "4 2018-09-20  36332863954980556   685687003  0.016932                 2     0"
      ]
     },
     "execution_count": 8,
     "metadata": {},
     "output_type": "execute_result"
    }
   ],
   "source": [
    "transactions.head()"
   ]
  },
  {
   "cell_type": "code",
   "execution_count": 9,
   "id": "c4712868-9069-42d2-bc71-e80299ac2128",
   "metadata": {},
   "outputs": [
    {
     "name": "stdout",
     "output_type": "stream",
     "text": [
      "<class 'pandas.core.frame.DataFrame'>\n",
      "Int64Index: 1568256 entries, 0 to 12320\n",
      "Data columns (total 6 columns):\n",
      " #   Column            Non-Null Count    Dtype         \n",
      "---  ------            --------------    -----         \n",
      " 0   t_dat             1568256 non-null  datetime64[ns]\n",
      " 1   customer_id       1568256 non-null  uint64        \n",
      " 2   article_id        1568256 non-null  int32         \n",
      " 3   price             1568256 non-null  float32       \n",
      " 4   sales_channel_id  1568256 non-null  int8          \n",
      " 5   week              1568256 non-null  int8          \n",
      "dtypes: datetime64[ns](1), float32(1), int32(1), int8(2), uint64(1)\n",
      "memory usage: 50.9 MB\n"
     ]
    }
   ],
   "source": [
    "transactions.info()"
   ]
  },
  {
   "cell_type": "markdown",
   "id": "7e82388a-1fc3-46e5-a55f-ceda2aec8427",
   "metadata": {},
   "source": [
    "Number of transactions made per week"
   ]
  },
  {
   "cell_type": "code",
   "execution_count": 10,
   "id": "cd3834dc-8e82-4243-91d5-bec9bb0af495",
   "metadata": {},
   "outputs": [
    {
     "data": {
      "text/plain": [
       "<AxesSubplot:title={'center':'Number of Transactions per Week'}>"
      ]
     },
     "execution_count": 10,
     "metadata": {},
     "output_type": "execute_result"
    },
    {
     "data": {
      "image/png": "[encoded data removed]",
      "text/plain": [
       "<Figure size 1440x720 with 1 Axes>"
      ]
     },
     "metadata": {
      "needs_background": "light"
     },
     "output_type": "display_data"
    }
   ],
   "source": [
    "transactions['week']\\\n",
    "    .value_counts()\\\n",
    "    .sort_index()\\\n",
    "    .plot(figsize = (20, 10), kind='bar', title = 'Number of Transactions per Week')"
   ]
  },
  {
   "cell_type": "markdown",
   "id": "c908982c-205a-470a-af41-d5183dacc8b9",
   "metadata": {},
   "source": [
    "## 5. Train, validation, test split"
   ]
  },
  {
   "cell_type": "markdown",
   "id": "8996348d-1857-498b-8a76-9d347400cae1",
   "metadata": {},
   "source": [
    "\"Leave One Last Item\" train, validation, test split from https://arxiv.org/pdf/2007.13237.pdf"
   ]
  },
  {
   "cell_type": "markdown",
   "id": "07abb995-c959-4d3f-b8c7-08cc17a10564",
   "metadata": {},
   "source": [
    "TODO - Make sure Marina's collaborative filtering only uses the data from the train transactions"
   ]
  },
  {
   "cell_type": "code",
   "execution_count": 11,
   "id": "ce3a4554-702f-4b8d-bd4b-7c43ab7a113e",
   "metadata": {},
   "outputs": [],
   "source": [
    "val_week = transactions[\"week\"].max() # Last week in the training set\n",
    "\n",
    "# train/ val transactions sets\n",
    "train_transactions = transactions[transactions[\"week\"] != val_week] \n",
    "val_transactions = transactions[transactions[\"week\"] == val_week].reset_index(drop = True)"
   ]
  },
  {
   "cell_type": "code",
   "execution_count": 12,
   "id": "9d74f23e-6c37-4225-8e32-dddf7e3f8567",
   "metadata": {},
   "outputs": [
    {
     "data": {
      "text/plain": [
       "(1555935, 6)"
      ]
     },
     "execution_count": 12,
     "metadata": {},
     "output_type": "execute_result"
    }
   ],
   "source": [
    "train_transactions.shape"
   ]
  },
  {
   "cell_type": "code",
   "execution_count": 13,
   "id": "98a468bd-3a22-4fa2-ad69-c95b42447d46",
   "metadata": {},
   "outputs": [
    {
     "data": {
      "text/plain": [
       "(12321, 6)"
      ]
     },
     "execution_count": 13,
     "metadata": {},
     "output_type": "execute_result"
    }
   ],
   "source": [
    "val_transactions.shape"
   ]
  },
  {
   "cell_type": "markdown",
   "id": "c5ca2798-1456-43fc-a6c2-62adfe36c58c",
   "metadata": {},
   "source": [
    "## 6. Candidate Generation"
   ]
  },
  {
   "cell_type": "markdown",
   "id": "a5ea0968-e6a9-4d25-b2a5-028f1b6d643c",
   "metadata": {},
   "source": [
    "df with each customers last transaction. This will be the base df that we will merge all generated candidates into"
   ]
  },
  {
   "cell_type": "code",
   "execution_count": 14,
   "id": "4c5bc284-a56e-481f-a656-70fb0cc16622",
   "metadata": {},
   "outputs": [
    {
     "data": {
      "text/plain": [
       "104    3508\n",
       "103    2874\n",
       "102    2691\n",
       "101    2556\n",
       "100    2031\n",
       "       ... \n",
       "26      264\n",
       "49      250\n",
       "24      245\n",
       "14      233\n",
       "25      225\n",
       "Name: week, Length: 105, dtype: int64"
      ]
     },
     "execution_count": 14,
     "metadata": {},
     "output_type": "execute_result"
    }
   ],
   "source": [
    "# The transaction of each customers last transaction\n",
    "unique_customers = transactions \\\n",
    "    .groupby(['customer_id']) \\\n",
    "    .tail(1) \\\n",
    "    .drop(columns=['article_id', 'price']) \\\n",
    "    .copy()\n",
    "unique_customers['week'].value_counts()"
   ]
  },
  {
   "cell_type": "markdown",
   "id": "cd2f6ca4-6b72-4a89-9d63-edc81eb977ef",
   "metadata": {},
   "source": [
    "### 6.1 Collaborative Filtering Results"
   ]
  },
  {
   "cell_type": "markdown",
   "id": "3c5d6cdf-9610-45e5-81bf-18834e99ccbd",
   "metadata": {},
   "source": [
    "Read collaborative filtering csv results"
   ]
  },
  {
   "cell_type": "code",
   "execution_count": 15,
   "id": "f835c5a8-57dc-41db-ab8e-e685fde36b6a",
   "metadata": {},
   "outputs": [
    {
     "data": {
      "text/html": [
       "<div>\n",
       "<style scoped>\n",
       "    .dataframe tbody tr th:only-of-type {\n",
       "        vertical-align: middle;\n",
       "    }\n",
       "\n",
       "    .dataframe tbody tr th {\n",
       "        vertical-align: top;\n",
       "    }\n",
       "\n",
       "    .dataframe thead th {\n",
       "        text-align: right;\n",
       "    }\n",
       "</style>\n",
       "<table border=\"1\" class=\"dataframe\">\n",
       "  <thead>\n",
       "    <tr style=\"text-align: right;\">\n",
       "      <th></th>\n",
       "      <th>customer_id</th>\n",
       "      <th>recom_articles</th>\n",
       "    </tr>\n",
       "  </thead>\n",
       "  <tbody>\n",
       "    <tr>\n",
       "      <th>0</th>\n",
       "      <td>345001598676045</td>\n",
       "      <td>[875316001, 850176002, 778064003, 841383002, 6...</td>\n",
       "    </tr>\n",
       "    <tr>\n",
       "      <th>1</th>\n",
       "      <td>1845857727772358</td>\n",
       "      <td>[790096001, 790096002, 605106006, 715303001, 7...</td>\n",
       "    </tr>\n",
       "    <tr>\n",
       "      <th>2</th>\n",
       "      <td>1951136007097426</td>\n",
       "      <td>[300024064, 737040001, 824752001, 706016003, 6...</td>\n",
       "    </tr>\n",
       "    <tr>\n",
       "      <th>3</th>\n",
       "      <td>2100196506917948</td>\n",
       "      <td>[720635008, 355072001, 680262018, 864928001, 7...</td>\n",
       "    </tr>\n",
       "    <tr>\n",
       "      <th>4</th>\n",
       "      <td>2163812782565753</td>\n",
       "      <td>[835136002, 708352003, 794389001, 824085001, 7...</td>\n",
       "    </tr>\n",
       "  </tbody>\n",
       "</table>\n",
       "</div>"
      ],
      "text/plain": [
       "        customer_id                                     recom_articles\n",
       "0   345001598676045  [875316001, 850176002, 778064003, 841383002, 6...\n",
       "1  1845857727772358  [790096001, 790096002, 605106006, 715303001, 7...\n",
       "2  1951136007097426  [300024064, 737040001, 824752001, 706016003, 6...\n",
       "3  2100196506917948  [720635008, 355072001, 680262018, 864928001, 7...\n",
       "4  2163812782565753  [835136002, 708352003, 794389001, 824085001, 7..."
      ]
     },
     "execution_count": 15,
     "metadata": {},
     "output_type": "execute_result"
    }
   ],
   "source": [
    "customers_rec_articles = pd.read_csv(f'customers_recommended_articles_sample{collab_sample}.csv')\n",
    "customers_rec_articles.head()"
   ]
  },
  {
   "cell_type": "code",
   "execution_count": 16,
   "id": "47a90671-d57c-4712-9b36-8246006c1311",
   "metadata": {},
   "outputs": [
    {
     "name": "stdout",
     "output_type": "stream",
     "text": [
      "<class 'pandas.core.frame.DataFrame'>\n",
      "RangeIndex: 13561 entries, 0 to 13560\n",
      "Data columns (total 2 columns):\n",
      " #   Column          Non-Null Count  Dtype \n",
      "---  ------          --------------  ----- \n",
      " 0   customer_id     13561 non-null  uint64\n",
      " 1   recom_articles  13561 non-null  object\n",
      "dtypes: object(1), uint64(1)\n",
      "memory usage: 212.0+ KB\n"
     ]
    }
   ],
   "source": [
    "customers_rec_articles.info()"
   ]
  },
  {
   "cell_type": "markdown",
   "id": "2e2e50d4-09ed-446a-9a34-b8126be95f27",
   "metadata": {},
   "source": [
    "Merge the recommended articles with the transaction data to generate negative samples"
   ]
  },
  {
   "cell_type": "code",
   "execution_count": 17,
   "id": "5e0ef2ed-6b9a-4d83-97ed-e613f72cccab",
   "metadata": {},
   "outputs": [
    {
     "data": {
      "text/html": [
       "<div>\n",
       "<style scoped>\n",
       "    .dataframe tbody tr th:only-of-type {\n",
       "        vertical-align: middle;\n",
       "    }\n",
       "\n",
       "    .dataframe tbody tr th {\n",
       "        vertical-align: top;\n",
       "    }\n",
       "\n",
       "    .dataframe thead th {\n",
       "        text-align: right;\n",
       "    }\n",
       "</style>\n",
       "<table border=\"1\" class=\"dataframe\">\n",
       "  <thead>\n",
       "    <tr style=\"text-align: right;\">\n",
       "      <th></th>\n",
       "      <th>t_dat</th>\n",
       "      <th>customer_id</th>\n",
       "      <th>sales_channel_id</th>\n",
       "      <th>week</th>\n",
       "      <th>recom_articles</th>\n",
       "    </tr>\n",
       "  </thead>\n",
       "  <tbody>\n",
       "    <tr>\n",
       "      <th>0</th>\n",
       "      <td>2018-09-20</td>\n",
       "      <td>2819150048902023718</td>\n",
       "      <td>2</td>\n",
       "      <td>0</td>\n",
       "      <td>[355072001, 355072002, 508544003, 472064004, 6...</td>\n",
       "    </tr>\n",
       "    <tr>\n",
       "      <th>1</th>\n",
       "      <td>2018-09-20</td>\n",
       "      <td>3184604665002181925</td>\n",
       "      <td>2</td>\n",
       "      <td>0</td>\n",
       "      <td>[775624001, 705416001, 581363010, 714790017, 4...</td>\n",
       "    </tr>\n",
       "    <tr>\n",
       "      <th>2</th>\n",
       "      <td>2018-09-20</td>\n",
       "      <td>7282250746421036237</td>\n",
       "      <td>1</td>\n",
       "      <td>0</td>\n",
       "      <td>[870304001, 870304002, 706016003, 698880001, 8...</td>\n",
       "    </tr>\n",
       "    <tr>\n",
       "      <th>3</th>\n",
       "      <td>2018-09-20</td>\n",
       "      <td>9325328092670889774</td>\n",
       "      <td>1</td>\n",
       "      <td>0</td>\n",
       "      <td>[681174016, 824448001, 579541001, 826197001, 7...</td>\n",
       "    </tr>\n",
       "    <tr>\n",
       "      <th>4</th>\n",
       "      <td>2018-09-20</td>\n",
       "      <td>10338610707079638146</td>\n",
       "      <td>1</td>\n",
       "      <td>0</td>\n",
       "      <td>[351484033, 679280004, 595696005, 322017029, 5...</td>\n",
       "    </tr>\n",
       "  </tbody>\n",
       "</table>\n",
       "</div>"
      ],
      "text/plain": [
       "       t_dat           customer_id  sales_channel_id  week  \\\n",
       "0 2018-09-20   2819150048902023718                 2     0   \n",
       "1 2018-09-20   3184604665002181925                 2     0   \n",
       "2 2018-09-20   7282250746421036237                 1     0   \n",
       "3 2018-09-20   9325328092670889774                 1     0   \n",
       "4 2018-09-20  10338610707079638146                 1     0   \n",
       "\n",
       "                                      recom_articles  \n",
       "0  [355072001, 355072002, 508544003, 472064004, 6...  \n",
       "1  [775624001, 705416001, 581363010, 714790017, 4...  \n",
       "2  [870304001, 870304002, 706016003, 698880001, 8...  \n",
       "3  [681174016, 824448001, 579541001, 826197001, 7...  \n",
       "4  [351484033, 679280004, 595696005, 322017029, 5...  "
      ]
     },
     "execution_count": 17,
     "metadata": {},
     "output_type": "execute_result"
    }
   ],
   "source": [
    "collab_candidates = pd.merge(\n",
    "    unique_customers, # base df to merge all results into\n",
    "    customers_rec_articles, # collaborative filtering results\n",
    "    on='customer_id'\n",
    ")\n",
    "\n",
    "collab_candidates.head()"
   ]
  },
  {
   "cell_type": "markdown",
   "id": "0f861938-c9ba-4193-b6ef-e42d430a6deb",
   "metadata": {},
   "source": [
    "recom_articles column is a list as a *string* type. Use json (as shown below) to convert the data into a list (of list type) as desired"
   ]
  },
  {
   "cell_type": "code",
   "execution_count": 18,
   "id": "c200f6ac-4eef-4974-9599-125c3fb15107",
   "metadata": {},
   "outputs": [],
   "source": [
    "import json\n",
    "collab_candidates['recom_articles'] = collab_candidates['recom_articles'].apply(lambda x: json.loads(x))"
   ]
  },
  {
   "cell_type": "markdown",
   "id": "399b3e1c-9222-4cae-a67e-68d541f4423f",
   "metadata": {},
   "source": [
    "Create one row per customer_id, article_id combination"
   ]
  },
  {
   "cell_type": "code",
   "execution_count": 19,
   "id": "095a6957-0e77-4244-a336-2606be1ceaa2",
   "metadata": {},
   "outputs": [
    {
     "data": {
      "text/html": [
       "<div>\n",
       "<style scoped>\n",
       "    .dataframe tbody tr th:only-of-type {\n",
       "        vertical-align: middle;\n",
       "    }\n",
       "\n",
       "    .dataframe tbody tr th {\n",
       "        vertical-align: top;\n",
       "    }\n",
       "\n",
       "    .dataframe thead th {\n",
       "        text-align: right;\n",
       "    }\n",
       "</style>\n",
       "<table border=\"1\" class=\"dataframe\">\n",
       "  <thead>\n",
       "    <tr style=\"text-align: right;\">\n",
       "      <th></th>\n",
       "      <th>t_dat</th>\n",
       "      <th>customer_id</th>\n",
       "      <th>sales_channel_id</th>\n",
       "      <th>week</th>\n",
       "      <th>article_id</th>\n",
       "    </tr>\n",
       "  </thead>\n",
       "  <tbody>\n",
       "    <tr>\n",
       "      <th>0</th>\n",
       "      <td>2018-09-20</td>\n",
       "      <td>2819150048902023718</td>\n",
       "      <td>2</td>\n",
       "      <td>0</td>\n",
       "      <td>355072001</td>\n",
       "    </tr>\n",
       "    <tr>\n",
       "      <th>1</th>\n",
       "      <td>2018-09-20</td>\n",
       "      <td>2819150048902023718</td>\n",
       "      <td>2</td>\n",
       "      <td>0</td>\n",
       "      <td>355072002</td>\n",
       "    </tr>\n",
       "    <tr>\n",
       "      <th>2</th>\n",
       "      <td>2018-09-20</td>\n",
       "      <td>2819150048902023718</td>\n",
       "      <td>2</td>\n",
       "      <td>0</td>\n",
       "      <td>508544003</td>\n",
       "    </tr>\n",
       "    <tr>\n",
       "      <th>3</th>\n",
       "      <td>2018-09-20</td>\n",
       "      <td>2819150048902023718</td>\n",
       "      <td>2</td>\n",
       "      <td>0</td>\n",
       "      <td>472064004</td>\n",
       "    </tr>\n",
       "    <tr>\n",
       "      <th>4</th>\n",
       "      <td>2018-09-20</td>\n",
       "      <td>2819150048902023718</td>\n",
       "      <td>2</td>\n",
       "      <td>0</td>\n",
       "      <td>651221002</td>\n",
       "    </tr>\n",
       "  </tbody>\n",
       "</table>\n",
       "</div>"
      ],
      "text/plain": [
       "       t_dat          customer_id  sales_channel_id  week article_id\n",
       "0 2018-09-20  2819150048902023718                 2     0  355072001\n",
       "1 2018-09-20  2819150048902023718                 2     0  355072002\n",
       "2 2018-09-20  2819150048902023718                 2     0  508544003\n",
       "3 2018-09-20  2819150048902023718                 2     0  472064004\n",
       "4 2018-09-20  2819150048902023718                 2     0  651221002"
      ]
     },
     "execution_count": 19,
     "metadata": {},
     "output_type": "execute_result"
    }
   ],
   "source": [
    "collab_candidates = collab_candidates.explode('recom_articles').reset_index(drop=True)\n",
    "\n",
    "# rename recom_articles to article_id to match other schema\n",
    "collab_candidates['article_id'] = collab_candidates['recom_articles'] \n",
    "collab_candidates = collab_candidates.drop('recom_articles', axis = 1)\n",
    "\n",
    "collab_candidates.head()"
   ]
  },
  {
   "cell_type": "code",
   "execution_count": 20,
   "id": "3b2c5b6f-23b3-4c92-a2cb-1929334f9239",
   "metadata": {},
   "outputs": [
    {
     "name": "stdout",
     "output_type": "stream",
     "text": [
      "<class 'pandas.core.frame.DataFrame'>\n",
      "RangeIndex: 1098557 entries, 0 to 1098556\n",
      "Data columns (total 5 columns):\n",
      " #   Column            Non-Null Count    Dtype         \n",
      "---  ------            --------------    -----         \n",
      " 0   t_dat             1098557 non-null  datetime64[ns]\n",
      " 1   customer_id       1098557 non-null  uint64        \n",
      " 2   sales_channel_id  1098557 non-null  int8          \n",
      " 3   week              1098557 non-null  int8          \n",
      " 4   article_id        1098284 non-null  object        \n",
      "dtypes: datetime64[ns](1), int8(2), object(1), uint64(1)\n",
      "memory usage: 27.2+ MB\n"
     ]
    }
   ],
   "source": [
    "collab_candidates.info()"
   ]
  },
  {
   "cell_type": "markdown",
   "id": "48b8db8d-559b-4b4f-9d11-032d4b4c4e03",
   "metadata": {},
   "source": [
    "Address format of article_id. Drop null rows and convert strings to the correct article_id format"
   ]
  },
  {
   "cell_type": "code",
   "execution_count": 21,
   "id": "2a561d27-1f1a-4126-b035-5bc23e37ed45",
   "metadata": {},
   "outputs": [
    {
     "name": "stdout",
     "output_type": "stream",
     "text": [
      "<class 'pandas.core.frame.DataFrame'>\n",
      "Int64Index: 1098284 entries, 0 to 1098556\n",
      "Data columns (total 5 columns):\n",
      " #   Column            Non-Null Count    Dtype         \n",
      "---  ------            --------------    -----         \n",
      " 0   t_dat             1098284 non-null  datetime64[ns]\n",
      " 1   customer_id       1098284 non-null  uint64        \n",
      " 2   sales_channel_id  1098284 non-null  int8          \n",
      " 3   week              1098284 non-null  int8          \n",
      " 4   article_id        1098284 non-null  int32         \n",
      "dtypes: datetime64[ns](1), int32(1), int8(2), uint64(1)\n",
      "memory usage: 31.4 MB\n"
     ]
    }
   ],
   "source": [
    "def article_id_str_to_int(series):\n",
    "    return series.astype('int32')\n",
    "\n",
    "collab_candidates = collab_candidates.dropna()\n",
    "\n",
    "collab_candidates['article_id'] = article_id_str_to_int(collab_candidates['article_id'])\n",
    "collab_candidates.info()"
   ]
  },
  {
   "cell_type": "markdown",
   "id": "e3a44d0d-a67f-4aad-af75-2d1299137a3d",
   "metadata": {},
   "source": [
    "TODO? Approach 1: Identify items that customers last purchased"
   ]
  },
  {
   "cell_type": "markdown",
   "id": "a63e36f5-2bcb-4123-9a19-e90373c836e2",
   "metadata": {},
   "source": [
    "TODO - Approach 2: Bestsellers/ Popular candidates - identify the top 12 bestselling articles per week"
   ]
  },
  {
   "cell_type": "markdown",
   "id": "691e0ab4-6f81-4d65-877f-e7370080aa99",
   "metadata": {},
   "source": [
    "## 3. Combining transactions and candidates / negative examples"
   ]
  },
  {
   "cell_type": "markdown",
   "id": "5aa0216a-7de0-4382-ba30-876fe944865b",
   "metadata": {},
   "source": [
    "Label all transactions that actually occurred as 1 (positive samples)"
   ]
  },
  {
   "cell_type": "markdown",
   "id": "33aefcde-0048-42a3-b04f-4b2180797a55",
   "metadata": {},
   "source": [
    "Comment from Pawel in Kaggle discussion here: https://www.kaggle.com/competitions/h-and-m-personalized-fashion-recommendations/discussion/307288\n",
    "In my setting I propose to convert the problem to a table where you have a list of item candidates and you mark the sales as either 0 or 1 depending whether the item was sold in the <b>next</b> week. \n",
    "\n",
    "Imagine you want to create negative samples as a list of 1000 most popular items in the last week. Some of those items will be bought by the customers. So the table you need to create is:\n",
    "customer_id\n",
    "label = whether it was bought or not\n",
    "article_id from the list of 1000 most popular items\n",
    "I'm not saying this is the best approach here but it is more or less what I'm doing. This is a technique where you create a set of explicit negative items. There are also techniques for implicit recommendations but all of them assume some sort of a strategy to generate negative samples."
   ]
  },
  {
   "cell_type": "markdown",
   "id": "c340d47e-9d01-4f22-9758-143419d46c07",
   "metadata": {},
   "source": [
    "Positive samples, all previously purchased transactions"
   ]
  },
  {
   "cell_type": "code",
   "execution_count": 22,
   "id": "27a00ba8-304f-4eee-8c83-375f1cbf0683",
   "metadata": {},
   "outputs": [
    {
     "data": {
      "text/plain": [
       "(1568256, 7)"
      ]
     },
     "execution_count": 22,
     "metadata": {},
     "output_type": "execute_result"
    }
   ],
   "source": [
    "transactions[\"purchased\"] = 1 \n",
    "transactions.shape"
   ]
  },
  {
   "cell_type": "markdown",
   "id": "b8799c99-f28e-42bb-b09f-e4ebfd68ec5a",
   "metadata": {},
   "source": [
    "Combine positive and negative samples"
   ]
  },
  {
   "cell_type": "code",
   "execution_count": 23,
   "id": "a0bc8d5e-783f-49d6-8df5-b97b45e1198d",
   "metadata": {},
   "outputs": [],
   "source": [
    "data = pd.concat([transactions, collab_candidates])\n",
    "data.purchased.fillna(0, inplace=True) # Label all candidate generated transactions as 0"
   ]
  },
  {
   "cell_type": "code",
   "execution_count": 24,
   "id": "760c8944-dac6-4607-921f-1a43cbea9768",
   "metadata": {},
   "outputs": [
    {
     "data": {
      "text/html": [
       "<div>\n",
       "<style scoped>\n",
       "    .dataframe tbody tr th:only-of-type {\n",
       "        vertical-align: middle;\n",
       "    }\n",
       "\n",
       "    .dataframe tbody tr th {\n",
       "        vertical-align: top;\n",
       "    }\n",
       "\n",
       "    .dataframe thead th {\n",
       "        text-align: right;\n",
       "    }\n",
       "</style>\n",
       "<table border=\"1\" class=\"dataframe\">\n",
       "  <thead>\n",
       "    <tr style=\"text-align: right;\">\n",
       "      <th></th>\n",
       "      <th>t_dat</th>\n",
       "      <th>customer_id</th>\n",
       "      <th>article_id</th>\n",
       "      <th>price</th>\n",
       "      <th>sales_channel_id</th>\n",
       "      <th>week</th>\n",
       "      <th>purchased</th>\n",
       "    </tr>\n",
       "  </thead>\n",
       "  <tbody>\n",
       "    <tr>\n",
       "      <th>0</th>\n",
       "      <td>2018-09-20</td>\n",
       "      <td>1728846800780188</td>\n",
       "      <td>519773001</td>\n",
       "      <td>0.028458</td>\n",
       "      <td>2</td>\n",
       "      <td>0</td>\n",
       "      <td>1.0</td>\n",
       "    </tr>\n",
       "    <tr>\n",
       "      <th>1</th>\n",
       "      <td>2018-09-20</td>\n",
       "      <td>1728846800780188</td>\n",
       "      <td>578472001</td>\n",
       "      <td>0.032525</td>\n",
       "      <td>2</td>\n",
       "      <td>0</td>\n",
       "      <td>1.0</td>\n",
       "    </tr>\n",
       "    <tr>\n",
       "      <th>2</th>\n",
       "      <td>2018-09-20</td>\n",
       "      <td>2076973761519164</td>\n",
       "      <td>661795002</td>\n",
       "      <td>0.167797</td>\n",
       "      <td>2</td>\n",
       "      <td>0</td>\n",
       "      <td>1.0</td>\n",
       "    </tr>\n",
       "    <tr>\n",
       "      <th>3</th>\n",
       "      <td>2018-09-20</td>\n",
       "      <td>2076973761519164</td>\n",
       "      <td>684080003</td>\n",
       "      <td>0.101678</td>\n",
       "      <td>2</td>\n",
       "      <td>0</td>\n",
       "      <td>1.0</td>\n",
       "    </tr>\n",
       "    <tr>\n",
       "      <th>4</th>\n",
       "      <td>2018-09-20</td>\n",
       "      <td>36332863954980556</td>\n",
       "      <td>685687003</td>\n",
       "      <td>0.016932</td>\n",
       "      <td>2</td>\n",
       "      <td>0</td>\n",
       "      <td>1.0</td>\n",
       "    </tr>\n",
       "  </tbody>\n",
       "</table>\n",
       "</div>"
      ],
      "text/plain": [
       "       t_dat        customer_id  article_id     price  sales_channel_id  week  \\\n",
       "0 2018-09-20   1728846800780188   519773001  0.028458                 2     0   \n",
       "1 2018-09-20   1728846800780188   578472001  0.032525                 2     0   \n",
       "2 2018-09-20   2076973761519164   661795002  0.167797                 2     0   \n",
       "3 2018-09-20   2076973761519164   684080003  0.101678                 2     0   \n",
       "4 2018-09-20  36332863954980556   685687003  0.016932                 2     0   \n",
       "\n",
       "   purchased  \n",
       "0        1.0  \n",
       "1        1.0  \n",
       "2        1.0  \n",
       "3        1.0  \n",
       "4        1.0  "
      ]
     },
     "execution_count": 24,
     "metadata": {},
     "output_type": "execute_result"
    }
   ],
   "source": [
    "data.head()"
   ]
  },
  {
   "cell_type": "markdown",
   "id": "b7e53437-73cb-4aaa-bab8-27f6dc1cbe48",
   "metadata": {},
   "source": [
    "TODO - logic here with how lgbm works. It drops duplicates. Retains the transactions (positive labels). If duplicated, will drop the duplicates in the negative samples\n"
   ]
  },
  {
   "cell_type": "code",
   "execution_count": 25,
   "id": "5b2c46c3-dc28-406e-bbde-14d52728794b",
   "metadata": {},
   "outputs": [
    {
     "data": {
      "text/html": [
       "<div>\n",
       "<style scoped>\n",
       "    .dataframe tbody tr th:only-of-type {\n",
       "        vertical-align: middle;\n",
       "    }\n",
       "\n",
       "    .dataframe tbody tr th {\n",
       "        vertical-align: top;\n",
       "    }\n",
       "\n",
       "    .dataframe thead th {\n",
       "        text-align: right;\n",
       "    }\n",
       "</style>\n",
       "<table border=\"1\" class=\"dataframe\">\n",
       "  <thead>\n",
       "    <tr style=\"text-align: right;\">\n",
       "      <th></th>\n",
       "      <th>t_dat</th>\n",
       "      <th>customer_id</th>\n",
       "      <th>article_id</th>\n",
       "      <th>price</th>\n",
       "      <th>sales_channel_id</th>\n",
       "      <th>week</th>\n",
       "      <th>purchased</th>\n",
       "    </tr>\n",
       "  </thead>\n",
       "  <tbody>\n",
       "    <tr>\n",
       "      <th>0</th>\n",
       "      <td>2018-09-20</td>\n",
       "      <td>1728846800780188</td>\n",
       "      <td>519773001</td>\n",
       "      <td>0.028458</td>\n",
       "      <td>2</td>\n",
       "      <td>0</td>\n",
       "      <td>1.0</td>\n",
       "    </tr>\n",
       "    <tr>\n",
       "      <th>1</th>\n",
       "      <td>2018-09-20</td>\n",
       "      <td>1728846800780188</td>\n",
       "      <td>578472001</td>\n",
       "      <td>0.032525</td>\n",
       "      <td>2</td>\n",
       "      <td>0</td>\n",
       "      <td>1.0</td>\n",
       "    </tr>\n",
       "    <tr>\n",
       "      <th>2</th>\n",
       "      <td>2018-09-20</td>\n",
       "      <td>2076973761519164</td>\n",
       "      <td>661795002</td>\n",
       "      <td>0.167797</td>\n",
       "      <td>2</td>\n",
       "      <td>0</td>\n",
       "      <td>1.0</td>\n",
       "    </tr>\n",
       "    <tr>\n",
       "      <th>3</th>\n",
       "      <td>2018-09-20</td>\n",
       "      <td>2076973761519164</td>\n",
       "      <td>684080003</td>\n",
       "      <td>0.101678</td>\n",
       "      <td>2</td>\n",
       "      <td>0</td>\n",
       "      <td>1.0</td>\n",
       "    </tr>\n",
       "    <tr>\n",
       "      <th>4</th>\n",
       "      <td>2018-09-20</td>\n",
       "      <td>36332863954980556</td>\n",
       "      <td>685687003</td>\n",
       "      <td>0.016932</td>\n",
       "      <td>2</td>\n",
       "      <td>0</td>\n",
       "      <td>1.0</td>\n",
       "    </tr>\n",
       "  </tbody>\n",
       "</table>\n",
       "</div>"
      ],
      "text/plain": [
       "       t_dat        customer_id  article_id     price  sales_channel_id  week  \\\n",
       "0 2018-09-20   1728846800780188   519773001  0.028458                 2     0   \n",
       "1 2018-09-20   1728846800780188   578472001  0.032525                 2     0   \n",
       "2 2018-09-20   2076973761519164   661795002  0.167797                 2     0   \n",
       "3 2018-09-20   2076973761519164   684080003  0.101678                 2     0   \n",
       "4 2018-09-20  36332863954980556   685687003  0.016932                 2     0   \n",
       "\n",
       "   purchased  \n",
       "0        1.0  \n",
       "1        1.0  \n",
       "2        1.0  \n",
       "3        1.0  \n",
       "4        1.0  "
      ]
     },
     "execution_count": 25,
     "metadata": {},
     "output_type": "execute_result"
    }
   ],
   "source": [
    "# Drops duplicates. Retains the transactions (positive labels). If duplicated, will drop the duplicates in the negative samples\n",
    "data.drop_duplicates(['customer_id', 'article_id', 'week'], inplace=True) \n",
    "data.head()"
   ]
  },
  {
   "cell_type": "markdown",
   "id": "25f071b2-df36-478d-948a-1a18ff4710d0",
   "metadata": {},
   "source": [
    "TODO - add bestseller information see ranking_example.ipynb"
   ]
  },
  {
   "cell_type": "markdown",
   "id": "706031a8-791c-497f-a9bb-cf4085147f67",
   "metadata": {},
   "source": [
    "Create a joined dataset with transaction, article, and customer information + target values (0/ 1)"
   ]
  },
  {
   "cell_type": "code",
   "execution_count": 26,
   "id": "c79e05a6-2e0d-4742-bbaf-8b001b177f57",
   "metadata": {},
   "outputs": [],
   "source": [
    "data = pd.merge(data, articles, on='article_id', how='left')\n",
    "data = pd.merge(data, customers, on='customer_id', how='left')"
   ]
  },
  {
   "cell_type": "code",
   "execution_count": 27,
   "id": "5038fc38-24b1-4786-a3ce-ffed305be3a2",
   "metadata": {},
   "outputs": [],
   "source": [
    "data.sort_values(['week', 'customer_id'], inplace=True)\n",
    "data.reset_index(drop=True, inplace=True)"
   ]
  },
  {
   "cell_type": "code",
   "execution_count": 28,
   "id": "a6eaadf4-60cf-4db7-8ecd-f6f6f14ad438",
   "metadata": {},
   "outputs": [
    {
     "data": {
      "text/html": [
       "<div>\n",
       "<style scoped>\n",
       "    .dataframe tbody tr th:only-of-type {\n",
       "        vertical-align: middle;\n",
       "    }\n",
       "\n",
       "    .dataframe tbody tr th {\n",
       "        vertical-align: top;\n",
       "    }\n",
       "\n",
       "    .dataframe thead th {\n",
       "        text-align: right;\n",
       "    }\n",
       "</style>\n",
       "<table border=\"1\" class=\"dataframe\">\n",
       "  <thead>\n",
       "    <tr style=\"text-align: right;\">\n",
       "      <th></th>\n",
       "      <th>t_dat</th>\n",
       "      <th>customer_id</th>\n",
       "      <th>article_id</th>\n",
       "      <th>price</th>\n",
       "      <th>sales_channel_id</th>\n",
       "      <th>week</th>\n",
       "      <th>purchased</th>\n",
       "      <th>product_code</th>\n",
       "      <th>prod_name</th>\n",
       "      <th>product_type_no</th>\n",
       "      <th>...</th>\n",
       "      <th>index_group_name</th>\n",
       "      <th>section_no</th>\n",
       "      <th>section_name</th>\n",
       "      <th>garment_group_no</th>\n",
       "      <th>garment_group_name</th>\n",
       "      <th>detail_desc</th>\n",
       "      <th>club_member_status</th>\n",
       "      <th>fashion_news_frequency</th>\n",
       "      <th>age</th>\n",
       "      <th>postal_code</th>\n",
       "    </tr>\n",
       "  </thead>\n",
       "  <tbody>\n",
       "    <tr>\n",
       "      <th>0</th>\n",
       "      <td>2018-09-20</td>\n",
       "      <td>1728846800780188</td>\n",
       "      <td>519773001</td>\n",
       "      <td>0.028458</td>\n",
       "      <td>2</td>\n",
       "      <td>0</td>\n",
       "      <td>1.0</td>\n",
       "      <td>519773</td>\n",
       "      <td>7147</td>\n",
       "      <td>245</td>\n",
       "      <td>...</td>\n",
       "      <td>0</td>\n",
       "      <td>15</td>\n",
       "      <td>0</td>\n",
       "      <td>1003</td>\n",
       "      <td>3</td>\n",
       "      <td>10231</td>\n",
       "      <td>0</td>\n",
       "      <td>0</td>\n",
       "      <td>59.0</td>\n",
       "      <td>44730</td>\n",
       "    </tr>\n",
       "    <tr>\n",
       "      <th>1</th>\n",
       "      <td>2018-09-20</td>\n",
       "      <td>1728846800780188</td>\n",
       "      <td>578472001</td>\n",
       "      <td>0.032525</td>\n",
       "      <td>2</td>\n",
       "      <td>0</td>\n",
       "      <td>1.0</td>\n",
       "      <td>578472</td>\n",
       "      <td>37340</td>\n",
       "      <td>263</td>\n",
       "      <td>...</td>\n",
       "      <td>0</td>\n",
       "      <td>19</td>\n",
       "      <td>40</td>\n",
       "      <td>1007</td>\n",
       "      <td>9</td>\n",
       "      <td>26053</td>\n",
       "      <td>0</td>\n",
       "      <td>0</td>\n",
       "      <td>59.0</td>\n",
       "      <td>44730</td>\n",
       "    </tr>\n",
       "    <tr>\n",
       "      <th>2</th>\n",
       "      <td>2018-09-20</td>\n",
       "      <td>2076973761519164</td>\n",
       "      <td>661795002</td>\n",
       "      <td>0.167797</td>\n",
       "      <td>2</td>\n",
       "      <td>0</td>\n",
       "      <td>1.0</td>\n",
       "      <td>661795</td>\n",
       "      <td>43993</td>\n",
       "      <td>263</td>\n",
       "      <td>...</td>\n",
       "      <td>0</td>\n",
       "      <td>19</td>\n",
       "      <td>40</td>\n",
       "      <td>1007</td>\n",
       "      <td>9</td>\n",
       "      <td>32892</td>\n",
       "      <td>0</td>\n",
       "      <td>0</td>\n",
       "      <td>55.0</td>\n",
       "      <td>18589</td>\n",
       "    </tr>\n",
       "    <tr>\n",
       "      <th>3</th>\n",
       "      <td>2018-09-20</td>\n",
       "      <td>2076973761519164</td>\n",
       "      <td>684080003</td>\n",
       "      <td>0.101678</td>\n",
       "      <td>2</td>\n",
       "      <td>0</td>\n",
       "      <td>1.0</td>\n",
       "      <td>684080</td>\n",
       "      <td>1768</td>\n",
       "      <td>262</td>\n",
       "      <td>...</td>\n",
       "      <td>0</td>\n",
       "      <td>19</td>\n",
       "      <td>40</td>\n",
       "      <td>1007</td>\n",
       "      <td>9</td>\n",
       "      <td>6151</td>\n",
       "      <td>0</td>\n",
       "      <td>0</td>\n",
       "      <td>55.0</td>\n",
       "      <td>18589</td>\n",
       "    </tr>\n",
       "    <tr>\n",
       "      <th>4</th>\n",
       "      <td>2018-09-23</td>\n",
       "      <td>19275344629630766</td>\n",
       "      <td>655434003</td>\n",
       "      <td>0.101678</td>\n",
       "      <td>2</td>\n",
       "      <td>0</td>\n",
       "      <td>1.0</td>\n",
       "      <td>655434</td>\n",
       "      <td>11138</td>\n",
       "      <td>252</td>\n",
       "      <td>...</td>\n",
       "      <td>0</td>\n",
       "      <td>18</td>\n",
       "      <td>12</td>\n",
       "      <td>1003</td>\n",
       "      <td>3</td>\n",
       "      <td>8607</td>\n",
       "      <td>0</td>\n",
       "      <td>1</td>\n",
       "      <td>51.0</td>\n",
       "      <td>37790</td>\n",
       "    </tr>\n",
       "  </tbody>\n",
       "</table>\n",
       "<p>5 rows × 35 columns</p>\n",
       "</div>"
      ],
      "text/plain": [
       "       t_dat        customer_id  article_id     price  sales_channel_id  week  \\\n",
       "0 2018-09-20   1728846800780188   519773001  0.028458                 2     0   \n",
       "1 2018-09-20   1728846800780188   578472001  0.032525                 2     0   \n",
       "2 2018-09-20   2076973761519164   661795002  0.167797                 2     0   \n",
       "3 2018-09-20   2076973761519164   684080003  0.101678                 2     0   \n",
       "4 2018-09-23  19275344629630766   655434003  0.101678                 2     0   \n",
       "\n",
       "   purchased  product_code  prod_name  product_type_no  ...  index_group_name  \\\n",
       "0        1.0        519773       7147              245  ...                 0   \n",
       "1        1.0        578472      37340              263  ...                 0   \n",
       "2        1.0        661795      43993              263  ...                 0   \n",
       "3        1.0        684080       1768              262  ...                 0   \n",
       "4        1.0        655434      11138              252  ...                 0   \n",
       "\n",
       "   section_no  section_name  garment_group_no  garment_group_name  \\\n",
       "0          15             0              1003                   3   \n",
       "1          19            40              1007                   9   \n",
       "2          19            40              1007                   9   \n",
       "3          19            40              1007                   9   \n",
       "4          18            12              1003                   3   \n",
       "\n",
       "   detail_desc  club_member_status  fashion_news_frequency   age  postal_code  \n",
       "0        10231                   0                       0  59.0        44730  \n",
       "1        26053                   0                       0  59.0        44730  \n",
       "2        32892                   0                       0  55.0        18589  \n",
       "3         6151                   0                       0  55.0        18589  \n",
       "4         8607                   0                       1  51.0        37790  \n",
       "\n",
       "[5 rows x 35 columns]"
      ]
     },
     "execution_count": 28,
     "metadata": {},
     "output_type": "execute_result"
    }
   ],
   "source": [
    "data.head()"
   ]
  },
  {
   "cell_type": "markdown",
   "id": "793b4b58-a563-4b88-b81f-7b963fe7d597",
   "metadata": {},
   "source": [
    "## 4. Train/ Test data"
   ]
  },
  {
   "cell_type": "markdown",
   "id": "b771b7a7-242c-40ca-8376-7f5de3f16548",
   "metadata": {},
   "source": [
    "Train data is currently all transactions from weeks 0-103. The target labels are also obtained from transactions from weeks 0-103 (confirm this is correct or whether we should be predicting the next week, ie wk104)"
   ]
  },
  {
   "cell_type": "code",
   "execution_count": 29,
   "id": "14555400-89ae-4759-8658-b9061239c4bf",
   "metadata": {},
   "outputs": [],
   "source": [
    "test_week = val_week"
   ]
  },
  {
   "cell_type": "code",
   "execution_count": 30,
   "id": "3ae24bf0-2f81-4517-9bdc-76ab8b95ab0f",
   "metadata": {},
   "outputs": [
    {
     "data": {
      "text/plain": [
       "104"
      ]
     },
     "execution_count": 30,
     "metadata": {},
     "output_type": "execute_result"
    }
   ],
   "source": [
    "test_week"
   ]
  },
  {
   "cell_type": "code",
   "execution_count": 31,
   "id": "e3ffc957-e053-40c3-b876-f89e784703ff",
   "metadata": {},
   "outputs": [
    {
     "data": {
      "text/html": [
       "<div>\n",
       "<style scoped>\n",
       "    .dataframe tbody tr th:only-of-type {\n",
       "        vertical-align: middle;\n",
       "    }\n",
       "\n",
       "    .dataframe tbody tr th {\n",
       "        vertical-align: top;\n",
       "    }\n",
       "\n",
       "    .dataframe thead th {\n",
       "        text-align: right;\n",
       "    }\n",
       "</style>\n",
       "<table border=\"1\" class=\"dataframe\">\n",
       "  <thead>\n",
       "    <tr style=\"text-align: right;\">\n",
       "      <th></th>\n",
       "      <th>t_dat</th>\n",
       "      <th>customer_id</th>\n",
       "      <th>article_id</th>\n",
       "      <th>price</th>\n",
       "      <th>sales_channel_id</th>\n",
       "      <th>week</th>\n",
       "      <th>purchased</th>\n",
       "      <th>product_code</th>\n",
       "      <th>prod_name</th>\n",
       "      <th>product_type_no</th>\n",
       "      <th>...</th>\n",
       "      <th>index_group_name</th>\n",
       "      <th>section_no</th>\n",
       "      <th>section_name</th>\n",
       "      <th>garment_group_no</th>\n",
       "      <th>garment_group_name</th>\n",
       "      <th>detail_desc</th>\n",
       "      <th>club_member_status</th>\n",
       "      <th>fashion_news_frequency</th>\n",
       "      <th>age</th>\n",
       "      <th>postal_code</th>\n",
       "    </tr>\n",
       "  </thead>\n",
       "  <tbody>\n",
       "    <tr>\n",
       "      <th>0</th>\n",
       "      <td>2018-09-20</td>\n",
       "      <td>1728846800780188</td>\n",
       "      <td>519773001</td>\n",
       "      <td>0.028458</td>\n",
       "      <td>2</td>\n",
       "      <td>0</td>\n",
       "      <td>1.0</td>\n",
       "      <td>519773</td>\n",
       "      <td>7147</td>\n",
       "      <td>245</td>\n",
       "      <td>...</td>\n",
       "      <td>0</td>\n",
       "      <td>15</td>\n",
       "      <td>0</td>\n",
       "      <td>1003</td>\n",
       "      <td>3</td>\n",
       "      <td>10231</td>\n",
       "      <td>0</td>\n",
       "      <td>0</td>\n",
       "      <td>59.0</td>\n",
       "      <td>44730</td>\n",
       "    </tr>\n",
       "    <tr>\n",
       "      <th>1</th>\n",
       "      <td>2018-09-20</td>\n",
       "      <td>1728846800780188</td>\n",
       "      <td>578472001</td>\n",
       "      <td>0.032525</td>\n",
       "      <td>2</td>\n",
       "      <td>0</td>\n",
       "      <td>1.0</td>\n",
       "      <td>578472</td>\n",
       "      <td>37340</td>\n",
       "      <td>263</td>\n",
       "      <td>...</td>\n",
       "      <td>0</td>\n",
       "      <td>19</td>\n",
       "      <td>40</td>\n",
       "      <td>1007</td>\n",
       "      <td>9</td>\n",
       "      <td>26053</td>\n",
       "      <td>0</td>\n",
       "      <td>0</td>\n",
       "      <td>59.0</td>\n",
       "      <td>44730</td>\n",
       "    </tr>\n",
       "    <tr>\n",
       "      <th>2</th>\n",
       "      <td>2018-09-20</td>\n",
       "      <td>2076973761519164</td>\n",
       "      <td>661795002</td>\n",
       "      <td>0.167797</td>\n",
       "      <td>2</td>\n",
       "      <td>0</td>\n",
       "      <td>1.0</td>\n",
       "      <td>661795</td>\n",
       "      <td>43993</td>\n",
       "      <td>263</td>\n",
       "      <td>...</td>\n",
       "      <td>0</td>\n",
       "      <td>19</td>\n",
       "      <td>40</td>\n",
       "      <td>1007</td>\n",
       "      <td>9</td>\n",
       "      <td>32892</td>\n",
       "      <td>0</td>\n",
       "      <td>0</td>\n",
       "      <td>55.0</td>\n",
       "      <td>18589</td>\n",
       "    </tr>\n",
       "    <tr>\n",
       "      <th>3</th>\n",
       "      <td>2018-09-20</td>\n",
       "      <td>2076973761519164</td>\n",
       "      <td>684080003</td>\n",
       "      <td>0.101678</td>\n",
       "      <td>2</td>\n",
       "      <td>0</td>\n",
       "      <td>1.0</td>\n",
       "      <td>684080</td>\n",
       "      <td>1768</td>\n",
       "      <td>262</td>\n",
       "      <td>...</td>\n",
       "      <td>0</td>\n",
       "      <td>19</td>\n",
       "      <td>40</td>\n",
       "      <td>1007</td>\n",
       "      <td>9</td>\n",
       "      <td>6151</td>\n",
       "      <td>0</td>\n",
       "      <td>0</td>\n",
       "      <td>55.0</td>\n",
       "      <td>18589</td>\n",
       "    </tr>\n",
       "    <tr>\n",
       "      <th>4</th>\n",
       "      <td>2018-09-23</td>\n",
       "      <td>19275344629630766</td>\n",
       "      <td>655434003</td>\n",
       "      <td>0.101678</td>\n",
       "      <td>2</td>\n",
       "      <td>0</td>\n",
       "      <td>1.0</td>\n",
       "      <td>655434</td>\n",
       "      <td>11138</td>\n",
       "      <td>252</td>\n",
       "      <td>...</td>\n",
       "      <td>0</td>\n",
       "      <td>18</td>\n",
       "      <td>12</td>\n",
       "      <td>1003</td>\n",
       "      <td>3</td>\n",
       "      <td>8607</td>\n",
       "      <td>0</td>\n",
       "      <td>1</td>\n",
       "      <td>51.0</td>\n",
       "      <td>37790</td>\n",
       "    </tr>\n",
       "  </tbody>\n",
       "</table>\n",
       "<p>5 rows × 35 columns</p>\n",
       "</div>"
      ],
      "text/plain": [
       "       t_dat        customer_id  article_id     price  sales_channel_id  week  \\\n",
       "0 2018-09-20   1728846800780188   519773001  0.028458                 2     0   \n",
       "1 2018-09-20   1728846800780188   578472001  0.032525                 2     0   \n",
       "2 2018-09-20   2076973761519164   661795002  0.167797                 2     0   \n",
       "3 2018-09-20   2076973761519164   684080003  0.101678                 2     0   \n",
       "4 2018-09-23  19275344629630766   655434003  0.101678                 2     0   \n",
       "\n",
       "   purchased  product_code  prod_name  product_type_no  ...  index_group_name  \\\n",
       "0        1.0        519773       7147              245  ...                 0   \n",
       "1        1.0        578472      37340              263  ...                 0   \n",
       "2        1.0        661795      43993              263  ...                 0   \n",
       "3        1.0        684080       1768              262  ...                 0   \n",
       "4        1.0        655434      11138              252  ...                 0   \n",
       "\n",
       "   section_no  section_name  garment_group_no  garment_group_name  \\\n",
       "0          15             0              1003                   3   \n",
       "1          19            40              1007                   9   \n",
       "2          19            40              1007                   9   \n",
       "3          19            40              1007                   9   \n",
       "4          18            12              1003                   3   \n",
       "\n",
       "   detail_desc  club_member_status  fashion_news_frequency   age  postal_code  \n",
       "0        10231                   0                       0  59.0        44730  \n",
       "1        26053                   0                       0  59.0        44730  \n",
       "2        32892                   0                       0  55.0        18589  \n",
       "3         6151                   0                       0  55.0        18589  \n",
       "4         8607                   0                       1  51.0        37790  \n",
       "\n",
       "[5 rows x 35 columns]"
      ]
     },
     "execution_count": 31,
     "metadata": {},
     "output_type": "execute_result"
    }
   ],
   "source": [
    "train = data[data.week != test_week]\n",
    "train.head()"
   ]
  },
  {
   "cell_type": "code",
   "execution_count": 32,
   "id": "f00ccc12-f722-4cd4-ac0e-e17d51af3621",
   "metadata": {},
   "outputs": [
    {
     "data": {
      "text/html": [
       "<div>\n",
       "<style scoped>\n",
       "    .dataframe tbody tr th:only-of-type {\n",
       "        vertical-align: middle;\n",
       "    }\n",
       "\n",
       "    .dataframe tbody tr th {\n",
       "        vertical-align: top;\n",
       "    }\n",
       "\n",
       "    .dataframe thead th {\n",
       "        text-align: right;\n",
       "    }\n",
       "</style>\n",
       "<table border=\"1\" class=\"dataframe\">\n",
       "  <thead>\n",
       "    <tr style=\"text-align: right;\">\n",
       "      <th></th>\n",
       "      <th>t_dat</th>\n",
       "      <th>customer_id</th>\n",
       "      <th>article_id</th>\n",
       "      <th>price</th>\n",
       "      <th>sales_channel_id</th>\n",
       "      <th>week</th>\n",
       "      <th>purchased</th>\n",
       "      <th>product_code</th>\n",
       "      <th>prod_name</th>\n",
       "      <th>product_type_no</th>\n",
       "      <th>...</th>\n",
       "      <th>index_group_name</th>\n",
       "      <th>section_no</th>\n",
       "      <th>section_name</th>\n",
       "      <th>garment_group_no</th>\n",
       "      <th>garment_group_name</th>\n",
       "      <th>detail_desc</th>\n",
       "      <th>club_member_status</th>\n",
       "      <th>fashion_news_frequency</th>\n",
       "      <th>age</th>\n",
       "      <th>postal_code</th>\n",
       "    </tr>\n",
       "  </thead>\n",
       "  <tbody>\n",
       "    <tr>\n",
       "      <th>2463422</th>\n",
       "      <td>2020-09-22</td>\n",
       "      <td>1951136007097426</td>\n",
       "      <td>778745010</td>\n",
       "      <td>0.033881</td>\n",
       "      <td>1</td>\n",
       "      <td>104</td>\n",
       "      <td>1.0</td>\n",
       "      <td>778745</td>\n",
       "      <td>520</td>\n",
       "      <td>297</td>\n",
       "      <td>...</td>\n",
       "      <td>0</td>\n",
       "      <td>62</td>\n",
       "      <td>31</td>\n",
       "      <td>1017</td>\n",
       "      <td>4</td>\n",
       "      <td>1215</td>\n",
       "      <td>0</td>\n",
       "      <td>0</td>\n",
       "      <td>28.0</td>\n",
       "      <td>150297</td>\n",
       "    </tr>\n",
       "    <tr>\n",
       "      <th>2463423</th>\n",
       "      <td>2020-09-22</td>\n",
       "      <td>1951136007097426</td>\n",
       "      <td>300024064</td>\n",
       "      <td>NaN</td>\n",
       "      <td>1</td>\n",
       "      <td>104</td>\n",
       "      <td>0.0</td>\n",
       "      <td>300024</td>\n",
       "      <td>1021</td>\n",
       "      <td>272</td>\n",
       "      <td>...</td>\n",
       "      <td>0</td>\n",
       "      <td>8</td>\n",
       "      <td>17</td>\n",
       "      <td>1009</td>\n",
       "      <td>5</td>\n",
       "      <td>551</td>\n",
       "      <td>0</td>\n",
       "      <td>0</td>\n",
       "      <td>28.0</td>\n",
       "      <td>150297</td>\n",
       "    </tr>\n",
       "    <tr>\n",
       "      <th>2463424</th>\n",
       "      <td>2020-09-22</td>\n",
       "      <td>1951136007097426</td>\n",
       "      <td>737040001</td>\n",
       "      <td>NaN</td>\n",
       "      <td>1</td>\n",
       "      <td>104</td>\n",
       "      <td>0.0</td>\n",
       "      <td>737040</td>\n",
       "      <td>2185</td>\n",
       "      <td>252</td>\n",
       "      <td>...</td>\n",
       "      <td>0</td>\n",
       "      <td>6</td>\n",
       "      <td>10</td>\n",
       "      <td>1005</td>\n",
       "      <td>0</td>\n",
       "      <td>992</td>\n",
       "      <td>0</td>\n",
       "      <td>0</td>\n",
       "      <td>28.0</td>\n",
       "      <td>150297</td>\n",
       "    </tr>\n",
       "    <tr>\n",
       "      <th>2463425</th>\n",
       "      <td>2020-09-22</td>\n",
       "      <td>1951136007097426</td>\n",
       "      <td>824752001</td>\n",
       "      <td>NaN</td>\n",
       "      <td>1</td>\n",
       "      <td>104</td>\n",
       "      <td>0.0</td>\n",
       "      <td>824752</td>\n",
       "      <td>26971</td>\n",
       "      <td>265</td>\n",
       "      <td>...</td>\n",
       "      <td>0</td>\n",
       "      <td>15</td>\n",
       "      <td>0</td>\n",
       "      <td>1013</td>\n",
       "      <td>8</td>\n",
       "      <td>25470</td>\n",
       "      <td>0</td>\n",
       "      <td>0</td>\n",
       "      <td>28.0</td>\n",
       "      <td>150297</td>\n",
       "    </tr>\n",
       "    <tr>\n",
       "      <th>2463426</th>\n",
       "      <td>2020-09-22</td>\n",
       "      <td>1951136007097426</td>\n",
       "      <td>706016003</td>\n",
       "      <td>NaN</td>\n",
       "      <td>1</td>\n",
       "      <td>104</td>\n",
       "      <td>0.0</td>\n",
       "      <td>706016</td>\n",
       "      <td>172</td>\n",
       "      <td>272</td>\n",
       "      <td>...</td>\n",
       "      <td>2</td>\n",
       "      <td>53</td>\n",
       "      <td>1</td>\n",
       "      <td>1009</td>\n",
       "      <td>5</td>\n",
       "      <td>30</td>\n",
       "      <td>0</td>\n",
       "      <td>0</td>\n",
       "      <td>28.0</td>\n",
       "      <td>150297</td>\n",
       "    </tr>\n",
       "  </tbody>\n",
       "</table>\n",
       "<p>5 rows × 35 columns</p>\n",
       "</div>"
      ],
      "text/plain": [
       "             t_dat       customer_id  article_id     price  sales_channel_id  \\\n",
       "2463422 2020-09-22  1951136007097426   778745010  0.033881                 1   \n",
       "2463423 2020-09-22  1951136007097426   300024064       NaN                 1   \n",
       "2463424 2020-09-22  1951136007097426   737040001       NaN                 1   \n",
       "2463425 2020-09-22  1951136007097426   824752001       NaN                 1   \n",
       "2463426 2020-09-22  1951136007097426   706016003       NaN                 1   \n",
       "\n",
       "         week  purchased  product_code  prod_name  product_type_no  ...  \\\n",
       "2463422   104        1.0        778745        520              297  ...   \n",
       "2463423   104        0.0        300024       1021              272  ...   \n",
       "2463424   104        0.0        737040       2185              252  ...   \n",
       "2463425   104        0.0        824752      26971              265  ...   \n",
       "2463426   104        0.0        706016        172              272  ...   \n",
       "\n",
       "         index_group_name  section_no  section_name  garment_group_no  \\\n",
       "2463422                 0          62            31              1017   \n",
       "2463423                 0           8            17              1009   \n",
       "2463424                 0           6            10              1005   \n",
       "2463425                 0          15             0              1013   \n",
       "2463426                 2          53             1              1009   \n",
       "\n",
       "         garment_group_name  detail_desc  club_member_status  \\\n",
       "2463422                   4         1215                   0   \n",
       "2463423                   5          551                   0   \n",
       "2463424                   0          992                   0   \n",
       "2463425                   8        25470                   0   \n",
       "2463426                   5           30                   0   \n",
       "\n",
       "         fashion_news_frequency   age  postal_code  \n",
       "2463422                       0  28.0       150297  \n",
       "2463423                       0  28.0       150297  \n",
       "2463424                       0  28.0       150297  \n",
       "2463425                       0  28.0       150297  \n",
       "2463426                       0  28.0       150297  \n",
       "\n",
       "[5 rows x 35 columns]"
      ]
     },
     "execution_count": 32,
     "metadata": {},
     "output_type": "execute_result"
    }
   ],
   "source": [
    "test = data[data.week==test_week].drop_duplicates(['customer_id', 'article_id', 'sales_channel_id']).copy()\n",
    "test.head()"
   ]
  },
  {
   "cell_type": "code",
   "execution_count": 33,
   "id": "0a67cddb-42a5-45bb-9bec-7e3cf3b648ec",
   "metadata": {},
   "outputs": [
    {
     "data": {
      "text/plain": [
       "array([2, 2, 3, ..., 1, 3, 1])"
      ]
     },
     "execution_count": 33,
     "metadata": {},
     "output_type": "execute_result"
    }
   ],
   "source": [
    "# Not yet sure what these are\n",
    "train_baskets = train.groupby(['week', 'customer_id'])['article_id'].count().values\n",
    "train_baskets"
   ]
  },
  {
   "cell_type": "markdown",
   "id": "8880948f-cb53-4c72-92e8-bff3a0e8b108",
   "metadata": {},
   "source": [
    "Only use a subset of columns specified here as input into the LGBM model"
   ]
  },
  {
   "cell_type": "code",
   "execution_count": 34,
   "id": "a540c72e-bc69-4078-8dcb-fc86a904899d",
   "metadata": {},
   "outputs": [],
   "source": [
    "columns_to_use = ['article_id', 'product_type_no', 'graphical_appearance_no', 'colour_group_code', 'perceived_colour_value_id',\n",
    "'perceived_colour_master_id', 'department_no', 'index_code',\n",
    "'index_group_no', 'section_no', 'garment_group_no', \n",
    "'club_member_status', 'fashion_news_frequency', 'age', 'postal_code'] #, 'bestseller_rank']"
   ]
  },
  {
   "cell_type": "markdown",
   "id": "468cebcd-bb89-4b09-b351-e68f0e11d471",
   "metadata": {},
   "source": [
    "### Model input"
   ]
  },
  {
   "cell_type": "code",
   "execution_count": 35,
   "id": "184f819c-c18f-47d3-be8a-a0b96f5803b4",
   "metadata": {},
   "outputs": [],
   "source": [
    "train_X = train[columns_to_use]\n",
    "train_y = train['purchased']\n",
    "\n",
    "test_X = test[columns_to_use]"
   ]
  },
  {
   "cell_type": "code",
   "execution_count": 36,
   "id": "6dcd8b4b-dc68-45b4-9ebe-d0b348ca5542",
   "metadata": {},
   "outputs": [
    {
     "data": {
      "text/html": [
       "<div>\n",
       "<style scoped>\n",
       "    .dataframe tbody tr th:only-of-type {\n",
       "        vertical-align: middle;\n",
       "    }\n",
       "\n",
       "    .dataframe tbody tr th {\n",
       "        vertical-align: top;\n",
       "    }\n",
       "\n",
       "    .dataframe thead th {\n",
       "        text-align: right;\n",
       "    }\n",
       "</style>\n",
       "<table border=\"1\" class=\"dataframe\">\n",
       "  <thead>\n",
       "    <tr style=\"text-align: right;\">\n",
       "      <th></th>\n",
       "      <th>article_id</th>\n",
       "      <th>product_type_no</th>\n",
       "      <th>graphical_appearance_no</th>\n",
       "      <th>colour_group_code</th>\n",
       "      <th>perceived_colour_value_id</th>\n",
       "      <th>perceived_colour_master_id</th>\n",
       "      <th>department_no</th>\n",
       "      <th>index_code</th>\n",
       "      <th>index_group_no</th>\n",
       "      <th>section_no</th>\n",
       "      <th>garment_group_no</th>\n",
       "      <th>club_member_status</th>\n",
       "      <th>fashion_news_frequency</th>\n",
       "      <th>age</th>\n",
       "      <th>postal_code</th>\n",
       "    </tr>\n",
       "  </thead>\n",
       "  <tbody>\n",
       "    <tr>\n",
       "      <th>0</th>\n",
       "      <td>519773001</td>\n",
       "      <td>245</td>\n",
       "      <td>1010010</td>\n",
       "      <td>8</td>\n",
       "      <td>2</td>\n",
       "      <td>12</td>\n",
       "      <td>1626</td>\n",
       "      <td>0</td>\n",
       "      <td>1</td>\n",
       "      <td>15</td>\n",
       "      <td>1003</td>\n",
       "      <td>0</td>\n",
       "      <td>0</td>\n",
       "      <td>59.0</td>\n",
       "      <td>44730</td>\n",
       "    </tr>\n",
       "    <tr>\n",
       "      <th>1</th>\n",
       "      <td>578472001</td>\n",
       "      <td>263</td>\n",
       "      <td>1010016</td>\n",
       "      <td>51</td>\n",
       "      <td>1</td>\n",
       "      <td>4</td>\n",
       "      <td>1201</td>\n",
       "      <td>0</td>\n",
       "      <td>1</td>\n",
       "      <td>19</td>\n",
       "      <td>1007</td>\n",
       "      <td>0</td>\n",
       "      <td>0</td>\n",
       "      <td>59.0</td>\n",
       "      <td>44730</td>\n",
       "    </tr>\n",
       "    <tr>\n",
       "      <th>2</th>\n",
       "      <td>661795002</td>\n",
       "      <td>263</td>\n",
       "      <td>1010016</td>\n",
       "      <td>12</td>\n",
       "      <td>1</td>\n",
       "      <td>11</td>\n",
       "      <td>1201</td>\n",
       "      <td>0</td>\n",
       "      <td>1</td>\n",
       "      <td>19</td>\n",
       "      <td>1007</td>\n",
       "      <td>0</td>\n",
       "      <td>0</td>\n",
       "      <td>55.0</td>\n",
       "      <td>18589</td>\n",
       "    </tr>\n",
       "    <tr>\n",
       "      <th>3</th>\n",
       "      <td>684080003</td>\n",
       "      <td>262</td>\n",
       "      <td>1010010</td>\n",
       "      <td>33</td>\n",
       "      <td>2</td>\n",
       "      <td>18</td>\n",
       "      <td>1201</td>\n",
       "      <td>0</td>\n",
       "      <td>1</td>\n",
       "      <td>19</td>\n",
       "      <td>1007</td>\n",
       "      <td>0</td>\n",
       "      <td>0</td>\n",
       "      <td>55.0</td>\n",
       "      <td>18589</td>\n",
       "    </tr>\n",
       "    <tr>\n",
       "      <th>4</th>\n",
       "      <td>655434003</td>\n",
       "      <td>252</td>\n",
       "      <td>1010016</td>\n",
       "      <td>19</td>\n",
       "      <td>4</td>\n",
       "      <td>20</td>\n",
       "      <td>1648</td>\n",
       "      <td>0</td>\n",
       "      <td>1</td>\n",
       "      <td>18</td>\n",
       "      <td>1003</td>\n",
       "      <td>0</td>\n",
       "      <td>1</td>\n",
       "      <td>51.0</td>\n",
       "      <td>37790</td>\n",
       "    </tr>\n",
       "  </tbody>\n",
       "</table>\n",
       "</div>"
      ],
      "text/plain": [
       "   article_id  product_type_no  graphical_appearance_no  colour_group_code  \\\n",
       "0   519773001              245                  1010010                  8   \n",
       "1   578472001              263                  1010016                 51   \n",
       "2   661795002              263                  1010016                 12   \n",
       "3   684080003              262                  1010010                 33   \n",
       "4   655434003              252                  1010016                 19   \n",
       "\n",
       "   perceived_colour_value_id  perceived_colour_master_id  department_no  \\\n",
       "0                          2                          12           1626   \n",
       "1                          1                           4           1201   \n",
       "2                          1                          11           1201   \n",
       "3                          2                          18           1201   \n",
       "4                          4                          20           1648   \n",
       "\n",
       "   index_code  index_group_no  section_no  garment_group_no  \\\n",
       "0           0               1          15              1003   \n",
       "1           0               1          19              1007   \n",
       "2           0               1          19              1007   \n",
       "3           0               1          19              1007   \n",
       "4           0               1          18              1003   \n",
       "\n",
       "   club_member_status  fashion_news_frequency   age  postal_code  \n",
       "0                   0                       0  59.0        44730  \n",
       "1                   0                       0  59.0        44730  \n",
       "2                   0                       0  55.0        18589  \n",
       "3                   0                       0  55.0        18589  \n",
       "4                   0                       1  51.0        37790  "
      ]
     },
     "execution_count": 36,
     "metadata": {},
     "output_type": "execute_result"
    }
   ],
   "source": [
    "train_X.head()"
   ]
  },
  {
   "cell_type": "code",
   "execution_count": 37,
   "id": "acf41455-fb4a-4a44-81fb-42103c3f48a6",
   "metadata": {},
   "outputs": [
    {
     "name": "stdout",
     "output_type": "stream",
     "text": [
      "<class 'pandas.core.frame.DataFrame'>\n",
      "Int64Index: 2463422 entries, 0 to 2463421\n",
      "Data columns (total 15 columns):\n",
      " #   Column                      Dtype  \n",
      "---  ------                      -----  \n",
      " 0   article_id                  int32  \n",
      " 1   product_type_no             int32  \n",
      " 2   graphical_appearance_no     int32  \n",
      " 3   colour_group_code           int32  \n",
      " 4   perceived_colour_value_id   int32  \n",
      " 5   perceived_colour_master_id  int32  \n",
      " 6   department_no               int32  \n",
      " 7   index_code                  int8   \n",
      " 8   index_group_no              int32  \n",
      " 9   section_no                  int32  \n",
      " 10  garment_group_no            int32  \n",
      " 11  club_member_status          int8   \n",
      " 12  fashion_news_frequency      int8   \n",
      " 13  age                         float64\n",
      " 14  postal_code                 int32  \n",
      "dtypes: float64(1), int32(11), int8(3)\n",
      "memory usage: 148.0 MB\n"
     ]
    }
   ],
   "source": [
    "train_X.info()"
   ]
  },
  {
   "cell_type": "code",
   "execution_count": 38,
   "id": "a86ae210-d852-4159-af0d-a5bf1bff522c",
   "metadata": {},
   "outputs": [
    {
     "data": {
      "text/plain": [
       "1.0    1383577\n",
       "0.0    1079845\n",
       "Name: purchased, dtype: int64"
      ]
     },
     "execution_count": 38,
     "metadata": {},
     "output_type": "execute_result"
    }
   ],
   "source": [
    "train_y.value_counts()"
   ]
  },
  {
   "cell_type": "markdown",
   "id": "0f8082b2-a168-49ef-92f0-efda30fe58b7",
   "metadata": {},
   "source": [
    "## 5. Model training"
   ]
  },
  {
   "cell_type": "code",
   "execution_count": 39,
   "id": "1592df06-4a50-42e7-acb9-b88d6de1477d",
   "metadata": {},
   "outputs": [],
   "source": [
    "from lightgbm.sklearn import LGBMRanker"
   ]
  },
  {
   "cell_type": "code",
   "execution_count": 40,
   "id": "9d5cf9c4-468e-4f44-9831-d27999880217",
   "metadata": {},
   "outputs": [],
   "source": [
    "ranker = LGBMRanker(\n",
    "    objective=\"lambdarank\",\n",
    "    metric=\"ndcg\",\n",
    "    boosting_type=\"dart\",\n",
    "    n_estimators=1,\n",
    "    importance_type='gain',\n",
    "    verbose=10\n",
    ")"
   ]
  },
  {
   "cell_type": "code",
   "execution_count": 41,
   "id": "bce87fb0-323f-4d0a-8b88-d68c34fa38ad",
   "metadata": {},
   "outputs": [
    {
     "name": "stdout",
     "output_type": "stream",
     "text": [
      "[LightGBM] [Debug] Dataset::GetMultiBinFromSparseFeatures: sparse rate 0.782045\n",
      "[LightGBM] [Debug] Dataset::GetMultiBinFromAllFeatures: sparse rate 0.136808\n",
      "[LightGBM] [Debug] init for col-wise cost 0.040397 seconds, init for row-wise cost 0.054790 seconds\n",
      "[LightGBM] [Warning] Auto-choosing row-wise multi-threading, the overhead of testing was 0.065363 seconds.\n",
      "You can set `force_row_wise=true` to remove the overhead.\n",
      "And if memory is not enough, you can set `force_col_wise=true`.\n",
      "[LightGBM] [Debug] Using Dense Multi-Val Bin\n",
      "[LightGBM] [Info] Total Bins 1101\n",
      "[LightGBM] [Info] Number of data points in the train set: 2463422, number of used features: 15\n",
      "[LightGBM] [Debug] Trained a tree with leaves = 31 and depth = 13\n"
     ]
    }
   ],
   "source": [
    "# not sure what group = train_baskets is for\n",
    "ranker = ranker.fit(\n",
    "    train_X,\n",
    "    train_y,\n",
    "    group=train_baskets,\n",
    ")"
   ]
  },
  {
   "cell_type": "code",
   "execution_count": 42,
   "id": "9659feea-f5a9-4460-bc40-933e0d87309e",
   "metadata": {},
   "outputs": [
    {
     "name": "stdout",
     "output_type": "stream",
     "text": [
      "article_id 0.5918667876752887\n",
      "index_group_no 0.07458186656537219\n",
      "club_member_status 0.07009220408083082\n",
      "department_no 0.06005502893005594\n",
      "postal_code 0.05293408975408517\n",
      "section_no 0.052807516829862934\n",
      "age 0.03918698329340267\n",
      "garment_group_no 0.03240575694921953\n",
      "index_code 0.019003169768062652\n",
      "product_type_no 0.007066596153819411\n",
      "fashion_news_frequency 0.0\n",
      "perceived_colour_master_id 0.0\n",
      "perceived_colour_value_id 0.0\n",
      "colour_group_code 0.0\n",
      "graphical_appearance_no 0.0\n"
     ]
    }
   ],
   "source": [
    "# Obtain feature importances\n",
    "for i in ranker.feature_importances_.argsort()[::-1]:\n",
    "    print(columns_to_use[i], ranker.feature_importances_[i]/ranker.feature_importances_.sum())"
   ]
  },
  {
   "cell_type": "markdown",
   "id": "d0203662-df90-46f2-9b72-46859f2e9193",
   "metadata": {},
   "source": [
    "## 6. Calculate predictions"
   ]
  },
  {
   "cell_type": "code",
   "execution_count": 43,
   "id": "b31f0d1b-c58f-4823-bdc7-991124866b1e",
   "metadata": {},
   "outputs": [
    {
     "data": {
      "text/html": [
       "<div>\n",
       "<style scoped>\n",
       "    .dataframe tbody tr th:only-of-type {\n",
       "        vertical-align: middle;\n",
       "    }\n",
       "\n",
       "    .dataframe tbody tr th {\n",
       "        vertical-align: top;\n",
       "    }\n",
       "\n",
       "    .dataframe thead th {\n",
       "        text-align: right;\n",
       "    }\n",
       "</style>\n",
       "<table border=\"1\" class=\"dataframe\">\n",
       "  <thead>\n",
       "    <tr style=\"text-align: right;\">\n",
       "      <th></th>\n",
       "      <th>t_dat</th>\n",
       "      <th>customer_id</th>\n",
       "      <th>article_id</th>\n",
       "      <th>price</th>\n",
       "      <th>sales_channel_id</th>\n",
       "      <th>week</th>\n",
       "      <th>purchased</th>\n",
       "      <th>product_code</th>\n",
       "      <th>prod_name</th>\n",
       "      <th>product_type_no</th>\n",
       "      <th>...</th>\n",
       "      <th>section_no</th>\n",
       "      <th>section_name</th>\n",
       "      <th>garment_group_no</th>\n",
       "      <th>garment_group_name</th>\n",
       "      <th>detail_desc</th>\n",
       "      <th>club_member_status</th>\n",
       "      <th>fashion_news_frequency</th>\n",
       "      <th>age</th>\n",
       "      <th>postal_code</th>\n",
       "      <th>preds</th>\n",
       "    </tr>\n",
       "  </thead>\n",
       "  <tbody>\n",
       "    <tr>\n",
       "      <th>2463422</th>\n",
       "      <td>2020-09-22</td>\n",
       "      <td>1951136007097426</td>\n",
       "      <td>778745010</td>\n",
       "      <td>0.033881</td>\n",
       "      <td>1</td>\n",
       "      <td>104</td>\n",
       "      <td>1.0</td>\n",
       "      <td>778745</td>\n",
       "      <td>520</td>\n",
       "      <td>297</td>\n",
       "      <td>...</td>\n",
       "      <td>62</td>\n",
       "      <td>31</td>\n",
       "      <td>1017</td>\n",
       "      <td>4</td>\n",
       "      <td>1215</td>\n",
       "      <td>0</td>\n",
       "      <td>0</td>\n",
       "      <td>28.0</td>\n",
       "      <td>150297</td>\n",
       "      <td>-0.004112</td>\n",
       "    </tr>\n",
       "    <tr>\n",
       "      <th>2463423</th>\n",
       "      <td>2020-09-22</td>\n",
       "      <td>1951136007097426</td>\n",
       "      <td>300024064</td>\n",
       "      <td>NaN</td>\n",
       "      <td>1</td>\n",
       "      <td>104</td>\n",
       "      <td>0.0</td>\n",
       "      <td>300024</td>\n",
       "      <td>1021</td>\n",
       "      <td>272</td>\n",
       "      <td>...</td>\n",
       "      <td>8</td>\n",
       "      <td>17</td>\n",
       "      <td>1009</td>\n",
       "      <td>5</td>\n",
       "      <td>551</td>\n",
       "      <td>0</td>\n",
       "      <td>0</td>\n",
       "      <td>28.0</td>\n",
       "      <td>150297</td>\n",
       "      <td>-0.014396</td>\n",
       "    </tr>\n",
       "    <tr>\n",
       "      <th>2463424</th>\n",
       "      <td>2020-09-22</td>\n",
       "      <td>1951136007097426</td>\n",
       "      <td>737040001</td>\n",
       "      <td>NaN</td>\n",
       "      <td>1</td>\n",
       "      <td>104</td>\n",
       "      <td>0.0</td>\n",
       "      <td>737040</td>\n",
       "      <td>2185</td>\n",
       "      <td>252</td>\n",
       "      <td>...</td>\n",
       "      <td>6</td>\n",
       "      <td>10</td>\n",
       "      <td>1005</td>\n",
       "      <td>0</td>\n",
       "      <td>992</td>\n",
       "      <td>0</td>\n",
       "      <td>0</td>\n",
       "      <td>28.0</td>\n",
       "      <td>150297</td>\n",
       "      <td>-0.057842</td>\n",
       "    </tr>\n",
       "    <tr>\n",
       "      <th>2463425</th>\n",
       "      <td>2020-09-22</td>\n",
       "      <td>1951136007097426</td>\n",
       "      <td>824752001</td>\n",
       "      <td>NaN</td>\n",
       "      <td>1</td>\n",
       "      <td>104</td>\n",
       "      <td>0.0</td>\n",
       "      <td>824752</td>\n",
       "      <td>26971</td>\n",
       "      <td>265</td>\n",
       "      <td>...</td>\n",
       "      <td>15</td>\n",
       "      <td>0</td>\n",
       "      <td>1013</td>\n",
       "      <td>8</td>\n",
       "      <td>25470</td>\n",
       "      <td>0</td>\n",
       "      <td>0</td>\n",
       "      <td>28.0</td>\n",
       "      <td>150297</td>\n",
       "      <td>0.028534</td>\n",
       "    </tr>\n",
       "    <tr>\n",
       "      <th>2463426</th>\n",
       "      <td>2020-09-22</td>\n",
       "      <td>1951136007097426</td>\n",
       "      <td>706016003</td>\n",
       "      <td>NaN</td>\n",
       "      <td>1</td>\n",
       "      <td>104</td>\n",
       "      <td>0.0</td>\n",
       "      <td>706016</td>\n",
       "      <td>172</td>\n",
       "      <td>272</td>\n",
       "      <td>...</td>\n",
       "      <td>53</td>\n",
       "      <td>1</td>\n",
       "      <td>1009</td>\n",
       "      <td>5</td>\n",
       "      <td>30</td>\n",
       "      <td>0</td>\n",
       "      <td>0</td>\n",
       "      <td>28.0</td>\n",
       "      <td>150297</td>\n",
       "      <td>-0.051533</td>\n",
       "    </tr>\n",
       "  </tbody>\n",
       "</table>\n",
       "<p>5 rows × 36 columns</p>\n",
       "</div>"
      ],
      "text/plain": [
       "             t_dat       customer_id  article_id     price  sales_channel_id  \\\n",
       "2463422 2020-09-22  1951136007097426   778745010  0.033881                 1   \n",
       "2463423 2020-09-22  1951136007097426   300024064       NaN                 1   \n",
       "2463424 2020-09-22  1951136007097426   737040001       NaN                 1   \n",
       "2463425 2020-09-22  1951136007097426   824752001       NaN                 1   \n",
       "2463426 2020-09-22  1951136007097426   706016003       NaN                 1   \n",
       "\n",
       "         week  purchased  product_code  prod_name  product_type_no  ...  \\\n",
       "2463422   104        1.0        778745        520              297  ...   \n",
       "2463423   104        0.0        300024       1021              272  ...   \n",
       "2463424   104        0.0        737040       2185              252  ...   \n",
       "2463425   104        0.0        824752      26971              265  ...   \n",
       "2463426   104        0.0        706016        172              272  ...   \n",
       "\n",
       "         section_no  section_name  garment_group_no  garment_group_name  \\\n",
       "2463422          62            31              1017                   4   \n",
       "2463423           8            17              1009                   5   \n",
       "2463424           6            10              1005                   0   \n",
       "2463425          15             0              1013                   8   \n",
       "2463426          53             1              1009                   5   \n",
       "\n",
       "         detail_desc  club_member_status  fashion_news_frequency   age  \\\n",
       "2463422         1215                   0                       0  28.0   \n",
       "2463423          551                   0                       0  28.0   \n",
       "2463424          992                   0                       0  28.0   \n",
       "2463425        25470                   0                       0  28.0   \n",
       "2463426           30                   0                       0  28.0   \n",
       "\n",
       "         postal_code     preds  \n",
       "2463422       150297 -0.004112  \n",
       "2463423       150297 -0.014396  \n",
       "2463424       150297 -0.057842  \n",
       "2463425       150297  0.028534  \n",
       "2463426       150297 -0.051533  \n",
       "\n",
       "[5 rows x 36 columns]"
      ]
     },
     "execution_count": 43,
     "metadata": {},
     "output_type": "execute_result"
    }
   ],
   "source": [
    "# Predict on test_X\n",
    "# Add the predictions to the test data (with customer and article id)\n",
    "test['preds'] = ranker.predict(test_X)\n",
    "test.head()"
   ]
  },
  {
   "cell_type": "code",
   "execution_count": 44,
   "id": "0cf18ec7-2ea9-4d17-85a0-eef86f4df237",
   "metadata": {},
   "outputs": [],
   "source": [
    "# Obtain the products for each customer, based on highest predictions.\n",
    "c_id2predicted_article_ids = test \\\n",
    "    .sort_values(['customer_id', 'preds'], ascending=False) \\\n",
    "    .groupby('customer_id')['article_id'].apply(list).to_dict()\n",
    "\n",
    "# c_id2predicted_article_ids[28847241659200] # predicted articles for person 28847241659200"
   ]
  },
  {
   "cell_type": "markdown",
   "id": "eea7c280-a70f-41aa-bf94-b8c39d2391a8",
   "metadata": {},
   "source": [
    "TODO"
   ]
  },
  {
   "cell_type": "code",
   "execution_count": 45,
   "id": "e251ca37-47ac-454a-b6d7-2424ddb6cd31",
   "metadata": {},
   "outputs": [],
   "source": [
    "# # last weeks best sellers will be used in case fewer than 12 recommendations for a customer are made\n",
    "# bestsellers_last_week = \\\n",
    "#     bestsellers_previous_week[bestsellers_previous_week.week == bestsellers_previous_week.week.max()]['article_id'].tolist()"
   ]
  },
  {
   "cell_type": "markdown",
   "id": "00e80ae6-87ff-4364-824d-68e10868319c",
   "metadata": {},
   "source": [
    "## 7. Evaluate results"
   ]
  },
  {
   "cell_type": "markdown",
   "id": "5d81d3bf-291d-4420-9933-6f29e8424515",
   "metadata": {},
   "source": [
    "Mileva has to continue from here. Still figuring out how this code is working."
   ]
  },
  {
   "cell_type": "code",
   "execution_count": 46,
   "id": "aae21fcf-24d7-411b-95a2-6110183d65aa",
   "metadata": {},
   "outputs": [],
   "source": [
    "val_week_purchases_by_cust = pd.read_pickle('data/val_ground_truth.pkl')"
   ]
  },
  {
   "cell_type": "code",
   "execution_count": 47,
   "id": "da52519d-de1e-481d-a3cb-17a8a433b256",
   "metadata": {},
   "outputs": [
    {
     "data": {
      "text/plain": [
       "0.044914051386672885"
      ]
     },
     "execution_count": 47,
     "metadata": {},
     "output_type": "execute_result"
    }
   ],
   "source": [
    "apks = []\n",
    "\n",
    "# If the ranking algorithm proposes fewer than 12 items. Pad with the top best sellers from the previous week\n",
    "for c_id, gt in val_week_purchases_by_cust.items():\n",
    "    pred = c_id2predicted_article_ids.get(c_id, [])\n",
    "    # pred = pred + bestsellers_last_week\n",
    "    apks.append(apk(gt, pred[:12], 12))\n",
    "\n",
    "np.mean(apks)"
   ]
  },
  {
   "cell_type": "markdown",
   "id": "e4caebcc-a11f-4dc7-ba42-69f243f6bfab",
   "metadata": {},
   "source": [
    "## 8. Create submission"
   ]
  },
  {
   "cell_type": "code",
   "execution_count": 48,
   "id": "8d6797fb-caf5-442b-8998-1c4bf32dc182",
   "metadata": {},
   "outputs": [],
   "source": [
    "sub = pd.read_csv('data/sample_submission.csv')"
   ]
  },
  {
   "cell_type": "code",
   "execution_count": 49,
   "id": "1fca1e29-a12d-4041-b111-be412d914901",
   "metadata": {},
   "outputs": [
    {
     "name": "stdout",
     "output_type": "stream",
     "text": [
      "CPU times: user 1.54 s, sys: 74.7 ms, total: 1.62 s\n",
      "Wall time: 1.63 s\n"
     ]
    }
   ],
   "source": [
    "%%time\n",
    "preds = []\n",
    "for c_id in customer_hex_id_to_int(sub.customer_id):\n",
    "    pred = c_id2predicted_article_ids.get(c_id, [])\n",
    "    # pred = pred + bestsellers_last_week\n",
    "    preds.append(pred[:12])"
   ]
  },
  {
   "cell_type": "code",
   "execution_count": 50,
   "id": "a88b4948-0916-4101-b895-745c4e7343d3",
   "metadata": {},
   "outputs": [],
   "source": [
    "preds = [' '.join(['0' + str(p) for p in ps]) for ps in preds]\n",
    "sub.prediction = preds"
   ]
  },
  {
   "cell_type": "code",
   "execution_count": 51,
   "id": "85ad2b63-0b55-4655-adcc-49069e9916f3",
   "metadata": {},
   "outputs": [],
   "source": [
    "# sub_name = '01_model_submission_dl'\n",
    "# sub.to_csv(f'data/subs/{sub_name}.csv', index=False)"
   ]
  },
  {
   "cell_type": "code",
   "execution_count": 52,
   "id": "eebfda51-4e00-4142-917e-dc3f95ddf754",
   "metadata": {},
   "outputs": [],
   "source": [
    "# !kaggle competitions submit -c h-and-m-personalized-fashion-recommendations -f 'data/subs/{sub_name}.csv.gz' -m {sub_name}"
   ]
  },
  {
   "cell_type": "code",
   "execution_count": null,
   "id": "213fc734-db3e-4b2e-b727-566bf57b6d1e",
   "metadata": {},
   "outputs": [],
   "source": []
  }
 ],
 "metadata": {
  "kernelspec": {
   "display_name": "Python 3 (ipykernel)",
   "language": "python",
   "name": "python3"
  },
  "language_info": {
   "codemirror_mode": {
    "name": "ipython",
    "version": 3
   },
   "file_extension": ".py",
   "mimetype": "text/x-python",
   "name": "python",
   "nbconvert_exporter": "python",
   "pygments_lexer": "ipython3",
   "version": "3.9.7"
  }
 },
 "nbformat": 4,
 "nbformat_minor": 5
}
