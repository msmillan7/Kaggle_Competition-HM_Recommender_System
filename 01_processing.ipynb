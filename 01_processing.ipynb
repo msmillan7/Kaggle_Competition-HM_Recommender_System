{
 "cells": [
  {
   "cell_type": "markdown",
   "id": "d8698d7d-e8a8-47dd-84fe-ccc1a1b661b3",
   "metadata": {
    "tags": []
   },
   "source": [
    "# Data Loading and Processing"
   ]
  },
  {
   "cell_type": "markdown",
   "id": "c432af31-ed69-4aed-a68c-8f34bdebc1dd",
   "metadata": {},
   "source": [
    "* pip install pyarrow  "
   ]
  },
  {
   "cell_type": "markdown",
   "id": "c6cff1e7-edf9-401f-8e68-1b166187a0b2",
   "metadata": {},
   "source": [
    "## 1. Imports and setup"
   ]
  },
  {
   "cell_type": "code",
   "execution_count": 1,
   "id": "9e20af89-5284-47f3-9fb5-8fb5ca4433fd",
   "metadata": {},
   "outputs": [],
   "source": [
    "# !wget https://raw.githubusercontent.com/benhamner/Metrics/master/Python/ml_metrics/average_precision.py"
   ]
  },
  {
   "cell_type": "code",
   "execution_count": 2,
   "id": "f708c335-a8e4-4a21-bd76-e4abf325453c",
   "metadata": {},
   "outputs": [],
   "source": [
    "# helper functions\n",
    "from sklearn.base import BaseEstimator, TransformerMixin\n",
    "import numpy as np\n",
    "from average_precision import apk, mapk\n",
    "\n",
    "# Helper functions for improving memory\n",
    "# https://www.kaggle.com/c/h-and-m-personalized-fashion-recommendations/discussion/308635\n",
    "def customer_hex_id_to_int(series):\n",
    "    return series.str[-16:].apply(hex_id_to_int)\n",
    "\n",
    "def hex_id_to_int(str):\n",
    "    return int(str[-16:], 16)\n",
    "\n",
    "def article_id_str_to_int(series):\n",
    "    return series.astype('int32')\n",
    "\n",
    "def article_id_int_to_str(series):\n",
    "    return '0' + series.astype('str')\n",
    "\n",
    "# Transforms categorical columns into categorical types\n",
    "class Categorize(BaseEstimator, TransformerMixin):\n",
    "    def __init__(self, min_examples=0):\n",
    "        self.min_examples = min_examples\n",
    "        self.categories = []\n",
    "        \n",
    "    def fit(self, X):\n",
    "        ''' Identifies the categorical variables in our data based on the number of unique value counts'''\n",
    "        for i in range(X.shape[1]):\n",
    "            vc = X.iloc[:, i].value_counts() # value counts for each column\n",
    "            self.categories.append(vc[vc > self.min_examples].index.tolist()) # keeps columns whose value counts are large enough\n",
    "        return self\n",
    "\n",
    "    def transform(self, X):\n",
    "        ''' Transforms the categorical variables into numerical codes'''\n",
    "        data = {X.columns[i]: pd.Categorical(X.iloc[:, i], categories=self.categories[i]).codes for i in range(X.shape[1])}\n",
    "        print(data)\n",
    "        return pd.DataFrame(data=data)"
   ]
  },
  {
   "cell_type": "markdown",
   "id": "2a869725-7d19-478b-b201-e7494c5a050e",
   "metadata": {},
   "source": [
    "## 2. Read Data"
   ]
  },
  {
   "cell_type": "code",
   "execution_count": 3,
   "id": "f858f0cc-1212-4ca9-b1f0-781c0d4e87e9",
   "metadata": {},
   "outputs": [],
   "source": [
    "import pandas as pd\n",
    "\n",
    "transactions = pd.read_csv('data/transactions_train.csv', dtype={\"article_id\": \"str\"})\n",
    "customers = pd.read_csv('data/customers.csv')\n",
    "articles = pd.read_csv('data/articles.csv', dtype={\"article_id\": \"str\"})"
   ]
  },
  {
   "cell_type": "markdown",
   "id": "c51c1437-e018-44d8-9a85-a662305a595b",
   "metadata": {},
   "source": [
    "## 3. Process Data"
   ]
  },
  {
   "cell_type": "markdown",
   "id": "7640ca16-5201-4959-a147-f62b19c969f7",
   "metadata": {},
   "source": [
    "#### Apply memory reducing techniques to transactions.csv"
   ]
  },
  {
   "cell_type": "code",
   "execution_count": 4,
   "id": "ab71a705-e801-4c5a-83c0-067fc16a40b7",
   "metadata": {},
   "outputs": [
    {
     "name": "stdout",
     "output_type": "stream",
     "text": [
      "<class 'pandas.core.frame.DataFrame'>\n",
      "RangeIndex: 31788324 entries, 0 to 31788323\n",
      "Data columns (total 5 columns):\n",
      " #   Column            Dtype  \n",
      "---  ------            -----  \n",
      " 0   t_dat             object \n",
      " 1   customer_id       uint64 \n",
      " 2   article_id        object \n",
      " 3   price             float64\n",
      " 4   sales_channel_id  int64  \n",
      "dtypes: float64(1), int64(1), object(2), uint64(1)\n",
      "memory usage: 4.7 GB\n"
     ]
    }
   ],
   "source": [
    "# Convert customer_id to int\n",
    "transactions['customer_id'] = customer_hex_id_to_int(transactions['customer_id'])\n",
    "transactions.info(memory_usage='deep')"
   ]
  },
  {
   "cell_type": "code",
   "execution_count": 5,
   "id": "a2d51764-9e52-4bf9-8356-ad0d4c36fa59",
   "metadata": {},
   "outputs": [
    {
     "data": {
      "text/plain": [
       "t_dat               0\n",
       "customer_id         0\n",
       "article_id          0\n",
       "price               0\n",
       "sales_channel_id    0\n",
       "dtype: int64"
      ]
     },
     "execution_count": 5,
     "metadata": {},
     "output_type": "execute_result"
    }
   ],
   "source": [
    "transactions.isna().sum()"
   ]
  },
  {
   "cell_type": "code",
   "execution_count": 6,
   "id": "126ed758-b1d9-4198-9f84-33bcbfd05a95",
   "metadata": {},
   "outputs": [],
   "source": [
    "#Remove rows with NAs\n",
    "transactions.dropna(inplace=True)"
   ]
  },
  {
   "cell_type": "code",
   "execution_count": 7,
   "id": "d3e121c2-8a0b-4012-8d73-ff30be7e37d1",
   "metadata": {},
   "outputs": [],
   "source": [
    "# Convert transaction dates to datetime\n",
    "transactions.t_dat = pd.to_datetime(transactions.t_dat, format='%Y-%m-%d')"
   ]
  },
  {
   "cell_type": "code",
   "execution_count": 8,
   "id": "c5fc9ab7-d4b8-4bb5-96dd-25cb212946f2",
   "metadata": {},
   "outputs": [],
   "source": [
    "# Convert article_id, price, sales_channel_id, and week\n",
    "transactions.article_id = article_id_str_to_int(transactions.article_id)\n",
    "articles.article_id = article_id_str_to_int(articles.article_id)\n",
    "\n",
    "transactions.sales_channel_id = transactions.sales_channel_id.astype('int8')\n",
    "transactions.price = transactions.price.astype('float32')"
   ]
  },
  {
   "cell_type": "markdown",
   "id": "2abe8a4e-65ec-4cdb-bf61-c21d5d3dc569",
   "metadata": {
    "tags": []
   },
   "source": [
    "#### Add *week* in transactions table"
   ]
  },
  {
   "cell_type": "markdown",
   "id": "36c9dca3-cabb-4bb4-ac0a-2a1e9d7da3b3",
   "metadata": {},
   "source": [
    "Week 0 corresponds to the first week and week 104 corresponds to the final week of the data"
   ]
  },
  {
   "cell_type": "code",
   "execution_count": 9,
   "id": "9d57ad6f-a958-4b3d-b849-d27dfbb83751",
   "metadata": {},
   "outputs": [],
   "source": [
    "DURATION_IN_WEEKS = 104 # Transactions take place over 104 weeks\n",
    "transactions['week'] = DURATION_IN_WEEKS - (transactions.t_dat.max() - transactions.t_dat).dt.days // 7\n",
    "\n",
    "# Memory optimization\n",
    "transactions.week = transactions.week.astype('int8')"
   ]
  },
  {
   "cell_type": "code",
   "execution_count": 10,
   "id": "511fd984-ca37-4a23-99c2-155d0286995e",
   "metadata": {},
   "outputs": [
    {
     "name": "stdout",
     "output_type": "stream",
     "text": [
      "<class 'pandas.core.frame.DataFrame'>\n",
      "Int64Index: 31788324 entries, 0 to 31788323\n",
      "Data columns (total 6 columns):\n",
      " #   Column            Dtype         \n",
      "---  ------            -----         \n",
      " 0   t_dat             datetime64[ns]\n",
      " 1   customer_id       uint64        \n",
      " 2   article_id        int32         \n",
      " 3   price             float32       \n",
      " 4   sales_channel_id  int8          \n",
      " 5   week              int8          \n",
      "dtypes: datetime64[ns](1), float32(1), int32(1), int8(2), uint64(1)\n",
      "memory usage: 1.0 GB\n"
     ]
    }
   ],
   "source": [
    "transactions.info(memory_usage='deep')"
   ]
  },
  {
   "cell_type": "markdown",
   "id": "616b0936-2092-4a82-a636-6d8ebf51f04c",
   "metadata": {},
   "source": [
    "#### Apply memory reducing techniques to customers.csv"
   ]
  },
  {
   "cell_type": "code",
   "execution_count": 11,
   "id": "874bea65-220b-45de-a952-4553f785236f",
   "metadata": {},
   "outputs": [],
   "source": [
    "customers.customer_id = customer_hex_id_to_int(customers.customer_id)"
   ]
  },
  {
   "cell_type": "code",
   "execution_count": 12,
   "id": "ed69e0ae-0cf0-40d1-b213-c7c427ea3087",
   "metadata": {},
   "outputs": [
    {
     "data": {
      "text/plain": [
       "customer_id                    0\n",
       "FN                        895050\n",
       "Active                    907576\n",
       "club_member_status          6062\n",
       "fashion_news_frequency     16009\n",
       "age                        15861\n",
       "postal_code                    0\n",
       "dtype: int64"
      ]
     },
     "execution_count": 12,
     "metadata": {},
     "output_type": "execute_result"
    }
   ],
   "source": [
    "customers.isna().sum()"
   ]
  },
  {
   "cell_type": "code",
   "execution_count": 13,
   "id": "d46f5938-33df-4312-89b7-7a70afe04317",
   "metadata": {},
   "outputs": [],
   "source": [
    "#Drop FN and Active Columns\n",
    "customers.drop([\"Active\", \"FN\"], axis=1, inplace=True)"
   ]
  },
  {
   "cell_type": "code",
   "execution_count": 14,
   "id": "697b2732-3140-419d-8cbc-a0808424d538",
   "metadata": {},
   "outputs": [],
   "source": [
    "#Replace Age with the mean\n",
    "mean_age = customers['age'].median()\n",
    "customers['age'].fillna(mean_age,inplace=True)"
   ]
  },
  {
   "cell_type": "code",
   "execution_count": 15,
   "id": "73d6ca54-4ea6-435e-9624-f8849208d0df",
   "metadata": {},
   "outputs": [],
   "source": [
    "#For club_member_status and fashion_news_frequency replace NAs with most common value\n",
    "customers['fashion_news_frequency'].fillna(customers['fashion_news_frequency'].value_counts().index[0],inplace=True)\n",
    "customers['club_member_status'].fillna(customers['club_member_status'].value_counts().index[0],inplace=True)"
   ]
  },
  {
   "cell_type": "code",
   "execution_count": 16,
   "id": "4a67abdf-db29-42b8-b050-68051315dc2e",
   "metadata": {},
   "outputs": [
    {
     "name": "stdout",
     "output_type": "stream",
     "text": [
      "{'club_member_status': array([0, 0, 0, ..., 0, 0, 1], dtype=int8)}\n",
      "{'postal_code': array([  6305,  33726,   3247, ..., 106737, 111894, 352898], dtype=int32)}\n",
      "{'fashion_news_frequency': array([0, 0, 0, ..., 1, 1, 0], dtype=int8)}\n"
     ]
    }
   ],
   "source": [
    "customers.club_member_status = Categorize().fit_transform(customers[['club_member_status']]).club_member_status\n",
    "customers.postal_code = Categorize().fit_transform(customers[['postal_code']]).postal_code\n",
    "customers.fashion_news_frequency = Categorize().fit_transform(customers[['fashion_news_frequency']]).fashion_news_frequency"
   ]
  },
  {
   "cell_type": "markdown",
   "id": "641e2151-cc5c-4b40-b8dd-92715b0d2b89",
   "metadata": {},
   "source": [
    "#### Apply memory reducing techniques to articles.csv"
   ]
  },
  {
   "cell_type": "code",
   "execution_count": 17,
   "id": "5dbcdeb0-3017-4457-9995-c90459ee567d",
   "metadata": {},
   "outputs": [
    {
     "name": "stdout",
     "output_type": "stream",
     "text": [
      "{'prod_name': array([12855, 12855, 44846, ..., 24040, 24041, 45874], dtype=int32)}\n",
      "{'product_type_name': array([ 9,  9,  9, ...,  1, 48,  1], dtype=int16)}\n",
      "{'product_group_name': array([0, 0, 0, ..., 2, 3, 2], dtype=int8)}\n",
      "{'graphical_appearance_name': array([0, 0, 3, ..., 0, 0, 0], dtype=int8)}\n",
      "{'colour_group_name': array([ 0,  2, 11, ...,  0,  0, 11], dtype=int8)}\n",
      "{'perceived_colour_value_name': array([0, 2, 1, ..., 0, 0, 1], dtype=int8)}\n",
      "{'perceived_colour_master_name': array([0, 2, 2, ..., 0, 0, 2], dtype=int8)}\n",
      "{'department_name': array([10, 10, 10, ...,  0, 29,  0], dtype=int16)}\n",
      "{'index_code': array([0, 0, 0, ..., 0, 1, 0], dtype=int8)}\n",
      "{'index_name': array([0, 0, 0, ..., 0, 1, 0], dtype=int8)}\n",
      "{'index_group_name': array([0, 0, 0, ..., 0, 2, 0], dtype=int8)}\n",
      "{'section_name': array([30, 30, 30, ..., 12, 25, 12], dtype=int8)}\n",
      "{'garment_group_name': array([2, 2, 2, ..., 0, 1, 0], dtype=int8)}\n",
      "{'detail_desc': array([ 8834,  8834,  8834, ..., 28024, 28023, 43403], dtype=int32)}\n"
     ]
    }
   ],
   "source": [
    "for col in articles.columns:\n",
    "    if articles[col].dtype == 'object':\n",
    "        articles[col] = Categorize().fit_transform(articles[[col]])[col]"
   ]
  },
  {
   "cell_type": "code",
   "execution_count": 18,
   "id": "089188e7-4a40-4451-9182-b68865f2d9b1",
   "metadata": {},
   "outputs": [],
   "source": [
    "for col in articles.columns:\n",
    "    if articles[col].dtype == 'int64':\n",
    "        articles[col] = articles[col].astype('int32')"
   ]
  },
  {
   "cell_type": "markdown",
   "id": "c4feb267-523c-4ce0-af88-5ad0477c333c",
   "metadata": {},
   "source": [
    "## 4. Save preprocessed data in parquet files"
   ]
  },
  {
   "cell_type": "code",
   "execution_count": 19,
   "id": "d9148bc6-3352-4f90-87f0-4dece4420fd7",
   "metadata": {},
   "outputs": [],
   "source": [
    "transactions.sort_values(['t_dat', 'customer_id'], inplace=True)"
   ]
  },
  {
   "cell_type": "code",
   "execution_count": 20,
   "id": "35f5ba71-623a-4fe1-9241-bf6c7dda876f",
   "metadata": {},
   "outputs": [],
   "source": [
    "transactions.to_parquet('data/transactions_train.parquet')\n",
    "customers.to_parquet('data/customers.parquet')\n",
    "articles.to_parquet('data/articles.parquet')"
   ]
  },
  {
   "cell_type": "markdown",
   "id": "2829a781-8d32-49b3-b5aa-85615bc2822f",
   "metadata": {},
   "source": [
    "## 5. Create Training and Test sets"
   ]
  },
  {
   "cell_type": "markdown",
   "id": "ee806f1f-4ae5-4159-8267-a838bf578928",
   "metadata": {},
   "source": [
    "\"Leave One Last Item\" train, validation, test split from https://arxiv.org/pdf/2007.13237.pdf"
   ]
  },
  {
   "cell_type": "code",
   "execution_count": 21,
   "id": "943e6245-3aba-4eaf-bbff-a9ee57d04137",
   "metadata": {},
   "outputs": [],
   "source": [
    "val_week = transactions[\"week\"].max() # Last week in the training set\n",
    "\n",
    "# train/ val transactions sets\n",
    "transactions_train = transactions[transactions[\"week\"] != val_week].reset_index(drop = True)\n",
    "transactions_val = transactions[transactions[\"week\"] == val_week].reset_index(drop = True)"
   ]
  },
  {
   "cell_type": "code",
   "execution_count": 22,
   "id": "14b72593-ded7-4ba8-ba6d-f6a87e2a0f20",
   "metadata": {},
   "outputs": [
    {
     "data": {
      "text/html": [
       "<div>\n",
       "<style scoped>\n",
       "    .dataframe tbody tr th:only-of-type {\n",
       "        vertical-align: middle;\n",
       "    }\n",
       "\n",
       "    .dataframe tbody tr th {\n",
       "        vertical-align: top;\n",
       "    }\n",
       "\n",
       "    .dataframe thead th {\n",
       "        text-align: right;\n",
       "    }\n",
       "</style>\n",
       "<table border=\"1\" class=\"dataframe\">\n",
       "  <thead>\n",
       "    <tr style=\"text-align: right;\">\n",
       "      <th></th>\n",
       "      <th>t_dat</th>\n",
       "      <th>customer_id</th>\n",
       "      <th>article_id</th>\n",
       "      <th>price</th>\n",
       "      <th>sales_channel_id</th>\n",
       "      <th>week</th>\n",
       "    </tr>\n",
       "  </thead>\n",
       "  <tbody>\n",
       "    <tr>\n",
       "      <th>0</th>\n",
       "      <td>2018-09-20</td>\n",
       "      <td>1728846800780188</td>\n",
       "      <td>519773001</td>\n",
       "      <td>0.028458</td>\n",
       "      <td>2</td>\n",
       "      <td>0</td>\n",
       "    </tr>\n",
       "    <tr>\n",
       "      <th>1</th>\n",
       "      <td>2018-09-20</td>\n",
       "      <td>1728846800780188</td>\n",
       "      <td>578472001</td>\n",
       "      <td>0.032525</td>\n",
       "      <td>2</td>\n",
       "      <td>0</td>\n",
       "    </tr>\n",
       "    <tr>\n",
       "      <th>2</th>\n",
       "      <td>2018-09-20</td>\n",
       "      <td>2076973761519164</td>\n",
       "      <td>661795002</td>\n",
       "      <td>0.167797</td>\n",
       "      <td>2</td>\n",
       "      <td>0</td>\n",
       "    </tr>\n",
       "    <tr>\n",
       "      <th>3</th>\n",
       "      <td>2018-09-20</td>\n",
       "      <td>2076973761519164</td>\n",
       "      <td>684080003</td>\n",
       "      <td>0.101678</td>\n",
       "      <td>2</td>\n",
       "      <td>0</td>\n",
       "    </tr>\n",
       "    <tr>\n",
       "      <th>4</th>\n",
       "      <td>2018-09-20</td>\n",
       "      <td>2918879973994241</td>\n",
       "      <td>662980001</td>\n",
       "      <td>0.033881</td>\n",
       "      <td>1</td>\n",
       "      <td>0</td>\n",
       "    </tr>\n",
       "  </tbody>\n",
       "</table>\n",
       "</div>"
      ],
      "text/plain": [
       "       t_dat       customer_id  article_id     price  sales_channel_id  week\n",
       "0 2018-09-20  1728846800780188   519773001  0.028458                 2     0\n",
       "1 2018-09-20  1728846800780188   578472001  0.032525                 2     0\n",
       "2 2018-09-20  2076973761519164   661795002  0.167797                 2     0\n",
       "3 2018-09-20  2076973761519164   684080003  0.101678                 2     0\n",
       "4 2018-09-20  2918879973994241   662980001  0.033881                 1     0"
      ]
     },
     "execution_count": 22,
     "metadata": {},
     "output_type": "execute_result"
    }
   ],
   "source": [
    "transactions_train.head()"
   ]
  },
  {
   "cell_type": "markdown",
   "id": "18c8f14f-637f-4179-854f-c21c43981f0b",
   "metadata": {},
   "source": [
    "## 6. Create Training \"Targets\" (Ground Truth)"
   ]
  },
  {
   "cell_type": "markdown",
   "id": "0c0aff85-fbe2-49cc-a0a0-2ea4d920137f",
   "metadata": {},
   "source": [
    "ALL WEEKS - LAST WEEK\n",
    "\n",
    "Ground Truth: a dictionary of all customers and the list of articles they purchased in the training weeks"
   ]
  },
  {
   "cell_type": "code",
   "execution_count": 23,
   "id": "192e5518-8982-4f10-88f5-fe8c46e7707f",
   "metadata": {},
   "outputs": [],
   "source": [
    "from collections import defaultdict\n",
    "\n",
    "train_ground_truth = transactions_train\\\n",
    "        .groupby('customer_id')['article_id']\\\n",
    "        .apply(list)\\\n",
    "        .to_dict()"
   ]
  },
  {
   "cell_type": "markdown",
   "id": "8a7645a5-36a6-4673-929d-f3c36f6438c8",
   "metadata": {},
   "source": [
    "save dictionary as pkl file"
   ]
  },
  {
   "cell_type": "code",
   "execution_count": 24,
   "id": "e819376f-ef7c-46fe-80d7-7c9905098029",
   "metadata": {},
   "outputs": [],
   "source": [
    "pd.to_pickle(dict(train_ground_truth), 'data/train_ground_truth.pkl')"
   ]
  },
  {
   "cell_type": "markdown",
   "id": "585f145c-d10e-44db-b9ea-c79ddf2645ba",
   "metadata": {},
   "source": [
    "## 7. Create Validation \"Targets\" (Ground Truth) "
   ]
  },
  {
   "cell_type": "markdown",
   "id": "b7ac4d4f-a4b6-435b-8678-10922b658552",
   "metadata": {},
   "source": [
    "LAST WEEK\n",
    "\n",
    "Ground Truth: a dictionary of all customers and the list of articles they purchased in the last week"
   ]
  },
  {
   "cell_type": "code",
   "execution_count": 25,
   "id": "1b456568-dc4b-4b9e-929b-48a244c513a4",
   "metadata": {},
   "outputs": [],
   "source": [
    "from collections import defaultdict\n",
    "\n",
    "val_ground_truth = transactions_val\\\n",
    "    .groupby(\"customer_id\")[\"article_id\"]\\\n",
    "    .apply(list)\\\n",
    "    .to_dict()\n",
    "\n",
    "# example format of val_week_purchases_by_cust\n",
    "#val_ground_truth[1402273113592184] # key = 1402273113592184"
   ]
  },
  {
   "cell_type": "markdown",
   "id": "4ab14103-5ea2-4ae2-8926-373881d2eb06",
   "metadata": {},
   "source": [
    "save dictionary as pkl file"
   ]
  },
  {
   "cell_type": "code",
   "execution_count": 26,
   "id": "70a5c2e1-e939-458e-a7c5-86a26f7cd01e",
   "metadata": {},
   "outputs": [],
   "source": [
    "pd.to_pickle(dict(val_ground_truth), 'data/val_ground_truth.pkl')"
   ]
  },
  {
   "cell_type": "markdown",
   "id": "a570bf96-bafc-4b3a-802d-e7b322a8fe58",
   "metadata": {},
   "source": [
    "## 8. Subset Trainig Data"
   ]
  },
  {
   "cell_type": "markdown",
   "id": "3b69c583-4371-4dc4-bdb1-0e669a1512c9",
   "metadata": {},
   "source": [
    "For subseting the data we are performing two steps:\n",
    "1. Randomly subset a percentage of the rows from the transactions dataset\n",
    "2. Retain only the customers with more than k transactions"
   ]
  },
  {
   "cell_type": "markdown",
   "id": "7246468f-0297-4043-9698-9bfd1fbad7a1",
   "metadata": {},
   "source": [
    "### 8.1 Random selection"
   ]
  },
  {
   "cell_type": "code",
   "execution_count": 27,
   "id": "2e47f23c-c185-41cc-aa29-8e3f11ab933a",
   "metadata": {},
   "outputs": [
    {
     "data": {
      "text/plain": [
       "1371980"
      ]
     },
     "execution_count": 27,
     "metadata": {},
     "output_type": "execute_result"
    }
   ],
   "source": [
    "len(customers)"
   ]
  },
  {
   "cell_type": "code",
   "execution_count": 28,
   "id": "ae4a15d2-8d8e-4ce2-ab78-0ac05d6f6094",
   "metadata": {},
   "outputs": [
    {
     "data": {
      "text/plain": [
       "41159"
      ]
     },
     "execution_count": 28,
     "metadata": {},
     "output_type": "execute_result"
    }
   ],
   "source": [
    "# Create a 3% sample of the entiriety of the data to speed up dev\n",
    "sample = 0.03\n",
    "customers_sample_rnd = customers.sample(frac=sample, replace=False, random_state = 42)\n",
    "customers_sample_ids = set(customers_sample_rnd['customer_id'])\n",
    "transactions_sample_rnd = transactions_train[transactions_train[\"customer_id\"].isin(customers_sample_ids)]\n",
    "articles_sample_ids = set(transactions_sample_rnd[\"article_id\"])\n",
    "articles_sample_rnd = articles[articles[\"article_id\"].isin(articles_sample_ids)]\n",
    "\n",
    "len(customers_sample_rnd)"
   ]
  },
  {
   "cell_type": "code",
   "execution_count": 29,
   "id": "87705b9e-705d-4c96-a6f9-c9493717dd49",
   "metadata": {},
   "outputs": [
    {
     "data": {
      "text/plain": [
       "(934980, 6)"
      ]
     },
     "execution_count": 29,
     "metadata": {},
     "output_type": "execute_result"
    }
   ],
   "source": [
    "transactions_sample_rnd.shape"
   ]
  },
  {
   "cell_type": "markdown",
   "id": "f3c3c35a-e076-4043-92f1-792cd877bfec",
   "metadata": {},
   "source": [
    "### 8.2 Retain customers with enough history data"
   ]
  },
  {
   "cell_type": "markdown",
   "id": "8940b0b9-c9f9-49a1-865c-0531bd4cd3a6",
   "metadata": {},
   "source": [
    "Identify customers with more than *k* transactions"
   ]
  },
  {
   "cell_type": "code",
   "execution_count": 30,
   "id": "12aca667-6a05-439f-996a-6fe95b70d81d",
   "metadata": {},
   "outputs": [
    {
     "data": {
      "text/plain": [
       "15334"
      ]
     },
     "execution_count": 30,
     "metadata": {},
     "output_type": "execute_result"
    }
   ],
   "source": [
    "MIN_TRANSACTIONS = 15\n",
    "\n",
    "# Retain only customers who make at least MIN_TRANSACTIONS transactions\n",
    "num_transactions = transactions_sample_rnd[\"customer_id\"].value_counts()\n",
    "customer_ids_retained = num_transactions[num_transactions > MIN_TRANSACTIONS].index.tolist()\n",
    "\n",
    "len(customer_ids_retained)"
   ]
  },
  {
   "cell_type": "markdown",
   "id": "4e866934-3e36-4c21-87ce-6b12c27d83a9",
   "metadata": {},
   "source": [
    "Subsample customers, transactions, and articles"
   ]
  },
  {
   "cell_type": "code",
   "execution_count": 31,
   "id": "c12ea118-6efe-4aee-9593-190b112fc13a",
   "metadata": {},
   "outputs": [
    {
     "data": {
      "text/plain": [
       "(796281, 6)"
      ]
     },
     "execution_count": 31,
     "metadata": {},
     "output_type": "execute_result"
    }
   ],
   "source": [
    "# Subsample of customers, transactions\n",
    "customers_sample = customers_sample_rnd[customers_sample_rnd[\"customer_id\"].isin(customer_ids_retained)]\n",
    "transactions_sample = transactions_sample_rnd[transactions_sample_rnd[\"customer_id\"].isin(customer_ids_retained)]\n",
    "\n",
    "# Subsample of articles\n",
    "article_ids_retained = set(transactions_sample_rnd[\"article_id\"])\n",
    "articles_sample = articles_sample_rnd[articles_sample_rnd[\"article_id\"].isin(article_ids_retained)]\n",
    "\n",
    "transactions_sample.shape"
   ]
  },
  {
   "cell_type": "markdown",
   "id": "04f58c60-43f7-4069-83b3-c6d5f1eee558",
   "metadata": {},
   "source": [
    "## 9. Save Training and Validation Data"
   ]
  },
  {
   "cell_type": "markdown",
   "id": "3638fff9-6ff0-45a7-b2a8-252d41087209",
   "metadata": {},
   "source": [
    "Save Training data into parquets:"
   ]
  },
  {
   "cell_type": "code",
   "execution_count": 32,
   "id": "6c91e48c-c362-46e7-9384-fca763188ff2",
   "metadata": {},
   "outputs": [],
   "source": [
    "customers_sample.to_parquet(f'data/customers_train_sample_gt{MIN_TRANSACTIONS}transactions.parquet', index=False)\n",
    "transactions_sample.to_parquet(f'data/transactions_train_sample_gt{MIN_TRANSACTIONS}transactions.parquet', index=False)\n",
    "articles_sample.to_parquet(f'data/articles_train_sample_gt{MIN_TRANSACTIONS}transactions.parquet', index=False)"
   ]
  },
  {
   "cell_type": "markdown",
   "id": "461ca65a-3203-4b17-aa63-38ab4d4619cb",
   "metadata": {},
   "source": [
    "Save Validation data into parquets:"
   ]
  },
  {
   "cell_type": "code",
   "execution_count": 33,
   "id": "447e751d-a91b-4281-a0e1-0073a83db657",
   "metadata": {},
   "outputs": [],
   "source": [
    "transactions_val.to_parquet(f'data/transactions_val.parquet', index=False)"
   ]
  },
  {
   "cell_type": "code",
   "execution_count": null,
   "id": "8f27b8b0-b9f2-4ad6-8c43-e15a296b1810",
   "metadata": {},
   "outputs": [],
   "source": []
  }
 ],
 "metadata": {
  "kernelspec": {
   "display_name": "Python 3 (ipykernel)",
   "language": "python",
   "name": "python3"
  },
  "language_info": {
   "codemirror_mode": {
    "name": "ipython",
    "version": 3
   },
   "file_extension": ".py",
   "mimetype": "text/x-python",
   "name": "python",
   "nbconvert_exporter": "python",
   "pygments_lexer": "ipython3",
   "version": "3.9.7"
  },
  "toc-autonumbering": false
 },
 "nbformat": 4,
 "nbformat_minor": 5
}
